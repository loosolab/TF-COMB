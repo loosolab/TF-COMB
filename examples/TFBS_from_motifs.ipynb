{
 "cells": [
  {
   "cell_type": "markdown",
   "metadata": {},
   "source": [
    "# TFBS from motifs"
   ]
  },
  {
   "cell_type": "markdown",
   "metadata": {},
   "source": [
    "In this notebook, we show how a CombObj can be set up using motifs and a set of target regions."
   ]
  },
  {
   "cell_type": "markdown",
   "metadata": {},
   "source": [
    "## Setup a CombObj"
   ]
  },
  {
   "cell_type": "code",
   "execution_count": 1,
   "metadata": {},
   "outputs": [],
   "source": [
    "from tfcomb import CombObj\n",
    "C = CombObj()"
   ]
  },
  {
   "cell_type": "markdown",
   "metadata": {},
   "source": [
    "## Search for TFBS within peak regions"
   ]
  },
  {
   "cell_type": "markdown",
   "metadata": {},
   "source": [
    "We are using a subset of ATAC-seq peaks from GM12878 as the target regions. The .TFBS variable can then be filled as seen here:"
   ]
  },
  {
   "cell_type": "code",
   "execution_count": 2,
   "metadata": {},
   "outputs": [
    {
     "name": "stdout",
     "output_type": "stream",
     "text": [
      "INFO: Scanning for TFBS with 4 thread(s)...\n",
      "INFO: Progress: 10%\n",
      "INFO: Progress: 20%\n",
      "INFO: Progress: 30%\n",
      "INFO: Progress: 40%\n",
      "INFO: Progress: 50%\n",
      "INFO: Progress: 60%\n",
      "INFO: Progress: 70%\n",
      "INFO: Progress: 80%\n",
      "INFO: Progress: 90%\n",
      "INFO: Finished!\n",
      "INFO: Formatting scanned TFBS\n",
      "INFO: Identified 945192 TFBS (401 unique names) within given regions\n"
     ]
    }
   ],
   "source": [
    "C.TFBS_from_motifs(regions=\"../data/GM12878_hg38_chr4_ATAC_peaks.bed\", \n",
    "                   motifs=\"../data/HOCOMOCOv11_HUMAN_motifs.txt\",\n",
    "                   genome=\"../data/hg38_chr4.fa.gz\", \n",
    "                   threads=4)"
   ]
  },
  {
   "cell_type": "code",
   "execution_count": 3,
   "metadata": {},
   "outputs": [
    {
     "data": {
      "text/plain": [
       "[chr4\t11716\t11738\tZNF335\t6.97176\t-,\n",
       " chr4\t11727\t11745\tBATF\t7.31027\t-,\n",
       " chr4\t11731\t11751\tZNF250\t-0.11002\t-,\n",
       " chr4\t11741\t11756\tESR1\t7.16201\t-,\n",
       " chr4\t11746\t11755\tHIC1\t9.39772\t+,\n",
       " chr4\t11750\t11767\tCTCFL\t6.63272\t-,\n",
       " chr4\t11750\t11769\tCTCF\t7.59312\t-,\n",
       " chr4\t11750\t11772\tTHAP1\t10.09272\t+,\n",
       " chr4\t11761\t11779\tZSCAN31\t7.02795\t+,\n",
       " chr4\t11765\t11784\tZNF667\t8.13384\t-]"
      ]
     },
     "execution_count": 1,
     "metadata": {},
     "output_type": "execute_result"
    }
   ],
   "source": [
    "C.TFBS[:10]"
   ]
  },
  {
   "cell_type": "markdown",
   "metadata": {},
   "source": [
    "## Perform market basket analysis"
   ]
  },
  {
   "cell_type": "markdown",
   "metadata": {},
   "source": [
    "As shown in previous notebooks, we can now perform the market basket analysis on the sites within .TFBS:"
   ]
  },
  {
   "cell_type": "code",
   "execution_count": 4,
   "metadata": {},
   "outputs": [
    {
     "name": "stdout",
     "output_type": "stream",
     "text": [
      "WARNING: No counts found in <CombObj>. Running <CombObj>.count_within() with standard parameters.\n",
      "INFO: Setting up binding sites for counting\n",
      "INFO: Counting co-occurrences within sites\n",
      "INFO: Counting co-occurrence within background\n",
      "INFO: Progress: 10%\n",
      "INFO: Progress: 20%\n",
      "INFO: Progress: 32%\n",
      "INFO: Progress: 40%\n",
      "INFO: Progress: 50%\n",
      "INFO: Progress: 60%\n",
      "INFO: Progress: 70%\n",
      "INFO: Progress: 80%\n",
      "INFO: Progress: 90%\n",
      "INFO: Finished!\n",
      "INFO: Done finding co-occurrences! Run .market_basket() to estimate significant pairs\n",
      "INFO: Market basket analysis is done! Results are found in <CombObj>.rules\n"
     ]
    }
   ],
   "source": [
    "C.market_basket(threads=10)"
   ]
  },
  {
   "cell_type": "code",
   "execution_count": 5,
   "metadata": {},
   "outputs": [
    {
     "data": {
      "text/plain": [
       "<CombObj: 945192 TFBS (401 unique names) | Market basket analysis: 160791 rules>"
      ]
     },
     "execution_count": 1,
     "metadata": {},
     "output_type": "execute_result"
    }
   ],
   "source": [
    "C"
   ]
  },
  {
   "cell_type": "code",
   "execution_count": 6,
   "metadata": {},
   "outputs": [
    {
     "data": {
      "text/html": [
       "<div>\n",
       "<style scoped>\n",
       "    .dataframe tbody tr th:only-of-type {\n",
       "        vertical-align: middle;\n",
       "    }\n",
       "\n",
       "    .dataframe tbody tr th {\n",
       "        vertical-align: top;\n",
       "    }\n",
       "\n",
       "    .dataframe thead th {\n",
       "        text-align: right;\n",
       "    }\n",
       "</style>\n",
       "<table border=\"1\" class=\"dataframe\">\n",
       "  <thead>\n",
       "    <tr style=\"text-align: right;\">\n",
       "      <th></th>\n",
       "      <th>TF1</th>\n",
       "      <th>TF2</th>\n",
       "      <th>TF1_TF2_count</th>\n",
       "      <th>TF1_count</th>\n",
       "      <th>TF2_count</th>\n",
       "      <th>cosine</th>\n",
       "      <th>zscore</th>\n",
       "    </tr>\n",
       "  </thead>\n",
       "  <tbody>\n",
       "    <tr>\n",
       "      <th>SP2-SP1</th>\n",
       "      <td>SP2</td>\n",
       "      <td>SP1</td>\n",
       "      <td>7777</td>\n",
       "      <td>5976</td>\n",
       "      <td>5224</td>\n",
       "      <td>1.391891</td>\n",
       "      <td>180.032504</td>\n",
       "    </tr>\n",
       "    <tr>\n",
       "      <th>SP1-SP2</th>\n",
       "      <td>SP1</td>\n",
       "      <td>SP2</td>\n",
       "      <td>7777</td>\n",
       "      <td>5224</td>\n",
       "      <td>5976</td>\n",
       "      <td>1.391891</td>\n",
       "      <td>180.032504</td>\n",
       "    </tr>\n",
       "    <tr>\n",
       "      <th>SP3-SP2</th>\n",
       "      <td>SP3</td>\n",
       "      <td>SP2</td>\n",
       "      <td>7557</td>\n",
       "      <td>5410</td>\n",
       "      <td>5976</td>\n",
       "      <td>1.329063</td>\n",
       "      <td>165.364156</td>\n",
       "    </tr>\n",
       "    <tr>\n",
       "      <th>SP2-SP3</th>\n",
       "      <td>SP2</td>\n",
       "      <td>SP3</td>\n",
       "      <td>7557</td>\n",
       "      <td>5976</td>\n",
       "      <td>5410</td>\n",
       "      <td>1.329063</td>\n",
       "      <td>165.364156</td>\n",
       "    </tr>\n",
       "    <tr>\n",
       "      <th>SP1-SP3</th>\n",
       "      <td>SP1</td>\n",
       "      <td>SP3</td>\n",
       "      <td>6409</td>\n",
       "      <td>5224</td>\n",
       "      <td>5410</td>\n",
       "      <td>1.205563</td>\n",
       "      <td>146.868648</td>\n",
       "    </tr>\n",
       "  </tbody>\n",
       "</table>\n",
       "</div>"
      ],
      "text/plain": [
       "         TF1  TF2  TF1_TF2_count  TF1_count  TF2_count    cosine      zscore\n",
       "SP2-SP1  SP2  SP1           7777       5976       5224  1.391891  180.032504\n",
       "SP1-SP2  SP1  SP2           7777       5224       5976  1.391891  180.032504\n",
       "SP3-SP2  SP3  SP2           7557       5410       5976  1.329063  165.364156\n",
       "SP2-SP3  SP2  SP3           7557       5976       5410  1.329063  165.364156\n",
       "SP1-SP3  SP1  SP3           6409       5224       5410  1.205563  146.868648"
      ]
     },
     "execution_count": 1,
     "metadata": {},
     "output_type": "execute_result"
    }
   ],
   "source": [
    "C.rules.head()"
   ]
  },
  {
   "cell_type": "markdown",
   "metadata": {},
   "source": [
    "## Visualize rules"
   ]
  },
  {
   "cell_type": "markdown",
   "metadata": {},
   "source": [
    "With the market basket analysis done, we have the option to visualize the identified co-occurring TFs:"
   ]
  },
  {
   "cell_type": "code",
   "execution_count": 7,
   "metadata": {},
   "outputs": [
    {
     "data": {
      "image/png": "[encoded data removed]",
      "text/plain": [
       "<Figure size 504x504 with 4 Axes>"
      ]
     },
     "metadata": {
      "needs_background": "light"
     },
     "output_type": "display_data"
    }
   ],
   "source": [
    "_ = C.plot_heatmap()"
   ]
  },
  {
   "cell_type": "code",
   "execution_count": 8,
   "metadata": {},
   "outputs": [
    {
     "data": {
      "image/png": "[encoded data removed]",
      "text/plain": [
       "<Figure size 504x288 with 1 Axes>"
      ]
     },
     "metadata": {
      "needs_background": "light"
     },
     "output_type": "display_data"
    }
   ],
   "source": [
    "_ = C.plot_bubble()"
   ]
  },
  {
   "cell_type": "markdown",
   "metadata": {},
   "source": [
    "## The effect of count parameters"
   ]
  },
  {
   "cell_type": "markdown",
   "metadata": {},
   "source": [
    "In this example, the first rules contain more _TF1_TF2_counts_ than the individual counts of TF1 and TF2:"
   ]
  },
  {
   "cell_type": "code",
   "execution_count": 9,
   "metadata": {},
   "outputs": [
    {
     "data": {
      "text/html": [
       "<div>\n",
       "<style scoped>\n",
       "    .dataframe tbody tr th:only-of-type {\n",
       "        vertical-align: middle;\n",
       "    }\n",
       "\n",
       "    .dataframe tbody tr th {\n",
       "        vertical-align: top;\n",
       "    }\n",
       "\n",
       "    .dataframe thead th {\n",
       "        text-align: right;\n",
       "    }\n",
       "</style>\n",
       "<table border=\"1\" class=\"dataframe\">\n",
       "  <thead>\n",
       "    <tr style=\"text-align: right;\">\n",
       "      <th></th>\n",
       "      <th>TF1</th>\n",
       "      <th>TF2</th>\n",
       "      <th>TF1_TF2_count</th>\n",
       "      <th>TF1_count</th>\n",
       "      <th>TF2_count</th>\n",
       "      <th>cosine</th>\n",
       "      <th>zscore</th>\n",
       "    </tr>\n",
       "  </thead>\n",
       "  <tbody>\n",
       "    <tr>\n",
       "      <th>SP2-SP1</th>\n",
       "      <td>SP2</td>\n",
       "      <td>SP1</td>\n",
       "      <td>7777</td>\n",
       "      <td>5976</td>\n",
       "      <td>5224</td>\n",
       "      <td>1.391891</td>\n",
       "      <td>180.032504</td>\n",
       "    </tr>\n",
       "  </tbody>\n",
       "</table>\n",
       "</div>"
      ],
      "text/plain": [
       "         TF1  TF2  TF1_TF2_count  TF1_count  TF2_count    cosine      zscore\n",
       "SP2-SP1  SP2  SP1           7777       5976       5224  1.391891  180.032504"
      ]
     },
     "execution_count": 1,
     "metadata": {},
     "output_type": "execute_result"
    }
   ],
   "source": [
    "C.rules.head(1)"
   ]
  },
  {
   "cell_type": "markdown",
   "metadata": {},
   "source": [
    "How can that be? If there are multiple combinations of TF1-TF2 within the same window, these combinations can add up to more than the number of individual TF positions. This effect can be controlled by setting `binarize=True` in _count_within_. This will ensure that each co-occurrence is only counted once per window:"
   ]
  },
  {
   "cell_type": "code",
   "execution_count": 10,
   "metadata": {},
   "outputs": [
    {
     "name": "stdout",
     "output_type": "stream",
     "text": [
      "INFO: Setting up binding sites for counting\n",
      "INFO: Counting co-occurrences within sites\n",
      "INFO: Counting co-occurrence within background\n",
      "INFO: Progress: 10%\n",
      "INFO: Progress: 20%\n",
      "INFO: Progress: 32%\n",
      "INFO: Progress: 42%\n",
      "INFO: Progress: 50%\n",
      "INFO: Progress: 60%\n",
      "INFO: Progress: 70%\n",
      "INFO: Progress: 80%\n",
      "INFO: Progress: 90%\n",
      "INFO: Finished!\n",
      "INFO: Done finding co-occurrences! Run .market_basket() to estimate significant pairs\n",
      "INFO: Market basket analysis is done! Results are found in <CombObj>.rules\n"
     ]
    }
   ],
   "source": [
    "C.count_within(binarize=True, threads=8)\n",
    "C.market_basket()"
   ]
  },
  {
   "cell_type": "code",
   "execution_count": 11,
   "metadata": {},
   "outputs": [
    {
     "data": {
      "text/html": [
       "<div>\n",
       "<style scoped>\n",
       "    .dataframe tbody tr th:only-of-type {\n",
       "        vertical-align: middle;\n",
       "    }\n",
       "\n",
       "    .dataframe tbody tr th {\n",
       "        vertical-align: top;\n",
       "    }\n",
       "\n",
       "    .dataframe thead th {\n",
       "        text-align: right;\n",
       "    }\n",
       "</style>\n",
       "<table border=\"1\" class=\"dataframe\">\n",
       "  <thead>\n",
       "    <tr style=\"text-align: right;\">\n",
       "      <th></th>\n",
       "      <th>TF1</th>\n",
       "      <th>TF2</th>\n",
       "      <th>TF1_TF2_count</th>\n",
       "      <th>TF1_count</th>\n",
       "      <th>TF2_count</th>\n",
       "      <th>cosine</th>\n",
       "      <th>zscore</th>\n",
       "    </tr>\n",
       "  </thead>\n",
       "  <tbody>\n",
       "    <tr>\n",
       "      <th>ZNF770-PAX5</th>\n",
       "      <td>ZNF770</td>\n",
       "      <td>PAX5</td>\n",
       "      <td>1891</td>\n",
       "      <td>6698</td>\n",
       "      <td>2537</td>\n",
       "      <td>0.458732</td>\n",
       "      <td>72.478037</td>\n",
       "    </tr>\n",
       "    <tr>\n",
       "      <th>PAX5-ZNF770</th>\n",
       "      <td>PAX5</td>\n",
       "      <td>ZNF770</td>\n",
       "      <td>1891</td>\n",
       "      <td>2537</td>\n",
       "      <td>6698</td>\n",
       "      <td>0.458732</td>\n",
       "      <td>72.478037</td>\n",
       "    </tr>\n",
       "    <tr>\n",
       "      <th>ZNF121-ZNF770</th>\n",
       "      <td>ZNF121</td>\n",
       "      <td>ZNF770</td>\n",
       "      <td>1855</td>\n",
       "      <td>2598</td>\n",
       "      <td>6698</td>\n",
       "      <td>0.444684</td>\n",
       "      <td>52.182815</td>\n",
       "    </tr>\n",
       "    <tr>\n",
       "      <th>ZNF770-ZNF121</th>\n",
       "      <td>ZNF770</td>\n",
       "      <td>ZNF121</td>\n",
       "      <td>1855</td>\n",
       "      <td>6698</td>\n",
       "      <td>2598</td>\n",
       "      <td>0.444684</td>\n",
       "      <td>52.182815</td>\n",
       "    </tr>\n",
       "    <tr>\n",
       "      <th>THAP1-SP2</th>\n",
       "      <td>THAP1</td>\n",
       "      <td>SP2</td>\n",
       "      <td>1756</td>\n",
       "      <td>2997</td>\n",
       "      <td>5976</td>\n",
       "      <td>0.414931</td>\n",
       "      <td>51.413217</td>\n",
       "    </tr>\n",
       "  </tbody>\n",
       "</table>\n",
       "</div>"
      ],
      "text/plain": [
       "                  TF1     TF2  TF1_TF2_count  TF1_count  TF2_count    cosine  \\\n",
       "ZNF770-PAX5    ZNF770    PAX5           1891       6698       2537  0.458732   \n",
       "PAX5-ZNF770      PAX5  ZNF770           1891       2537       6698  0.458732   \n",
       "ZNF121-ZNF770  ZNF121  ZNF770           1855       2598       6698  0.444684   \n",
       "ZNF770-ZNF121  ZNF770  ZNF121           1855       6698       2598  0.444684   \n",
       "THAP1-SP2       THAP1     SP2           1756       2997       5976  0.414931   \n",
       "\n",
       "                  zscore  \n",
       "ZNF770-PAX5    72.478037  \n",
       "PAX5-ZNF770    72.478037  \n",
       "ZNF121-ZNF770  52.182815  \n",
       "ZNF770-ZNF121  52.182815  \n",
       "THAP1-SP2      51.413217  "
      ]
     },
     "execution_count": 1,
     "metadata": {},
     "output_type": "execute_result"
    }
   ],
   "source": [
    "C.rules.head()"
   ]
  },
  {
   "cell_type": "markdown",
   "metadata": {},
   "source": [
    "It is also possible to play around with the maximum overlap allowed. The default is no overlap allowed, but setting _max_overlap_ to 1 (all overlaps allowed), highlights some of the TFs which are highly overlapping: "
   ]
  },
  {
   "cell_type": "code",
   "execution_count": 12,
   "metadata": {},
   "outputs": [
    {
     "name": "stdout",
     "output_type": "stream",
     "text": [
      "INFO: Setting up binding sites for counting\n",
      "INFO: Counting co-occurrences within sites\n",
      "INFO: Counting co-occurrence within background\n",
      "INFO: Progress: 10%\n",
      "INFO: Progress: 20%\n",
      "INFO: Progress: 30%\n",
      "INFO: Progress: 40%\n",
      "INFO: Progress: 50%\n",
      "INFO: Progress: 60%\n",
      "INFO: Progress: 70%\n",
      "INFO: Progress: 80%\n",
      "INFO: Progress: 92%\n",
      "INFO: Finished!\n",
      "INFO: Done finding co-occurrences! Run .market_basket() to estimate significant pairs\n",
      "INFO: Market basket analysis is done! Results are found in <CombObj>.rules\n"
     ]
    }
   ],
   "source": [
    "C.count_within(binarize=True, max_overlap=1, threads=8)\n",
    "C.market_basket()"
   ]
  },
  {
   "cell_type": "code",
   "execution_count": 13,
   "metadata": {},
   "outputs": [
    {
     "data": {
      "text/html": [
       "<div>\n",
       "<style scoped>\n",
       "    .dataframe tbody tr th:only-of-type {\n",
       "        vertical-align: middle;\n",
       "    }\n",
       "\n",
       "    .dataframe tbody tr th {\n",
       "        vertical-align: top;\n",
       "    }\n",
       "\n",
       "    .dataframe thead th {\n",
       "        text-align: right;\n",
       "    }\n",
       "</style>\n",
       "<table border=\"1\" class=\"dataframe\">\n",
       "  <thead>\n",
       "    <tr style=\"text-align: right;\">\n",
       "      <th></th>\n",
       "      <th>TF1</th>\n",
       "      <th>TF2</th>\n",
       "      <th>TF1_TF2_count</th>\n",
       "      <th>TF1_count</th>\n",
       "      <th>TF2_count</th>\n",
       "      <th>cosine</th>\n",
       "      <th>zscore</th>\n",
       "    </tr>\n",
       "  </thead>\n",
       "  <tbody>\n",
       "    <tr>\n",
       "      <th>FOSL2-FOSL1</th>\n",
       "      <td>FOSL2</td>\n",
       "      <td>FOSL1</td>\n",
       "      <td>2190</td>\n",
       "      <td>2391</td>\n",
       "      <td>2312</td>\n",
       "      <td>0.931452</td>\n",
       "      <td>130.537164</td>\n",
       "    </tr>\n",
       "    <tr>\n",
       "      <th>FOSL1-FOSL2</th>\n",
       "      <td>FOSL1</td>\n",
       "      <td>FOSL2</td>\n",
       "      <td>2190</td>\n",
       "      <td>2312</td>\n",
       "      <td>2391</td>\n",
       "      <td>0.931452</td>\n",
       "      <td>130.537164</td>\n",
       "    </tr>\n",
       "    <tr>\n",
       "      <th>FOSL2-FOS</th>\n",
       "      <td>FOSL2</td>\n",
       "      <td>FOS</td>\n",
       "      <td>2162</td>\n",
       "      <td>2391</td>\n",
       "      <td>2294</td>\n",
       "      <td>0.923143</td>\n",
       "      <td>153.507035</td>\n",
       "    </tr>\n",
       "    <tr>\n",
       "      <th>FOS-FOSL2</th>\n",
       "      <td>FOS</td>\n",
       "      <td>FOSL2</td>\n",
       "      <td>2162</td>\n",
       "      <td>2294</td>\n",
       "      <td>2391</td>\n",
       "      <td>0.923143</td>\n",
       "      <td>153.507035</td>\n",
       "    </tr>\n",
       "    <tr>\n",
       "      <th>FOS-FOSB</th>\n",
       "      <td>FOS</td>\n",
       "      <td>FOSB</td>\n",
       "      <td>2071</td>\n",
       "      <td>2294</td>\n",
       "      <td>2351</td>\n",
       "      <td>0.891779</td>\n",
       "      <td>130.475977</td>\n",
       "    </tr>\n",
       "  </tbody>\n",
       "</table>\n",
       "</div>"
      ],
      "text/plain": [
       "               TF1    TF2  TF1_TF2_count  TF1_count  TF2_count    cosine  \\\n",
       "FOSL2-FOSL1  FOSL2  FOSL1           2190       2391       2312  0.931452   \n",
       "FOSL1-FOSL2  FOSL1  FOSL2           2190       2312       2391  0.931452   \n",
       "FOSL2-FOS    FOSL2    FOS           2162       2391       2294  0.923143   \n",
       "FOS-FOSL2      FOS  FOSL2           2162       2294       2391  0.923143   \n",
       "FOS-FOSB       FOS   FOSB           2071       2294       2351  0.891779   \n",
       "\n",
       "                 zscore  \n",
       "FOSL2-FOSL1  130.537164  \n",
       "FOSL1-FOSL2  130.537164  \n",
       "FOSL2-FOS    153.507035  \n",
       "FOS-FOSL2    153.507035  \n",
       "FOS-FOSB     130.475977  "
      ]
     },
     "execution_count": 1,
     "metadata": {},
     "output_type": "execute_result"
    }
   ],
   "source": [
    "C.rules.head()"
   ]
  }
 ],
 "metadata": {
  "kernelspec": {
   "display_name": "Python 3",
   "language": "python",
   "name": "python3"
  },
  "language_info": {
   "codemirror_mode": {
    "name": "ipython",
    "version": 3
   },
   "file_extension": ".py",
   "mimetype": "text/x-python",
   "name": "python",
   "nbconvert_exporter": "python",
   "pygments_lexer": "ipython3",
   "version": "3.7.3"
  }
 },
 "nbformat": 4,
 "nbformat_minor": 4
}
