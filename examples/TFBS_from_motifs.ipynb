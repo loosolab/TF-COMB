{
 "cells": [
  {
   "cell_type": "markdown",
   "metadata": {},
   "source": [
    "# TFBS from motifs"
   ]
  },
  {
   "cell_type": "markdown",
   "metadata": {},
   "source": [
    "In this notebook, we show how a CombObj can be set up using motifs and a set of target regions."
   ]
  },
  {
   "cell_type": "markdown",
   "metadata": {},
   "source": [
    "## Setup a CombObj"
   ]
  },
  {
   "cell_type": "code",
   "execution_count": 1,
   "metadata": {},
   "outputs": [],
   "source": [
    "from tfcomb import CombObj\n",
    "C = CombObj()"
   ]
  },
  {
   "cell_type": "markdown",
   "metadata": {},
   "source": [
    "## Search for TFBS within peak regions"
   ]
  },
  {
   "cell_type": "markdown",
   "metadata": {},
   "source": [
    "We are using a subset of ATAC-seq peaks from GM12878 as the target regions. The .TFBS variable can then be filled as seen here:"
   ]
  },
  {
   "cell_type": "code",
   "execution_count": 2,
   "metadata": {},
   "outputs": [
    {
     "name": "stdout",
     "output_type": "stream",
     "text": [
      "INFO: Scanning for TFBS with 4 thread(s)...\n",
      "INFO: Progress: 11%\n",
      "INFO: Progress: 20%\n",
      "INFO: Progress: 31%\n",
      "INFO: Progress: 40%\n",
      "INFO: Progress: 50%\n",
      "INFO: Progress: 60%\n",
      "INFO: Progress: 70%\n",
      "INFO: Progress: 80%\n",
      "INFO: Progress: 91%\n",
      "INFO: Finished!\n",
      "INFO: Processing scanned TFBS\n",
      "INFO: Identified 165810 TFBS (401 unique names) within given regions\n"
     ]
    }
   ],
   "source": [
    "C.TFBS_from_motifs(regions=\"../data/GM12878_hg38_chr4_ATAC_peaks.bed\", \n",
    "                   motifs=\"../data/HOCOMOCOv11_HUMAN_motifs.txt\",\n",
    "                   genome=\"../data/hg38_chr4.fa.gz\", \n",
    "                   threads=4)"
   ]
  },
  {
   "cell_type": "code",
   "execution_count": 3,
   "metadata": {},
   "outputs": [
    {
     "data": {
      "text/plain": [
       "[chr4\t11750\t11772\tTHAP1\t10.09272\t+,\n",
       " chr4\t11806\t11823\tCTCFL\t12.12093\t-,\n",
       " chr4\t11806\t11825\tCTCF\t13.68703\t-,\n",
       " chr4\t11864\t11881\tCTCFL\t12.23068\t-,\n",
       " chr4\t11864\t11883\tCTCF\t12.56734\t-,\n",
       " chr4\t11938\t11945\tMYF6\t8.75866\t-,\n",
       " chr4\t11997\t12010\tMYOG\t9.91354\t-,\n",
       " chr4\t11999\t12009\tTCF12\t9.23823\t+,\n",
       " chr4\t11999\t12009\tTCF4\t9.99356\t+,\n",
       " chr4\t12000\t12007\tMYF6\t8.75866\t-]"
      ]
     },
     "execution_count": 3,
     "metadata": {},
     "output_type": "execute_result"
    }
   ],
   "source": [
    "C.TFBS[:10]"
   ]
  },
  {
   "cell_type": "markdown",
   "metadata": {},
   "source": [
    "## Perform market basket analysis"
   ]
  },
  {
   "cell_type": "markdown",
   "metadata": {},
   "source": [
    "As shown in previous notebooks, we can now perform the market basket analysis on the sites within .TFBS:"
   ]
  },
  {
   "cell_type": "code",
   "execution_count": 4,
   "metadata": {},
   "outputs": [
    {
     "name": "stdout",
     "output_type": "stream",
     "text": [
      "Internal counts for 'TF_counts' were not set. Please run .count_within() to obtain TF-TF co-occurrence counts.\n",
      "WARNING: No counts found in <CombObj>. Running <CombObj>.count_within() with standard parameters.\n",
      "INFO: Setting up binding sites for counting\n",
      "INFO: Counting co-occurrences within sites\n",
      "INFO: Counting co-occurrence within background\n",
      "INFO: Progress: 10%\n",
      "INFO: Progress: 26%\n",
      "INFO: Progress: 38%\n",
      "INFO: Progress: 50%\n",
      "INFO: Progress: 62%\n",
      "INFO: Progress: 74%\n",
      "INFO: Progress: 86%\n",
      "INFO: Progress: 98%\n",
      "INFO: Finished!\n",
      "INFO: Done finding co-occurrences! Run .market_basket() to estimate significant pairs\n",
      "INFO: Market basket analysis is done! Results are found in <CombObj>.rules\n"
     ]
    }
   ],
   "source": [
    "C.market_basket(threads=10)"
   ]
  },
  {
   "cell_type": "code",
   "execution_count": 5,
   "metadata": {},
   "outputs": [
    {
     "data": {
      "text/plain": [
       "<CombObj: 165810 TFBS (401 unique names) | Market basket analysis: 126997 rules>"
      ]
     },
     "execution_count": 5,
     "metadata": {},
     "output_type": "execute_result"
    }
   ],
   "source": [
    "C"
   ]
  },
  {
   "cell_type": "code",
   "execution_count": 6,
   "metadata": {},
   "outputs": [
    {
     "data": {
      "text/html": [
       "<div>\n",
       "<style scoped>\n",
       "    .dataframe tbody tr th:only-of-type {\n",
       "        vertical-align: middle;\n",
       "    }\n",
       "\n",
       "    .dataframe tbody tr th {\n",
       "        vertical-align: top;\n",
       "    }\n",
       "\n",
       "    .dataframe thead th {\n",
       "        text-align: right;\n",
       "    }\n",
       "</style>\n",
       "<table border=\"1\" class=\"dataframe\">\n",
       "  <thead>\n",
       "    <tr style=\"text-align: right;\">\n",
       "      <th></th>\n",
       "      <th>TF1</th>\n",
       "      <th>TF2</th>\n",
       "      <th>TF1_TF2_count</th>\n",
       "      <th>TF1_count</th>\n",
       "      <th>TF2_count</th>\n",
       "      <th>cosine</th>\n",
       "      <th>zscore</th>\n",
       "    </tr>\n",
       "  </thead>\n",
       "  <tbody>\n",
       "    <tr>\n",
       "      <th>POU3F2-SMARCA5</th>\n",
       "      <td>POU3F2</td>\n",
       "      <td>SMARCA5</td>\n",
       "      <td>239</td>\n",
       "      <td>302</td>\n",
       "      <td>241</td>\n",
       "      <td>0.885902</td>\n",
       "      <td>129.586528</td>\n",
       "    </tr>\n",
       "    <tr>\n",
       "      <th>SMARCA5-POU3F2</th>\n",
       "      <td>SMARCA5</td>\n",
       "      <td>POU3F2</td>\n",
       "      <td>239</td>\n",
       "      <td>241</td>\n",
       "      <td>302</td>\n",
       "      <td>0.885902</td>\n",
       "      <td>129.586528</td>\n",
       "    </tr>\n",
       "    <tr>\n",
       "      <th>POU2F1-SMARCA5</th>\n",
       "      <td>POU2F1</td>\n",
       "      <td>SMARCA5</td>\n",
       "      <td>263</td>\n",
       "      <td>426</td>\n",
       "      <td>241</td>\n",
       "      <td>0.820810</td>\n",
       "      <td>135.355691</td>\n",
       "    </tr>\n",
       "    <tr>\n",
       "      <th>SMARCA5-POU2F1</th>\n",
       "      <td>SMARCA5</td>\n",
       "      <td>POU2F1</td>\n",
       "      <td>263</td>\n",
       "      <td>241</td>\n",
       "      <td>426</td>\n",
       "      <td>0.820810</td>\n",
       "      <td>135.355691</td>\n",
       "    </tr>\n",
       "    <tr>\n",
       "      <th>SMARCA5-ZNF582</th>\n",
       "      <td>SMARCA5</td>\n",
       "      <td>ZNF582</td>\n",
       "      <td>172</td>\n",
       "      <td>241</td>\n",
       "      <td>195</td>\n",
       "      <td>0.793419</td>\n",
       "      <td>117.370387</td>\n",
       "    </tr>\n",
       "  </tbody>\n",
       "</table>\n",
       "</div>"
      ],
      "text/plain": [
       "                    TF1      TF2  TF1_TF2_count  TF1_count  TF2_count  \\\n",
       "POU3F2-SMARCA5   POU3F2  SMARCA5            239        302        241   \n",
       "SMARCA5-POU3F2  SMARCA5   POU3F2            239        241        302   \n",
       "POU2F1-SMARCA5   POU2F1  SMARCA5            263        426        241   \n",
       "SMARCA5-POU2F1  SMARCA5   POU2F1            263        241        426   \n",
       "SMARCA5-ZNF582  SMARCA5   ZNF582            172        241        195   \n",
       "\n",
       "                  cosine      zscore  \n",
       "POU3F2-SMARCA5  0.885902  129.586528  \n",
       "SMARCA5-POU3F2  0.885902  129.586528  \n",
       "POU2F1-SMARCA5  0.820810  135.355691  \n",
       "SMARCA5-POU2F1  0.820810  135.355691  \n",
       "SMARCA5-ZNF582  0.793419  117.370387  "
      ]
     },
     "execution_count": 6,
     "metadata": {},
     "output_type": "execute_result"
    }
   ],
   "source": [
    "C.rules.head()"
   ]
  },
  {
   "cell_type": "markdown",
   "metadata": {},
   "source": [
    "## Visualize rules"
   ]
  },
  {
   "cell_type": "markdown",
   "metadata": {},
   "source": [
    "With the market basket analysis done, we have the option to visualize the identified co-occurring TFs:"
   ]
  },
  {
   "cell_type": "code",
   "execution_count": 7,
   "metadata": {},
   "outputs": [
    {
     "data": {
      "image/png": "[encoded data removed]",
      "text/plain": [
       "<Figure size 504x504 with 4 Axes>"
      ]
     },
     "metadata": {
      "needs_background": "light"
     },
     "output_type": "display_data"
    }
   ],
   "source": [
    "_ = C.plot_heatmap()"
   ]
  },
  {
   "cell_type": "code",
   "execution_count": 8,
   "metadata": {},
   "outputs": [
    {
     "data": {
      "image/png": "[encoded data removed]",
      "text/plain": [
       "<Figure size 504x288 with 1 Axes>"
      ]
     },
     "metadata": {
      "needs_background": "light"
     },
     "output_type": "display_data"
    }
   ],
   "source": [
    "_ = C.plot_bubble()"
   ]
  },
  {
   "cell_type": "markdown",
   "metadata": {},
   "source": [
    "## The effect of count parameters"
   ]
  },
  {
   "cell_type": "markdown",
   "metadata": {},
   "source": [
    "In this example, the first rules contain more _TF1_TF2_counts_ than the individual counts of TF1 and TF2:"
   ]
  },
  {
   "cell_type": "code",
   "execution_count": 9,
   "metadata": {},
   "outputs": [
    {
     "data": {
      "text/html": [
       "<div>\n",
       "<style scoped>\n",
       "    .dataframe tbody tr th:only-of-type {\n",
       "        vertical-align: middle;\n",
       "    }\n",
       "\n",
       "    .dataframe tbody tr th {\n",
       "        vertical-align: top;\n",
       "    }\n",
       "\n",
       "    .dataframe thead th {\n",
       "        text-align: right;\n",
       "    }\n",
       "</style>\n",
       "<table border=\"1\" class=\"dataframe\">\n",
       "  <thead>\n",
       "    <tr style=\"text-align: right;\">\n",
       "      <th></th>\n",
       "      <th>TF1</th>\n",
       "      <th>TF2</th>\n",
       "      <th>TF1_TF2_count</th>\n",
       "      <th>TF1_count</th>\n",
       "      <th>TF2_count</th>\n",
       "      <th>cosine</th>\n",
       "      <th>zscore</th>\n",
       "    </tr>\n",
       "  </thead>\n",
       "  <tbody>\n",
       "    <tr>\n",
       "      <th>POU3F2-SMARCA5</th>\n",
       "      <td>POU3F2</td>\n",
       "      <td>SMARCA5</td>\n",
       "      <td>239</td>\n",
       "      <td>302</td>\n",
       "      <td>241</td>\n",
       "      <td>0.885902</td>\n",
       "      <td>129.586528</td>\n",
       "    </tr>\n",
       "  </tbody>\n",
       "</table>\n",
       "</div>"
      ],
      "text/plain": [
       "                   TF1      TF2  TF1_TF2_count  TF1_count  TF2_count  \\\n",
       "POU3F2-SMARCA5  POU3F2  SMARCA5            239        302        241   \n",
       "\n",
       "                  cosine      zscore  \n",
       "POU3F2-SMARCA5  0.885902  129.586528  "
      ]
     },
     "execution_count": 9,
     "metadata": {},
     "output_type": "execute_result"
    }
   ],
   "source": [
    "C.rules.head(1)"
   ]
  },
  {
   "cell_type": "markdown",
   "metadata": {},
   "source": [
    "How can that be? If there are multiple combinations of TF1-TF2 within the same window, these combinations can add up to more than the number of individual TF positions. This effect can be controlled by setting `binarize=True` in _count_within_. This will ensure that each co-occurrence is only counted once per window:"
   ]
  },
  {
   "cell_type": "code",
   "execution_count": 10,
   "metadata": {},
   "outputs": [
    {
     "name": "stdout",
     "output_type": "stream",
     "text": [
      "INFO: Counting co-occurrences within sites\n",
      "INFO: Counting co-occurrence within background\n",
      "INFO: Progress: 16%\n",
      "INFO: Progress: 28%\n",
      "INFO: Progress: 32%\n",
      "INFO: Progress: 48%\n",
      "INFO: Progress: 56%\n",
      "INFO: Progress: 64%\n",
      "INFO: Progress: 76%\n",
      "INFO: Progress: 80%\n",
      "INFO: Progress: 96%\n",
      "INFO: Finished!\n",
      "INFO: Done finding co-occurrences! Run .market_basket() to estimate significant pairs\n",
      "INFO: Market basket analysis is done! Results are found in <CombObj>.rules\n"
     ]
    }
   ],
   "source": [
    "C.count_within(binarize=True, threads=8)\n",
    "C.market_basket()"
   ]
  },
  {
   "cell_type": "code",
   "execution_count": 11,
   "metadata": {},
   "outputs": [
    {
     "data": {
      "text/html": [
       "<div>\n",
       "<style scoped>\n",
       "    .dataframe tbody tr th:only-of-type {\n",
       "        vertical-align: middle;\n",
       "    }\n",
       "\n",
       "    .dataframe tbody tr th {\n",
       "        vertical-align: top;\n",
       "    }\n",
       "\n",
       "    .dataframe thead th {\n",
       "        text-align: right;\n",
       "    }\n",
       "</style>\n",
       "<table border=\"1\" class=\"dataframe\">\n",
       "  <thead>\n",
       "    <tr style=\"text-align: right;\">\n",
       "      <th></th>\n",
       "      <th>TF1</th>\n",
       "      <th>TF2</th>\n",
       "      <th>TF1_TF2_count</th>\n",
       "      <th>TF1_count</th>\n",
       "      <th>TF2_count</th>\n",
       "      <th>cosine</th>\n",
       "      <th>zscore</th>\n",
       "    </tr>\n",
       "  </thead>\n",
       "  <tbody>\n",
       "    <tr>\n",
       "      <th>ZNF121-ZNF770</th>\n",
       "      <td>ZNF121</td>\n",
       "      <td>ZNF770</td>\n",
       "      <td>1249</td>\n",
       "      <td>1242</td>\n",
       "      <td>2394</td>\n",
       "      <td>0.724335</td>\n",
       "      <td>103.405506</td>\n",
       "    </tr>\n",
       "    <tr>\n",
       "      <th>ZNF770-ZNF121</th>\n",
       "      <td>ZNF770</td>\n",
       "      <td>ZNF121</td>\n",
       "      <td>1249</td>\n",
       "      <td>2394</td>\n",
       "      <td>1242</td>\n",
       "      <td>0.724335</td>\n",
       "      <td>103.405506</td>\n",
       "    </tr>\n",
       "    <tr>\n",
       "      <th>PAX5-ZNF770</th>\n",
       "      <td>PAX5</td>\n",
       "      <td>ZNF770</td>\n",
       "      <td>863</td>\n",
       "      <td>968</td>\n",
       "      <td>2394</td>\n",
       "      <td>0.566906</td>\n",
       "      <td>82.606752</td>\n",
       "    </tr>\n",
       "    <tr>\n",
       "      <th>ZNF770-PAX5</th>\n",
       "      <td>ZNF770</td>\n",
       "      <td>PAX5</td>\n",
       "      <td>863</td>\n",
       "      <td>2394</td>\n",
       "      <td>968</td>\n",
       "      <td>0.566906</td>\n",
       "      <td>82.606752</td>\n",
       "    </tr>\n",
       "    <tr>\n",
       "      <th>SP1-SP2</th>\n",
       "      <td>SP1</td>\n",
       "      <td>SP2</td>\n",
       "      <td>570</td>\n",
       "      <td>1718</td>\n",
       "      <td>2150</td>\n",
       "      <td>0.296581</td>\n",
       "      <td>35.851669</td>\n",
       "    </tr>\n",
       "  </tbody>\n",
       "</table>\n",
       "</div>"
      ],
      "text/plain": [
       "                  TF1     TF2  TF1_TF2_count  TF1_count  TF2_count    cosine  \\\n",
       "ZNF121-ZNF770  ZNF121  ZNF770           1249       1242       2394  0.724335   \n",
       "ZNF770-ZNF121  ZNF770  ZNF121           1249       2394       1242  0.724335   \n",
       "PAX5-ZNF770      PAX5  ZNF770            863        968       2394  0.566906   \n",
       "ZNF770-PAX5    ZNF770    PAX5            863       2394        968  0.566906   \n",
       "SP1-SP2           SP1     SP2            570       1718       2150  0.296581   \n",
       "\n",
       "                   zscore  \n",
       "ZNF121-ZNF770  103.405506  \n",
       "ZNF770-ZNF121  103.405506  \n",
       "PAX5-ZNF770     82.606752  \n",
       "ZNF770-PAX5     82.606752  \n",
       "SP1-SP2         35.851669  "
      ]
     },
     "execution_count": 11,
     "metadata": {},
     "output_type": "execute_result"
    }
   ],
   "source": [
    "C.rules.head()"
   ]
  },
  {
   "cell_type": "markdown",
   "metadata": {},
   "source": [
    "It is also possible to play around with the maximum overlap allowed. The default is no overlap allowed, but setting _max_overlap_ to 1 (all overlaps allowed), highlights some of the TFs which are highly overlapping: "
   ]
  },
  {
   "cell_type": "code",
   "execution_count": 12,
   "metadata": {},
   "outputs": [
    {
     "name": "stdout",
     "output_type": "stream",
     "text": [
      "INFO: Counting co-occurrences within sites\n",
      "INFO: Counting co-occurrence within background\n",
      "INFO: Progress: 14%\n",
      "INFO: Progress: 22%\n",
      "INFO: Progress: 32%\n",
      "INFO: Progress: 46%\n",
      "INFO: Progress: 54%\n",
      "INFO: Progress: 64%\n",
      "INFO: Progress: 76%\n",
      "INFO: Progress: 80%\n",
      "INFO: Progress: 96%\n",
      "INFO: Finished!\n",
      "INFO: Done finding co-occurrences! Run .market_basket() to estimate significant pairs\n",
      "INFO: Market basket analysis is done! Results are found in <CombObj>.rules\n"
     ]
    }
   ],
   "source": [
    "C.count_within(binarize=True, max_overlap=1, threads=8)\n",
    "C.market_basket()"
   ]
  },
  {
   "cell_type": "code",
   "execution_count": 13,
   "metadata": {},
   "outputs": [
    {
     "data": {
      "text/html": [
       "<div>\n",
       "<style scoped>\n",
       "    .dataframe tbody tr th:only-of-type {\n",
       "        vertical-align: middle;\n",
       "    }\n",
       "\n",
       "    .dataframe tbody tr th {\n",
       "        vertical-align: top;\n",
       "    }\n",
       "\n",
       "    .dataframe thead th {\n",
       "        text-align: right;\n",
       "    }\n",
       "</style>\n",
       "<table border=\"1\" class=\"dataframe\">\n",
       "  <thead>\n",
       "    <tr style=\"text-align: right;\">\n",
       "      <th></th>\n",
       "      <th>TF1</th>\n",
       "      <th>TF2</th>\n",
       "      <th>TF1_TF2_count</th>\n",
       "      <th>TF1_count</th>\n",
       "      <th>TF2_count</th>\n",
       "      <th>cosine</th>\n",
       "      <th>zscore</th>\n",
       "    </tr>\n",
       "  </thead>\n",
       "  <tbody>\n",
       "    <tr>\n",
       "      <th>ARNT-EPAS1</th>\n",
       "      <td>ARNT</td>\n",
       "      <td>EPAS1</td>\n",
       "      <td>18</td>\n",
       "      <td>18</td>\n",
       "      <td>18</td>\n",
       "      <td>1.000000</td>\n",
       "      <td>128.428571</td>\n",
       "    </tr>\n",
       "    <tr>\n",
       "      <th>EPAS1-ARNT</th>\n",
       "      <td>EPAS1</td>\n",
       "      <td>ARNT</td>\n",
       "      <td>18</td>\n",
       "      <td>18</td>\n",
       "      <td>18</td>\n",
       "      <td>1.000000</td>\n",
       "      <td>128.428571</td>\n",
       "    </tr>\n",
       "    <tr>\n",
       "      <th>NR4A1-NR4A2</th>\n",
       "      <td>NR4A1</td>\n",
       "      <td>NR4A2</td>\n",
       "      <td>141</td>\n",
       "      <td>141</td>\n",
       "      <td>141</td>\n",
       "      <td>1.000000</td>\n",
       "      <td>127.000000</td>\n",
       "    </tr>\n",
       "    <tr>\n",
       "      <th>NR4A2-NR4A1</th>\n",
       "      <td>NR4A2</td>\n",
       "      <td>NR4A1</td>\n",
       "      <td>141</td>\n",
       "      <td>141</td>\n",
       "      <td>141</td>\n",
       "      <td>1.000000</td>\n",
       "      <td>127.000000</td>\n",
       "    </tr>\n",
       "    <tr>\n",
       "      <th>MITF-TFE3</th>\n",
       "      <td>MITF</td>\n",
       "      <td>TFE3</td>\n",
       "      <td>82</td>\n",
       "      <td>92</td>\n",
       "      <td>87</td>\n",
       "      <td>0.916559</td>\n",
       "      <td>116.772609</td>\n",
       "    </tr>\n",
       "  </tbody>\n",
       "</table>\n",
       "</div>"
      ],
      "text/plain": [
       "               TF1    TF2  TF1_TF2_count  TF1_count  TF2_count    cosine  \\\n",
       "ARNT-EPAS1    ARNT  EPAS1             18         18         18  1.000000   \n",
       "EPAS1-ARNT   EPAS1   ARNT             18         18         18  1.000000   \n",
       "NR4A1-NR4A2  NR4A1  NR4A2            141        141        141  1.000000   \n",
       "NR4A2-NR4A1  NR4A2  NR4A1            141        141        141  1.000000   \n",
       "MITF-TFE3     MITF   TFE3             82         92         87  0.916559   \n",
       "\n",
       "                 zscore  \n",
       "ARNT-EPAS1   128.428571  \n",
       "EPAS1-ARNT   128.428571  \n",
       "NR4A1-NR4A2  127.000000  \n",
       "NR4A2-NR4A1  127.000000  \n",
       "MITF-TFE3    116.772609  "
      ]
     },
     "execution_count": 13,
     "metadata": {},
     "output_type": "execute_result"
    }
   ],
   "source": [
    "C.rules.head()"
   ]
  }
 ],
 "metadata": {
  "language_info": {
   "name": "python"
  }
 },
 "nbformat": 4,
 "nbformat_minor": 4
}
