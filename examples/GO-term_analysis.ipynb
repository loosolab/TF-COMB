{
 "cells": [
  {
   "cell_type": "markdown",
   "id": "a5440f93",
   "metadata": {},
   "source": [
    "# GO-term analysis"
   ]
  },
  {
   "cell_type": "markdown",
   "id": "3a982074",
   "metadata": {},
   "source": [
    "TF-COMB contains functionality for performing GO-term analysis on gene lists as obtained e.g. from TFBS annotation."
   ]
  },
  {
   "cell_type": "markdown",
   "id": "6be742d9",
   "metadata": {},
   "source": [
    "## Obtain a list of genes from previous analysis"
   ]
  },
  {
   "cell_type": "markdown",
   "id": "22ed33d2",
   "metadata": {},
   "source": [
    "We will use a gene list containing genes upregulated in response to hypoxia (source msigdb: https://www.gsea-msigdb.org/gsea/msigdb/cards/HALLMARK_HYPOXIA.html)"
   ]
  },
  {
   "cell_type": "code",
   "execution_count": 1,
   "id": "e7b4fd93",
   "metadata": {},
   "outputs": [],
   "source": [
    "with open(\"../data/gene_list.txt\") as f:\n",
    "    genes = f.read().split(\"\\n\")"
   ]
  },
  {
   "cell_type": "code",
   "execution_count": 2,
   "id": "f2b0bb01",
   "metadata": {},
   "outputs": [
    {
     "data": {
      "text/plain": [
       "['ACKR3',\n",
       " 'ADM',\n",
       " 'ADORA2B',\n",
       " 'AK4',\n",
       " 'AKAP12',\n",
       " 'ALDOA',\n",
       " 'ALDOB',\n",
       " 'ALDOC',\n",
       " 'AMPD3',\n",
       " 'ANGPTL4']"
      ]
     },
     "execution_count": 2,
     "metadata": {},
     "output_type": "execute_result"
    }
   ],
   "source": [
    "genes[:10]"
   ]
  },
  {
   "cell_type": "markdown",
   "id": "93d01642",
   "metadata": {},
   "source": [
    "Given a list of genes, you can use the GOAnalysis class to perform a GO-term analysis of the genes:"
   ]
  },
  {
   "cell_type": "code",
   "execution_count": null,
   "id": "284aa194",
   "metadata": {
    "scrolled": true
   },
   "outputs": [],
   "source": [
    "from tfcomb.annotation import GOAnalysis\n",
    "go_table = GOAnalysis().enrichment(genes)"
   ]
  },
  {
   "cell_type": "markdown",
   "id": "6b4948fc",
   "metadata": {},
   "source": [
    "The results are seen in the returned table:"
   ]
  },
  {
   "cell_type": "code",
   "execution_count": null,
   "id": "72648221",
   "metadata": {},
   "outputs": [],
   "source": [
    "go_table.head()"
   ]
  },
  {
   "cell_type": "markdown",
   "id": "db1f105c",
   "metadata": {},
   "source": [
    "## Plotting the enriched terms"
   ]
  },
  {
   "cell_type": "markdown",
   "id": "201d615b",
   "metadata": {},
   "source": [
    "The returned `go_table` is a subclass of pandas.DataFrame, which contains options for plotting the GO-enrichment results as seen here:"
   ]
  },
  {
   "cell_type": "code",
   "execution_count": null,
   "id": "3c2e79f4",
   "metadata": {},
   "outputs": [],
   "source": [
    "type(go_table)"
   ]
  },
  {
   "cell_type": "code",
   "execution_count": null,
   "id": "1e183d02",
   "metadata": {},
   "outputs": [],
   "source": [
    "_ = go_table.plot_bubble()"
   ]
  },
  {
   "cell_type": "markdown",
   "id": "7864a9ad",
   "metadata": {},
   "source": [
    "The default aspect shown is \"BP\" (Biological Process), but by setting `aspect`, either of \"CC\" (Cellular Component) and \"MF\" (Molecular Function can be shown:"
   ]
  },
  {
   "cell_type": "code",
   "execution_count": null,
   "id": "314fb5c8",
   "metadata": {},
   "outputs": [],
   "source": [
    "_ = go_table.plot_bubble(aspect=\"CC\")"
   ]
  },
  {
   "cell_type": "code",
   "execution_count": null,
   "id": "d7f8252a",
   "metadata": {},
   "outputs": [],
   "source": [
    "_ = go_table.plot_bubble(aspect=\"MF\", n_terms=30)"
   ]
  },
  {
   "cell_type": "code",
   "execution_count": null,
   "id": "be551f1e",
   "metadata": {},
   "outputs": [],
   "source": []
  }
 ],
 "metadata": {
  "kernelspec": {
   "display_name": "py3",
   "language": "python",
   "name": "py3"
  },
  "language_info": {
   "codemirror_mode": {
    "name": "ipython",
    "version": 3
   },
   "file_extension": ".py",
   "mimetype": "text/x-python",
   "name": "python",
   "nbconvert_exporter": "python",
   "pygments_lexer": "ipython3",
   "version": "3.7.12"
  }
 },
 "nbformat": 4,
 "nbformat_minor": 5
}
