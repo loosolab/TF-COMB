{
 "cells": [
  {
   "cell_type": "markdown",
   "id": "dfa45a1b",
   "metadata": {},
   "source": [
    "# Plot footprints for TF pair locations"
   ]
  },
  {
   "cell_type": "markdown",
   "id": "33271f39",
   "metadata": {},
   "source": [
    "## Calculate TF positions from motifs"
   ]
  },
  {
   "cell_type": "markdown",
   "id": "d72022d6",
   "metadata": {},
   "source": [
    "We calculate the location of TFBS by scanning the genome for motif positions, and run market basket analysis to find co-occurring TFs:"
   ]
  },
  {
   "cell_type": "code",
   "execution_count": 1,
   "id": "ad106e78",
   "metadata": {},
   "outputs": [
    {
     "name": "stdout",
     "output_type": "stream",
     "text": [
      "INFO: Scanning for TFBS with 4 thread(s)...\n",
      "INFO: Progress: 10%\n",
      "INFO: Progress: 21%\n",
      "INFO: Progress: 30%\n",
      "INFO: Progress: 40%\n",
      "INFO: Progress: 52%\n",
      "INFO: Progress: 61%\n",
      "INFO: Progress: 70%\n",
      "INFO: Progress: 82%\n",
      "INFO: Progress: 90%\n",
      "INFO: Finished!\n",
      "INFO: Processing scanned TFBS\n",
      "INFO: Identified 335816 TFBS (401 unique names) within given regions\n"
     ]
    }
   ],
   "source": [
    "import tfcomb\n",
    "C = tfcomb.CombObj()\n",
    "C.TFBS_from_motifs(regions=\"../data/GM12878_hg38_chr4_ATAC_peaks.bed\", \n",
    "                   motifs=\"../data/HOCOMOCOv11_HUMAN_motifs.txt\",\n",
    "                   genome=\"../data/hg38_chr4_masked.fa.gz\", \n",
    "                   motif_pvalue=5e-05,\n",
    "                   threads=4)"
   ]
  },
  {
   "cell_type": "code",
   "execution_count": null,
   "id": "973faf7d",
   "metadata": {},
   "outputs": [
    {
     "name": "stdout",
     "output_type": "stream",
     "text": [
      "INFO: Setting up binding sites for counting\n",
      "INFO: Counting co-occurrences within sites\n",
      "INFO: Counting co-occurrence within background\n",
      "INFO: Progress: 12%\n",
      "INFO: Progress: 22%\n",
      "INFO: Progress: 30%\n",
      "INFO: Progress: 40%\n",
      "INFO: Progress: 50%\n"
     ]
    }
   ],
   "source": [
    "C.count_within(threads=4)\n",
    "C.market_basket()\n",
    "C.simplify_rules()"
   ]
  },
  {
   "cell_type": "code",
   "execution_count": null,
   "id": "2631e5f1",
   "metadata": {},
   "outputs": [],
   "source": [
    "C.rules.head(10)"
   ]
  },
  {
   "cell_type": "markdown",
   "id": "ae34c588",
   "metadata": {},
   "source": [
    "## Obtain locations of pairs "
   ]
  },
  {
   "cell_type": "code",
   "execution_count": null,
   "id": "710b8754",
   "metadata": {},
   "outputs": [],
   "source": [
    "pairs = C.get_pair_locations(\"PATZ1\",\"SP2\")"
   ]
  },
  {
   "cell_type": "code",
   "execution_count": null,
   "id": "413b01e8",
   "metadata": {},
   "outputs": [],
   "source": [
    "len(pairs)"
   ]
  },
  {
   "cell_type": "markdown",
   "id": "ca519fa2",
   "metadata": {},
   "source": [
    "## Plot pair footprints"
   ]
  },
  {
   "cell_type": "code",
   "execution_count": null,
   "id": "a610aa33",
   "metadata": {},
   "outputs": [],
   "source": [
    "pairs._bigwig_path = \"../data/GM12878_corrected.bw\""
   ]
  },
  {
   "cell_type": "code",
   "execution_count": null,
   "id": "36db47ba",
   "metadata": {},
   "outputs": [],
   "source": [
    "pairs.pairMap()"
   ]
  },
  {
   "cell_type": "code",
   "execution_count": null,
   "id": "2f949a7b",
   "metadata": {},
   "outputs": [],
   "source": [
    "pairs.pairMap(logNorm_cbar=\"SymLogNorm\")"
   ]
  },
  {
   "cell_type": "code",
   "execution_count": null,
   "id": "70a30b16",
   "metadata": {},
   "outputs": [],
   "source": [
    "pairs.pairTrackAnimation()"
   ]
  },
  {
   "cell_type": "code",
   "execution_count": null,
   "id": "0856def8",
   "metadata": {},
   "outputs": [],
   "source": [
    "_ = pairs.pairTrack(dist=list(range(0,10)))"
   ]
  },
  {
   "cell_type": "code",
   "execution_count": null,
   "id": "49024ec8",
   "metadata": {},
   "outputs": [],
   "source": []
  }
 ],
 "metadata": {
  "kernelspec": {
   "display_name": "py3",
   "language": "python",
   "name": "py3"
  },
  "language_info": {
   "codemirror_mode": {
    "name": "ipython",
    "version": 3
   },
   "file_extension": ".py",
   "mimetype": "text/x-python",
   "name": "python",
   "nbconvert_exporter": "python",
   "pygments_lexer": "ipython3",
   "version": "3.7.8"
  }
 },
 "nbformat": 4,
 "nbformat_minor": 5
}
