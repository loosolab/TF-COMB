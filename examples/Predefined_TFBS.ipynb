{
 "cells": [
  {
   "cell_type": "markdown",
   "metadata": {},
   "source": [
    "# Predefined TFBS"
   ]
  },
  {
   "cell_type": "code",
   "execution_count": 1,
   "metadata": {},
   "outputs": [],
   "source": [
    "import tfcomb.objects"
   ]
  },
  {
   "cell_type": "markdown",
   "metadata": {},
   "source": [
    "## Setup a CombObj"
   ]
  },
  {
   "cell_type": "code",
   "execution_count": 2,
   "metadata": {},
   "outputs": [],
   "source": [
    "o = tfcomb.objects.CombObj()"
   ]
  },
  {
   "cell_type": "code",
   "execution_count": 3,
   "metadata": {},
   "outputs": [],
   "source": [
    "o.cores = 10"
   ]
  },
  {
   "cell_type": "code",
   "execution_count": 4,
   "metadata": {},
   "outputs": [
    {
     "name": "stdout",
     "output_type": "stream",
     "text": [
      "- window: 100\n",
      "- max_overlap: 0\n",
      "- stranded: False\n",
      "- directional: False\n",
      "- motif_pvalue: 0.0001\n",
      "- motif_naming: name\n",
      "- verbosity: 2 (set using '.set_verbosity(<level>)')\n",
      "\n"
     ]
    }
   ],
   "source": [
    "o.print_parameters()"
   ]
  },
  {
   "cell_type": "markdown",
   "metadata": {},
   "source": [
    "## Read TFBS from .bed-file"
   ]
  },
  {
   "cell_type": "code",
   "execution_count": 5,
   "metadata": {},
   "outputs": [
    {
     "name": "stdout",
     "output_type": "stream",
     "text": [
      "INFO: Reading sites from '../data/GM12878.bed'...\n",
      "INFO: Read 1312497 sites (comprising 69 unique TFs)\n"
     ]
    }
   ],
   "source": [
    "o.TFBS_from_bed(\"../data/GM12878.bed\")"
   ]
  },
  {
   "cell_type": "markdown",
   "metadata": {},
   "source": [
    "Now, the CombObj contains the .TFBS variable containing all TFBS to use:"
   ]
  },
  {
   "cell_type": "code",
   "execution_count": 6,
   "metadata": {},
   "outputs": [
    {
     "data": {
      "text/plain": [
       "[['chr1', 10087, 10088, 'RELB', '793', '.'],\n",
       " ['chr1', 10093, 10094, 'NR2C1', '797', '.'],\n",
       " ['chr1', 268006, 268007, 'BHLHE40', '598', '.'],\n",
       " ['chr1', 268030, 268031, 'ZNF24', '754', '.'],\n",
       " ['chr1', 629858, 629859, 'ZSCAN29', '1000', '.'],\n",
       " ['chr1', 634014, 634015, 'TBX21', '1000', '.'],\n",
       " ['chr1', 634018, 634019, 'ZNF24', '1000', '.'],\n",
       " ['chr1', 634019, 634020, 'BACH1', '1000', '.'],\n",
       " ['chr1', 634019, 634020, 'IRF3', '1000', '.'],\n",
       " ['chr1', 634019, 634020, 'IRF5', '1000', '.']]"
      ]
     },
     "execution_count": 6,
     "metadata": {},
     "output_type": "execute_result"
    }
   ],
   "source": [
    "o.TFBS[:10]"
   ]
  },
  {
   "cell_type": "markdown",
   "metadata": {},
   "source": [
    "## Count co-occurring TFs"
   ]
  },
  {
   "cell_type": "code",
   "execution_count": 7,
   "metadata": {},
   "outputs": [
    {
     "name": "stdout",
     "output_type": "stream",
     "text": [
      "INFO: Counting co-occurring TFs from .TFBS...\n",
      "INFO: Done finding co-occurrences! Run .market_basket() to estimate significant pairs\n"
     ]
    }
   ],
   "source": [
    "o.count_within()"
   ]
  },
  {
   "cell_type": "markdown",
   "metadata": {},
   "source": [
    "## Perform market basket analysis"
   ]
  },
  {
   "cell_type": "code",
   "execution_count": 8,
   "metadata": {},
   "outputs": [],
   "source": [
    "o.market_basket()"
   ]
  },
  {
   "cell_type": "code",
   "execution_count": 9,
   "metadata": {},
   "outputs": [
    {
     "data": {
      "text/html": [
       "<div>\n",
       "<style scoped>\n",
       "    .dataframe tbody tr th:only-of-type {\n",
       "        vertical-align: middle;\n",
       "    }\n",
       "\n",
       "    .dataframe tbody tr th {\n",
       "        vertical-align: top;\n",
       "    }\n",
       "\n",
       "    .dataframe thead th {\n",
       "        text-align: right;\n",
       "    }\n",
       "</style>\n",
       "<table border=\"1\" class=\"dataframe\">\n",
       "  <thead>\n",
       "    <tr style=\"text-align: right;\">\n",
       "      <th></th>\n",
       "      <th>TF1</th>\n",
       "      <th>TF2</th>\n",
       "      <th>TF1_TF2_count</th>\n",
       "      <th>TF1_count</th>\n",
       "      <th>TF2_count</th>\n",
       "      <th>n_baskets</th>\n",
       "      <th>TF1_TF2_support</th>\n",
       "      <th>TF1_support</th>\n",
       "      <th>TF2_support</th>\n",
       "      <th>confidence</th>\n",
       "      <th>lift</th>\n",
       "      <th>cosine</th>\n",
       "      <th>jaccard</th>\n",
       "      <th>pvalue</th>\n",
       "      <th>pvalue_adj</th>\n",
       "    </tr>\n",
       "  </thead>\n",
       "  <tbody>\n",
       "    <tr>\n",
       "      <th>0</th>\n",
       "      <td>CTCF</td>\n",
       "      <td>ZNF143</td>\n",
       "      <td>23874</td>\n",
       "      <td>41402</td>\n",
       "      <td>39402</td>\n",
       "      <td>1312497</td>\n",
       "      <td>0.018190</td>\n",
       "      <td>0.031544</td>\n",
       "      <td>0.030021</td>\n",
       "      <td>0.576639</td>\n",
       "      <td>19.208078</td>\n",
       "      <td>0.591092</td>\n",
       "      <td>0.419357</td>\n",
       "      <td>0.0</td>\n",
       "      <td>0.0</td>\n",
       "    </tr>\n",
       "    <tr>\n",
       "      <th>1</th>\n",
       "      <td>ZNF143</td>\n",
       "      <td>CTCF</td>\n",
       "      <td>23874</td>\n",
       "      <td>39402</td>\n",
       "      <td>41402</td>\n",
       "      <td>1312497</td>\n",
       "      <td>0.018190</td>\n",
       "      <td>0.030021</td>\n",
       "      <td>0.031544</td>\n",
       "      <td>0.605908</td>\n",
       "      <td>19.208078</td>\n",
       "      <td>0.591092</td>\n",
       "      <td>0.419357</td>\n",
       "      <td>0.0</td>\n",
       "      <td>0.0</td>\n",
       "    </tr>\n",
       "    <tr>\n",
       "      <th>2</th>\n",
       "      <td>USF1</td>\n",
       "      <td>USF2</td>\n",
       "      <td>4376</td>\n",
       "      <td>8092</td>\n",
       "      <td>7690</td>\n",
       "      <td>1312497</td>\n",
       "      <td>0.003334</td>\n",
       "      <td>0.006165</td>\n",
       "      <td>0.005859</td>\n",
       "      <td>0.540781</td>\n",
       "      <td>92.298240</td>\n",
       "      <td>0.554736</td>\n",
       "      <td>0.383658</td>\n",
       "      <td>0.0</td>\n",
       "      <td>0.0</td>\n",
       "    </tr>\n",
       "    <tr>\n",
       "      <th>3</th>\n",
       "      <td>USF2</td>\n",
       "      <td>USF1</td>\n",
       "      <td>4376</td>\n",
       "      <td>7690</td>\n",
       "      <td>8092</td>\n",
       "      <td>1312497</td>\n",
       "      <td>0.003334</td>\n",
       "      <td>0.005859</td>\n",
       "      <td>0.006165</td>\n",
       "      <td>0.569051</td>\n",
       "      <td>92.298240</td>\n",
       "      <td>0.554736</td>\n",
       "      <td>0.383658</td>\n",
       "      <td>0.0</td>\n",
       "      <td>0.0</td>\n",
       "    </tr>\n",
       "    <tr>\n",
       "      <th>4</th>\n",
       "      <td>MEF2A</td>\n",
       "      <td>MEF2C</td>\n",
       "      <td>8683</td>\n",
       "      <td>22469</td>\n",
       "      <td>11826</td>\n",
       "      <td>1312497</td>\n",
       "      <td>0.006616</td>\n",
       "      <td>0.017119</td>\n",
       "      <td>0.009010</td>\n",
       "      <td>0.386444</td>\n",
       "      <td>42.889057</td>\n",
       "      <td>0.532671</td>\n",
       "      <td>0.339021</td>\n",
       "      <td>0.0</td>\n",
       "      <td>0.0</td>\n",
       "    </tr>\n",
       "  </tbody>\n",
       "</table>\n",
       "</div>"
      ],
      "text/plain": [
       "      TF1     TF2  TF1_TF2_count  TF1_count  TF2_count  n_baskets  \\\n",
       "0    CTCF  ZNF143          23874      41402      39402    1312497   \n",
       "1  ZNF143    CTCF          23874      39402      41402    1312497   \n",
       "2    USF1    USF2           4376       8092       7690    1312497   \n",
       "3    USF2    USF1           4376       7690       8092    1312497   \n",
       "4   MEF2A   MEF2C           8683      22469      11826    1312497   \n",
       "\n",
       "   TF1_TF2_support  TF1_support  TF2_support  confidence       lift    cosine  \\\n",
       "0         0.018190     0.031544     0.030021    0.576639  19.208078  0.591092   \n",
       "1         0.018190     0.030021     0.031544    0.605908  19.208078  0.591092   \n",
       "2         0.003334     0.006165     0.005859    0.540781  92.298240  0.554736   \n",
       "3         0.003334     0.005859     0.006165    0.569051  92.298240  0.554736   \n",
       "4         0.006616     0.017119     0.009010    0.386444  42.889057  0.532671   \n",
       "\n",
       "    jaccard  pvalue  pvalue_adj  \n",
       "0  0.419357     0.0         0.0  \n",
       "1  0.419357     0.0         0.0  \n",
       "2  0.383658     0.0         0.0  \n",
       "3  0.383658     0.0         0.0  \n",
       "4  0.339021     0.0         0.0  "
      ]
     },
     "execution_count": 9,
     "metadata": {},
     "output_type": "execute_result"
    }
   ],
   "source": [
    "o.table.head()"
   ]
  },
  {
   "cell_type": "markdown",
   "metadata": {},
   "source": [
    "## Visualize results"
   ]
  },
  {
   "cell_type": "code",
   "execution_count": 10,
   "metadata": {},
   "outputs": [
    {
     "data": {
      "image/png": "[encoded data removed]",
      "text/plain": [
       "<Figure size 576x576 with 2 Axes>"
      ]
     },
     "metadata": {
      "needs_background": "light"
     },
     "output_type": "display_data"
    }
   ],
   "source": [
    "_ = o.plot_heatmap()"
   ]
  },
  {
   "cell_type": "code",
   "execution_count": 11,
   "metadata": {},
   "outputs": [
    {
     "data": {
      "image/png": "[encoded data removed]",
      "text/plain": [
       "<Figure size 576x576 with 1 Axes>"
      ]
     },
     "metadata": {
      "needs_background": "light"
     },
     "output_type": "display_data"
    }
   ],
   "source": [
    "_ = o.plot_bubble()"
   ]
  }
 ],
 "metadata": {
  "kernelspec": {
   "display_name": "py3",
   "language": "python",
   "name": "py3"
  },
  "language_info": {
   "codemirror_mode": {
    "name": "ipython",
    "version": 3
   },
   "file_extension": ".py",
   "mimetype": "text/x-python",
   "name": "python",
   "nbconvert_exporter": "python",
   "pygments_lexer": "ipython3",
   "version": "3.7.6"
  }
 },
 "nbformat": 4,
 "nbformat_minor": 4
}
