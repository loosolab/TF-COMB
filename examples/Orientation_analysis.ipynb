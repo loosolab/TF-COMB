{
 "cells": [
  {
   "cell_type": "markdown",
   "metadata": {},
   "source": [
    "# Orientation analysis"
   ]
  },
  {
   "cell_type": "markdown",
   "metadata": {},
   "source": [
    "This is an example of a orientation analysis using .TFBS from motif sites."
   ]
  },
  {
   "cell_type": "markdown",
   "metadata": {},
   "source": [
    "## Create CombObj and fill it with .TFBS from motif scanning"
   ]
  },
  {
   "cell_type": "code",
   "execution_count": 1,
   "metadata": {},
   "outputs": [],
   "source": [
    "import tfcomb\n",
    "C = tfcomb.CombObj(verbosity=0)"
   ]
  },
  {
   "cell_type": "code",
   "execution_count": 2,
   "metadata": {},
   "outputs": [],
   "source": [
    "C.TFBS_from_motifs(regions=\"../data/GM12878_hg38_chr4_ATAC_peaks.bed\", \n",
    "                   motifs=\"../data/HOCOMOCOv11_HUMAN_motifs.txt\",\n",
    "                   genome=\"../data/hg38_chr4_masked.fa.gz\", \n",
    "                   threads=8)"
   ]
  },
  {
   "cell_type": "markdown",
   "metadata": {},
   "source": [
    "For this analysis, we will run count_within() with the stranded option turned on:"
   ]
  },
  {
   "cell_type": "code",
   "execution_count": 3,
   "metadata": {},
   "outputs": [],
   "source": [
    "C.count_within(stranded=True, threads=8)\n",
    "C.market_basket()"
   ]
  },
  {
   "cell_type": "code",
   "execution_count": 4,
   "metadata": {},
   "outputs": [
    {
     "data": {
      "text/html": [
       "<div>\n",
       "<style scoped>\n",
       "    .dataframe tbody tr th:only-of-type {\n",
       "        vertical-align: middle;\n",
       "    }\n",
       "\n",
       "    .dataframe tbody tr th {\n",
       "        vertical-align: top;\n",
       "    }\n",
       "\n",
       "    .dataframe thead th {\n",
       "        text-align: right;\n",
       "    }\n",
       "</style>\n",
       "<table border=\"1\" class=\"dataframe\">\n",
       "  <thead>\n",
       "    <tr style=\"text-align: right;\">\n",
       "      <th></th>\n",
       "      <th>TF1</th>\n",
       "      <th>TF2</th>\n",
       "      <th>TF1_TF2_count</th>\n",
       "      <th>TF1_count</th>\n",
       "      <th>TF2_count</th>\n",
       "      <th>cosine</th>\n",
       "      <th>zscore</th>\n",
       "    </tr>\n",
       "  </thead>\n",
       "  <tbody>\n",
       "    <tr>\n",
       "      <th>KLF1(-)-KLF9(-)</th>\n",
       "      <td>KLF1(-)</td>\n",
       "      <td>KLF9(-)</td>\n",
       "      <td>145</td>\n",
       "      <td>291</td>\n",
       "      <td>209</td>\n",
       "      <td>0.587961</td>\n",
       "      <td>66.330168</td>\n",
       "    </tr>\n",
       "    <tr>\n",
       "      <th>KLF9(-)-KLF1(-)</th>\n",
       "      <td>KLF9(-)</td>\n",
       "      <td>KLF1(-)</td>\n",
       "      <td>145</td>\n",
       "      <td>209</td>\n",
       "      <td>291</td>\n",
       "      <td>0.587961</td>\n",
       "      <td>66.330168</td>\n",
       "    </tr>\n",
       "    <tr>\n",
       "      <th>KLF1(-)-KLF12(-)</th>\n",
       "      <td>KLF1(-)</td>\n",
       "      <td>KLF12(-)</td>\n",
       "      <td>152</td>\n",
       "      <td>291</td>\n",
       "      <td>240</td>\n",
       "      <td>0.575164</td>\n",
       "      <td>61.565308</td>\n",
       "    </tr>\n",
       "    <tr>\n",
       "      <th>KLF12(-)-KLF1(-)</th>\n",
       "      <td>KLF12(-)</td>\n",
       "      <td>KLF1(-)</td>\n",
       "      <td>152</td>\n",
       "      <td>240</td>\n",
       "      <td>291</td>\n",
       "      <td>0.575164</td>\n",
       "      <td>61.565308</td>\n",
       "    </tr>\n",
       "    <tr>\n",
       "      <th>KLF12(-)-KLF9(-)</th>\n",
       "      <td>KLF12(-)</td>\n",
       "      <td>KLF9(-)</td>\n",
       "      <td>127</td>\n",
       "      <td>240</td>\n",
       "      <td>209</td>\n",
       "      <td>0.567055</td>\n",
       "      <td>62.215597</td>\n",
       "    </tr>\n",
       "    <tr>\n",
       "      <th>...</th>\n",
       "      <td>...</td>\n",
       "      <td>...</td>\n",
       "      <td>...</td>\n",
       "      <td>...</td>\n",
       "      <td>...</td>\n",
       "      <td>...</td>\n",
       "      <td>...</td>\n",
       "    </tr>\n",
       "    <tr>\n",
       "      <th>STAT2(+)-SP1(+)</th>\n",
       "      <td>STAT2(+)</td>\n",
       "      <td>SP1(+)</td>\n",
       "      <td>1</td>\n",
       "      <td>556</td>\n",
       "      <td>636</td>\n",
       "      <td>0.001682</td>\n",
       "      <td>-5.135968</td>\n",
       "    </tr>\n",
       "    <tr>\n",
       "      <th>NFE2L1(+)-SP2(+)</th>\n",
       "      <td>NFE2L1(+)</td>\n",
       "      <td>SP2(+)</td>\n",
       "      <td>1</td>\n",
       "      <td>451</td>\n",
       "      <td>798</td>\n",
       "      <td>0.001667</td>\n",
       "      <td>-4.294191</td>\n",
       "    </tr>\n",
       "    <tr>\n",
       "      <th>SP2(+)-NFE2L1(+)</th>\n",
       "      <td>SP2(+)</td>\n",
       "      <td>NFE2L1(+)</td>\n",
       "      <td>1</td>\n",
       "      <td>798</td>\n",
       "      <td>451</td>\n",
       "      <td>0.001667</td>\n",
       "      <td>-4.294191</td>\n",
       "    </tr>\n",
       "    <tr>\n",
       "      <th>BCL11A(+)-SP1(-)</th>\n",
       "      <td>BCL11A(+)</td>\n",
       "      <td>SP1(-)</td>\n",
       "      <td>1</td>\n",
       "      <td>562</td>\n",
       "      <td>653</td>\n",
       "      <td>0.001651</td>\n",
       "      <td>-4.399691</td>\n",
       "    </tr>\n",
       "    <tr>\n",
       "      <th>SP1(-)-BCL11A(+)</th>\n",
       "      <td>SP1(-)</td>\n",
       "      <td>BCL11A(+)</td>\n",
       "      <td>1</td>\n",
       "      <td>653</td>\n",
       "      <td>562</td>\n",
       "      <td>0.001651</td>\n",
       "      <td>-4.399691</td>\n",
       "    </tr>\n",
       "  </tbody>\n",
       "</table>\n",
       "<p>226676 rows × 7 columns</p>\n",
       "</div>"
      ],
      "text/plain": [
       "                        TF1        TF2  TF1_TF2_count  TF1_count  TF2_count  \\\n",
       "KLF1(-)-KLF9(-)     KLF1(-)    KLF9(-)            145        291        209   \n",
       "KLF9(-)-KLF1(-)     KLF9(-)    KLF1(-)            145        209        291   \n",
       "KLF1(-)-KLF12(-)    KLF1(-)   KLF12(-)            152        291        240   \n",
       "KLF12(-)-KLF1(-)   KLF12(-)    KLF1(-)            152        240        291   \n",
       "KLF12(-)-KLF9(-)   KLF12(-)    KLF9(-)            127        240        209   \n",
       "...                     ...        ...            ...        ...        ...   \n",
       "STAT2(+)-SP1(+)    STAT2(+)     SP1(+)              1        556        636   \n",
       "NFE2L1(+)-SP2(+)  NFE2L1(+)     SP2(+)              1        451        798   \n",
       "SP2(+)-NFE2L1(+)     SP2(+)  NFE2L1(+)              1        798        451   \n",
       "BCL11A(+)-SP1(-)  BCL11A(+)     SP1(-)              1        562        653   \n",
       "SP1(-)-BCL11A(+)     SP1(-)  BCL11A(+)              1        653        562   \n",
       "\n",
       "                    cosine     zscore  \n",
       "KLF1(-)-KLF9(-)   0.587961  66.330168  \n",
       "KLF9(-)-KLF1(-)   0.587961  66.330168  \n",
       "KLF1(-)-KLF12(-)  0.575164  61.565308  \n",
       "KLF12(-)-KLF1(-)  0.575164  61.565308  \n",
       "KLF12(-)-KLF9(-)  0.567055  62.215597  \n",
       "...                    ...        ...  \n",
       "STAT2(+)-SP1(+)   0.001682  -5.135968  \n",
       "NFE2L1(+)-SP2(+)  0.001667  -4.294191  \n",
       "SP2(+)-NFE2L1(+)  0.001667  -4.294191  \n",
       "BCL11A(+)-SP1(-)  0.001651  -4.399691  \n",
       "SP1(-)-BCL11A(+)  0.001651  -4.399691  \n",
       "\n",
       "[226676 rows x 7 columns]"
      ]
     },
     "execution_count": 4,
     "metadata": {},
     "output_type": "execute_result"
    }
   ],
   "source": [
    "C.rules"
   ]
  },
  {
   "cell_type": "markdown",
   "metadata": {},
   "source": [
    "## Analyze preferential orientation of motifs"
   ]
  },
  {
   "cell_type": "markdown",
   "metadata": {},
   "source": [
    "First, we create a directionality analysis for the rules found:"
   ]
  },
  {
   "cell_type": "code",
   "execution_count": 5,
   "metadata": {},
   "outputs": [
    {
     "name": "stdout",
     "output_type": "stream",
     "text": [
      "INFO: Rules are symmetric - scenarios counted are: ['same', 'opposite']\n"
     ]
    }
   ],
   "source": [
    "df = C.analyze_orientation()"
   ]
  },
  {
   "cell_type": "code",
   "execution_count": 6,
   "metadata": {},
   "outputs": [
    {
     "data": {
      "text/html": [
       "<div>\n",
       "<style scoped>\n",
       "    .dataframe tbody tr th:only-of-type {\n",
       "        vertical-align: middle;\n",
       "    }\n",
       "\n",
       "    .dataframe tbody tr th {\n",
       "        vertical-align: top;\n",
       "    }\n",
       "\n",
       "    .dataframe thead th {\n",
       "        text-align: right;\n",
       "    }\n",
       "</style>\n",
       "<table border=\"1\" class=\"dataframe\">\n",
       "  <thead>\n",
       "    <tr style=\"text-align: right;\">\n",
       "      <th></th>\n",
       "      <th>TF1</th>\n",
       "      <th>TF2</th>\n",
       "      <th>TF1_TF2_count</th>\n",
       "      <th>same</th>\n",
       "      <th>opposite</th>\n",
       "      <th>std</th>\n",
       "      <th>pvalue</th>\n",
       "    </tr>\n",
       "  </thead>\n",
       "  <tbody>\n",
       "    <tr>\n",
       "      <th>SP3-SP4</th>\n",
       "      <td>SP3</td>\n",
       "      <td>SP4</td>\n",
       "      <td>534</td>\n",
       "      <td>0.758427</td>\n",
       "      <td>0.241573</td>\n",
       "      <td>0.365471</td>\n",
       "      <td>7.004689e-33</td>\n",
       "    </tr>\n",
       "    <tr>\n",
       "      <th>PATZ1-SP1</th>\n",
       "      <td>PATZ1</td>\n",
       "      <td>SP1</td>\n",
       "      <td>631</td>\n",
       "      <td>0.730586</td>\n",
       "      <td>0.269414</td>\n",
       "      <td>0.326098</td>\n",
       "      <td>4.936837e-31</td>\n",
       "    </tr>\n",
       "    <tr>\n",
       "      <th>PATZ1-SP3</th>\n",
       "      <td>PATZ1</td>\n",
       "      <td>SP3</td>\n",
       "      <td>642</td>\n",
       "      <td>0.725857</td>\n",
       "      <td>0.274143</td>\n",
       "      <td>0.319410</td>\n",
       "      <td>2.479952e-30</td>\n",
       "    </tr>\n",
       "    <tr>\n",
       "      <th>SP1-SP3</th>\n",
       "      <td>SP1</td>\n",
       "      <td>SP3</td>\n",
       "      <td>756</td>\n",
       "      <td>0.705026</td>\n",
       "      <td>0.294974</td>\n",
       "      <td>0.289951</td>\n",
       "      <td>1.751909e-29</td>\n",
       "    </tr>\n",
       "    <tr>\n",
       "      <th>KLF1-KLF9</th>\n",
       "      <td>KLF1</td>\n",
       "      <td>KLF9</td>\n",
       "      <td>243</td>\n",
       "      <td>0.851852</td>\n",
       "      <td>0.148148</td>\n",
       "      <td>0.497594</td>\n",
       "      <td>5.347598e-28</td>\n",
       "    </tr>\n",
       "  </tbody>\n",
       "</table>\n",
       "</div>"
      ],
      "text/plain": [
       "             TF1   TF2  TF1_TF2_count      same  opposite       std  \\\n",
       "SP3-SP4      SP3   SP4            534  0.758427  0.241573  0.365471   \n",
       "PATZ1-SP1  PATZ1   SP1            631  0.730586  0.269414  0.326098   \n",
       "PATZ1-SP3  PATZ1   SP3            642  0.725857  0.274143  0.319410   \n",
       "SP1-SP3      SP1   SP3            756  0.705026  0.294974  0.289951   \n",
       "KLF1-KLF9   KLF1  KLF9            243  0.851852  0.148148  0.497594   \n",
       "\n",
       "                 pvalue  \n",
       "SP3-SP4    7.004689e-33  \n",
       "PATZ1-SP1  4.936837e-31  \n",
       "PATZ1-SP3  2.479952e-30  \n",
       "SP1-SP3    1.751909e-29  \n",
       "KLF1-KLF9  5.347598e-28  "
      ]
     },
     "execution_count": 6,
     "metadata": {},
     "output_type": "execute_result"
    }
   ],
   "source": [
    "df.head()"
   ]
  },
  {
   "cell_type": "markdown",
   "metadata": {},
   "source": [
    "We can subset these on pvalue and number of sites:"
   ]
  },
  {
   "cell_type": "code",
   "execution_count": 7,
   "metadata": {},
   "outputs": [],
   "source": [
    "selected = df[(df[\"pvalue\"] < 0.01) & (df[\"TF1_TF2_count\"] > 50)]"
   ]
  },
  {
   "cell_type": "code",
   "execution_count": 8,
   "metadata": {},
   "outputs": [
    {
     "data": {
      "text/plain": [
       "476"
      ]
     },
     "execution_count": 8,
     "metadata": {},
     "output_type": "execute_result"
    }
   ],
   "source": [
    "#Number of TF pairs with significant differences in orientation\n",
    "selected.shape[0]"
   ]
  },
  {
   "cell_type": "markdown",
   "metadata": {},
   "source": [
    "We can also use the .loc-operator of the pandas dataframe to show the results of a subset of TF1-TF2-pairs:"
   ]
  },
  {
   "cell_type": "code",
   "execution_count": 9,
   "metadata": {},
   "outputs": [
    {
     "data": {
      "text/html": [
       "<div>\n",
       "<style scoped>\n",
       "    .dataframe tbody tr th:only-of-type {\n",
       "        vertical-align: middle;\n",
       "    }\n",
       "\n",
       "    .dataframe tbody tr th {\n",
       "        vertical-align: top;\n",
       "    }\n",
       "\n",
       "    .dataframe thead th {\n",
       "        text-align: right;\n",
       "    }\n",
       "</style>\n",
       "<table border=\"1\" class=\"dataframe\">\n",
       "  <thead>\n",
       "    <tr style=\"text-align: right;\">\n",
       "      <th></th>\n",
       "      <th>TF1</th>\n",
       "      <th>TF2</th>\n",
       "      <th>TF1_TF2_count</th>\n",
       "      <th>same</th>\n",
       "      <th>opposite</th>\n",
       "      <th>std</th>\n",
       "      <th>pvalue</th>\n",
       "    </tr>\n",
       "  </thead>\n",
       "  <tbody>\n",
       "    <tr>\n",
       "      <th>EGR1-IRF4</th>\n",
       "      <td>EGR1</td>\n",
       "      <td>IRF4</td>\n",
       "      <td>15</td>\n",
       "      <td>0.866667</td>\n",
       "      <td>0.133333</td>\n",
       "      <td>0.518545</td>\n",
       "      <td>0.004509</td>\n",
       "    </tr>\n",
       "    <tr>\n",
       "      <th>SP1-TAF1</th>\n",
       "      <td>SP1</td>\n",
       "      <td>TAF1</td>\n",
       "      <td>153</td>\n",
       "      <td>0.679739</td>\n",
       "      <td>0.320261</td>\n",
       "      <td>0.254189</td>\n",
       "      <td>0.000009</td>\n",
       "    </tr>\n",
       "  </tbody>\n",
       "</table>\n",
       "</div>"
      ],
      "text/plain": [
       "            TF1   TF2  TF1_TF2_count      same  opposite       std    pvalue\n",
       "EGR1-IRF4  EGR1  IRF4             15  0.866667  0.133333  0.518545  0.004509\n",
       "SP1-TAF1    SP1  TAF1            153  0.679739  0.320261  0.254189  0.000009"
      ]
     },
     "execution_count": 9,
     "metadata": {},
     "output_type": "execute_result"
    }
   ],
   "source": [
    "df.loc[[\"EGR1-IRF4\", \"SP1-TAF1\"]]"
   ]
  },
  {
   "cell_type": "markdown",
   "metadata": {},
   "source": [
    "## Visualization of orientation preference"
   ]
  },
  {
   "cell_type": "code",
   "execution_count": 10,
   "metadata": {},
   "outputs": [
    {
     "data": {
      "image/png": "[encoded data removed]",
      "text/plain": [
       "<Figure size 432x432 with 4 Axes>"
      ]
     },
     "metadata": {
      "needs_background": "light"
     },
     "output_type": "display_data"
    }
   ],
   "source": [
    "_ = selected.plot_heatmap()"
   ]
  },
  {
   "cell_type": "markdown",
   "metadata": {},
   "source": [
    "We can select the subsets by investigating the selected pairs:"
   ]
  },
  {
   "cell_type": "code",
   "execution_count": 11,
   "metadata": {},
   "outputs": [
    {
     "data": {
      "text/html": [
       "<div>\n",
       "<style scoped>\n",
       "    .dataframe tbody tr th:only-of-type {\n",
       "        vertical-align: middle;\n",
       "    }\n",
       "\n",
       "    .dataframe tbody tr th {\n",
       "        vertical-align: top;\n",
       "    }\n",
       "\n",
       "    .dataframe thead th {\n",
       "        text-align: right;\n",
       "    }\n",
       "</style>\n",
       "<table border=\"1\" class=\"dataframe\">\n",
       "  <thead>\n",
       "    <tr style=\"text-align: right;\">\n",
       "      <th></th>\n",
       "      <th>TF1</th>\n",
       "      <th>TF2</th>\n",
       "      <th>TF1_TF2_count</th>\n",
       "      <th>same</th>\n",
       "      <th>opposite</th>\n",
       "      <th>std</th>\n",
       "      <th>pvalue</th>\n",
       "    </tr>\n",
       "  </thead>\n",
       "  <tbody>\n",
       "    <tr>\n",
       "      <th>KLF3-ZIC3</th>\n",
       "      <td>KLF3</td>\n",
       "      <td>ZIC3</td>\n",
       "      <td>66</td>\n",
       "      <td>0.166667</td>\n",
       "      <td>0.833333</td>\n",
       "      <td>0.471405</td>\n",
       "      <td>6.093838e-08</td>\n",
       "    </tr>\n",
       "    <tr>\n",
       "      <th>SP1-ZFX</th>\n",
       "      <td>SP1</td>\n",
       "      <td>ZFX</td>\n",
       "      <td>81</td>\n",
       "      <td>0.222222</td>\n",
       "      <td>0.777778</td>\n",
       "      <td>0.392837</td>\n",
       "      <td>5.733031e-07</td>\n",
       "    </tr>\n",
       "    <tr>\n",
       "      <th>PATZ1-ZFX</th>\n",
       "      <td>PATZ1</td>\n",
       "      <td>ZFX</td>\n",
       "      <td>74</td>\n",
       "      <td>0.229730</td>\n",
       "      <td>0.770270</td>\n",
       "      <td>0.382220</td>\n",
       "      <td>3.320871e-06</td>\n",
       "    </tr>\n",
       "    <tr>\n",
       "      <th>SP4-ZFX</th>\n",
       "      <td>SP4</td>\n",
       "      <td>ZFX</td>\n",
       "      <td>52</td>\n",
       "      <td>0.250000</td>\n",
       "      <td>0.750000</td>\n",
       "      <td>0.353553</td>\n",
       "      <td>3.114910e-04</td>\n",
       "    </tr>\n",
       "    <tr>\n",
       "      <th>ASCL1-WT1</th>\n",
       "      <td>ASCL1</td>\n",
       "      <td>WT1</td>\n",
       "      <td>61</td>\n",
       "      <td>0.262295</td>\n",
       "      <td>0.737705</td>\n",
       "      <td>0.336166</td>\n",
       "      <td>2.047606e-04</td>\n",
       "    </tr>\n",
       "  </tbody>\n",
       "</table>\n",
       "</div>"
      ],
      "text/plain": [
       "             TF1   TF2  TF1_TF2_count      same  opposite       std  \\\n",
       "KLF3-ZIC3   KLF3  ZIC3             66  0.166667  0.833333  0.471405   \n",
       "SP1-ZFX      SP1   ZFX             81  0.222222  0.777778  0.392837   \n",
       "PATZ1-ZFX  PATZ1   ZFX             74  0.229730  0.770270  0.382220   \n",
       "SP4-ZFX      SP4   ZFX             52  0.250000  0.750000  0.353553   \n",
       "ASCL1-WT1  ASCL1   WT1             61  0.262295  0.737705  0.336166   \n",
       "\n",
       "                 pvalue  \n",
       "KLF3-ZIC3  6.093838e-08  \n",
       "SP1-ZFX    5.733031e-07  \n",
       "PATZ1-ZFX  3.320871e-06  \n",
       "SP4-ZFX    3.114910e-04  \n",
       "ASCL1-WT1  2.047606e-04  "
      ]
     },
     "execution_count": 11,
     "metadata": {},
     "output_type": "execute_result"
    }
   ],
   "source": [
    "selected.sort_values(\"same\").head(5)"
   ]
  },
  {
   "cell_type": "code",
   "execution_count": 12,
   "metadata": {},
   "outputs": [
    {
     "data": {
      "text/html": [
       "<div>\n",
       "<style scoped>\n",
       "    .dataframe tbody tr th:only-of-type {\n",
       "        vertical-align: middle;\n",
       "    }\n",
       "\n",
       "    .dataframe tbody tr th {\n",
       "        vertical-align: top;\n",
       "    }\n",
       "\n",
       "    .dataframe thead th {\n",
       "        text-align: right;\n",
       "    }\n",
       "</style>\n",
       "<table border=\"1\" class=\"dataframe\">\n",
       "  <thead>\n",
       "    <tr style=\"text-align: right;\">\n",
       "      <th></th>\n",
       "      <th>TF1</th>\n",
       "      <th>TF2</th>\n",
       "      <th>TF1_TF2_count</th>\n",
       "      <th>same</th>\n",
       "      <th>opposite</th>\n",
       "      <th>std</th>\n",
       "      <th>pvalue</th>\n",
       "    </tr>\n",
       "  </thead>\n",
       "  <tbody>\n",
       "    <tr>\n",
       "      <th>KLF4-KLF5</th>\n",
       "      <td>KLF4</td>\n",
       "      <td>KLF5</td>\n",
       "      <td>63</td>\n",
       "      <td>0.920635</td>\n",
       "      <td>0.079365</td>\n",
       "      <td>0.594868</td>\n",
       "      <td>2.432643e-11</td>\n",
       "    </tr>\n",
       "    <tr>\n",
       "      <th>ETV4-KLF3</th>\n",
       "      <td>ETV4</td>\n",
       "      <td>KLF3</td>\n",
       "      <td>57</td>\n",
       "      <td>0.912281</td>\n",
       "      <td>0.087719</td>\n",
       "      <td>0.583053</td>\n",
       "      <td>4.806291e-10</td>\n",
       "    </tr>\n",
       "    <tr>\n",
       "      <th>KLF9-KLF9</th>\n",
       "      <td>KLF9</td>\n",
       "      <td>KLF9</td>\n",
       "      <td>123</td>\n",
       "      <td>0.886179</td>\n",
       "      <td>0.113821</td>\n",
       "      <td>0.546139</td>\n",
       "      <td>1.072707e-17</td>\n",
       "    </tr>\n",
       "    <tr>\n",
       "      <th>KLF4-MAZ</th>\n",
       "      <td>KLF4</td>\n",
       "      <td>MAZ</td>\n",
       "      <td>70</td>\n",
       "      <td>0.871429</td>\n",
       "      <td>0.128571</td>\n",
       "      <td>0.525279</td>\n",
       "      <td>5.126299e-10</td>\n",
       "    </tr>\n",
       "    <tr>\n",
       "      <th>KLF4-KLF9</th>\n",
       "      <td>KLF4</td>\n",
       "      <td>KLF9</td>\n",
       "      <td>74</td>\n",
       "      <td>0.864865</td>\n",
       "      <td>0.135135</td>\n",
       "      <td>0.515997</td>\n",
       "      <td>3.443424e-10</td>\n",
       "    </tr>\n",
       "  </tbody>\n",
       "</table>\n",
       "</div>"
      ],
      "text/plain": [
       "            TF1   TF2  TF1_TF2_count      same  opposite       std  \\\n",
       "KLF4-KLF5  KLF4  KLF5             63  0.920635  0.079365  0.594868   \n",
       "ETV4-KLF3  ETV4  KLF3             57  0.912281  0.087719  0.583053   \n",
       "KLF9-KLF9  KLF9  KLF9            123  0.886179  0.113821  0.546139   \n",
       "KLF4-MAZ   KLF4   MAZ             70  0.871429  0.128571  0.525279   \n",
       "KLF4-KLF9  KLF4  KLF9             74  0.864865  0.135135  0.515997   \n",
       "\n",
       "                 pvalue  \n",
       "KLF4-KLF5  2.432643e-11  \n",
       "ETV4-KLF3  4.806291e-10  \n",
       "KLF9-KLF9  1.072707e-17  \n",
       "KLF4-MAZ   5.126299e-10  \n",
       "KLF4-KLF9  3.443424e-10  "
      ]
     },
     "execution_count": 12,
     "metadata": {},
     "output_type": "execute_result"
    }
   ],
   "source": [
    "selected.sort_values(\"opposite\").head(5)"
   ]
  },
  {
   "cell_type": "markdown",
   "metadata": {},
   "source": [
    "-----------"
   ]
  },
  {
   "cell_type": "markdown",
   "metadata": {},
   "source": [
    "## Extended analysis with directional=True"
   ]
  },
  {
   "cell_type": "markdown",
   "metadata": {},
   "source": [
    "The first analysis presented does not take into account the relative order of TF1-TF2, e.g. if the orientation \"same\" represents \"TF1-TF2\" or "
   ]
  },
  {
   "cell_type": "code",
   "execution_count": 13,
   "metadata": {},
   "outputs": [],
   "source": [
    "C.count_within(directional=True, stranded=True, threads=8)\n",
    "C.market_basket()"
   ]
  },
  {
   "cell_type": "code",
   "execution_count": 14,
   "metadata": {},
   "outputs": [
    {
     "name": "stdout",
     "output_type": "stream",
     "text": [
      "INFO: Rules are directional - scenarios counted are: ['TF1-TF2', 'TF2-TF1', 'convergent', 'divergent']\n"
     ]
    }
   ],
   "source": [
    "df = C.analyze_orientation()"
   ]
  },
  {
   "cell_type": "code",
   "execution_count": 15,
   "metadata": {},
   "outputs": [
    {
     "data": {
      "text/html": [
       "<div>\n",
       "<style scoped>\n",
       "    .dataframe tbody tr th:only-of-type {\n",
       "        vertical-align: middle;\n",
       "    }\n",
       "\n",
       "    .dataframe tbody tr th {\n",
       "        vertical-align: top;\n",
       "    }\n",
       "\n",
       "    .dataframe thead th {\n",
       "        text-align: right;\n",
       "    }\n",
       "</style>\n",
       "<table border=\"1\" class=\"dataframe\">\n",
       "  <thead>\n",
       "    <tr style=\"text-align: right;\">\n",
       "      <th></th>\n",
       "      <th>TF1</th>\n",
       "      <th>TF2</th>\n",
       "      <th>TF1_TF2_count</th>\n",
       "      <th>TF1-TF2</th>\n",
       "      <th>TF2-TF1</th>\n",
       "      <th>convergent</th>\n",
       "      <th>divergent</th>\n",
       "      <th>std</th>\n",
       "      <th>pvalue</th>\n",
       "    </tr>\n",
       "  </thead>\n",
       "  <tbody>\n",
       "    <tr>\n",
       "      <th>SP2-SP2</th>\n",
       "      <td>SP2</td>\n",
       "      <td>SP2</td>\n",
       "      <td>1077</td>\n",
       "      <td>0.395543</td>\n",
       "      <td>0.395543</td>\n",
       "      <td>0.102136</td>\n",
       "      <td>0.106778</td>\n",
       "      <td>0.168069</td>\n",
       "      <td>8.140464e-79</td>\n",
       "    </tr>\n",
       "    <tr>\n",
       "      <th>SP1-SP1</th>\n",
       "      <td>SP1</td>\n",
       "      <td>SP1</td>\n",
       "      <td>687</td>\n",
       "      <td>0.417758</td>\n",
       "      <td>0.417758</td>\n",
       "      <td>0.075691</td>\n",
       "      <td>0.088792</td>\n",
       "      <td>0.193784</td>\n",
       "      <td>8.390630e-67</td>\n",
       "    </tr>\n",
       "    <tr>\n",
       "      <th>SP3-SP3</th>\n",
       "      <td>SP3</td>\n",
       "      <td>SP3</td>\n",
       "      <td>718</td>\n",
       "      <td>0.412256</td>\n",
       "      <td>0.412256</td>\n",
       "      <td>0.094708</td>\n",
       "      <td>0.080780</td>\n",
       "      <td>0.187444</td>\n",
       "      <td>2.559523e-65</td>\n",
       "    </tr>\n",
       "    <tr>\n",
       "      <th>PATZ1-PATZ1</th>\n",
       "      <td>PATZ1</td>\n",
       "      <td>PATZ1</td>\n",
       "      <td>547</td>\n",
       "      <td>0.422303</td>\n",
       "      <td>0.422303</td>\n",
       "      <td>0.078611</td>\n",
       "      <td>0.076782</td>\n",
       "      <td>0.198960</td>\n",
       "      <td>4.875297e-56</td>\n",
       "    </tr>\n",
       "    <tr>\n",
       "      <th>SP4-SP4</th>\n",
       "      <td>SP4</td>\n",
       "      <td>SP4</td>\n",
       "      <td>371</td>\n",
       "      <td>0.444744</td>\n",
       "      <td>0.444744</td>\n",
       "      <td>0.070081</td>\n",
       "      <td>0.040431</td>\n",
       "      <td>0.225196</td>\n",
       "      <td>1.132384e-48</td>\n",
       "    </tr>\n",
       "  </tbody>\n",
       "</table>\n",
       "</div>"
      ],
      "text/plain": [
       "               TF1    TF2  TF1_TF2_count   TF1-TF2   TF2-TF1  convergent  \\\n",
       "SP2-SP2        SP2    SP2           1077  0.395543  0.395543    0.102136   \n",
       "SP1-SP1        SP1    SP1            687  0.417758  0.417758    0.075691   \n",
       "SP3-SP3        SP3    SP3            718  0.412256  0.412256    0.094708   \n",
       "PATZ1-PATZ1  PATZ1  PATZ1            547  0.422303  0.422303    0.078611   \n",
       "SP4-SP4        SP4    SP4            371  0.444744  0.444744    0.070081   \n",
       "\n",
       "             divergent       std        pvalue  \n",
       "SP2-SP2       0.106778  0.168069  8.140464e-79  \n",
       "SP1-SP1       0.088792  0.193784  8.390630e-67  \n",
       "SP3-SP3       0.080780  0.187444  2.559523e-65  \n",
       "PATZ1-PATZ1   0.076782  0.198960  4.875297e-56  \n",
       "SP4-SP4       0.040431  0.225196  1.132384e-48  "
      ]
     },
     "execution_count": 15,
     "metadata": {},
     "output_type": "execute_result"
    }
   ],
   "source": [
    "df.head()"
   ]
  },
  {
   "cell_type": "markdown",
   "metadata": {},
   "source": [
    "Similarly to the first analysis, we can select the significant pairs and visualize the preferences for orientation:"
   ]
  },
  {
   "cell_type": "code",
   "execution_count": 16,
   "metadata": {},
   "outputs": [],
   "source": [
    "selected = df[(df[\"pvalue\"] < 0.05) & (df[\"TF1_TF2_count\"] > 50)]"
   ]
  },
  {
   "cell_type": "code",
   "execution_count": 17,
   "metadata": {},
   "outputs": [
    {
     "data": {
      "image/png": "[encoded data removed]",
      "text/plain": [
       "<Figure size 432x432 with 4 Axes>"
      ]
     },
     "metadata": {
      "needs_background": "light"
     },
     "output_type": "display_data"
    }
   ],
   "source": [
    "_ = selected.plot_heatmap()"
   ]
  },
  {
   "cell_type": "markdown",
   "metadata": {},
   "source": [
    "----------"
   ]
  },
  {
   "cell_type": "markdown",
   "metadata": {},
   "source": [
    "## In-depth look at preferential orientation"
   ]
  },
  {
   "cell_type": "markdown",
   "metadata": {},
   "source": [
    "By sorting the selected co-occurring TF pairs, it is also possible to visualize the top pairs within each scenario as seen below."
   ]
  },
  {
   "cell_type": "markdown",
   "metadata": {},
   "source": [
    "### TFs specific in TF1-TF2 orientation"
   ]
  },
  {
   "cell_type": "code",
   "execution_count": 18,
   "metadata": {},
   "outputs": [
    {
     "data": {
      "text/html": [
       "<div>\n",
       "<style scoped>\n",
       "    .dataframe tbody tr th:only-of-type {\n",
       "        vertical-align: middle;\n",
       "    }\n",
       "\n",
       "    .dataframe tbody tr th {\n",
       "        vertical-align: top;\n",
       "    }\n",
       "\n",
       "    .dataframe thead th {\n",
       "        text-align: right;\n",
       "    }\n",
       "</style>\n",
       "<table border=\"1\" class=\"dataframe\">\n",
       "  <thead>\n",
       "    <tr style=\"text-align: right;\">\n",
       "      <th></th>\n",
       "      <th>TF1</th>\n",
       "      <th>TF2</th>\n",
       "      <th>TF1_TF2_count</th>\n",
       "      <th>TF1-TF2</th>\n",
       "      <th>TF2-TF1</th>\n",
       "      <th>convergent</th>\n",
       "      <th>divergent</th>\n",
       "      <th>std</th>\n",
       "      <th>pvalue</th>\n",
       "    </tr>\n",
       "  </thead>\n",
       "  <tbody>\n",
       "    <tr>\n",
       "      <th>KLF9-ZNF341</th>\n",
       "      <td>KLF9</td>\n",
       "      <td>ZNF341</td>\n",
       "      <td>80</td>\n",
       "      <td>0.500000</td>\n",
       "      <td>0.337500</td>\n",
       "      <td>0.100000</td>\n",
       "      <td>0.062500</td>\n",
       "      <td>0.206408</td>\n",
       "      <td>6.866468e-09</td>\n",
       "    </tr>\n",
       "    <tr>\n",
       "      <th>KLF1-KLF4</th>\n",
       "      <td>KLF1</td>\n",
       "      <td>KLF4</td>\n",
       "      <td>97</td>\n",
       "      <td>0.494845</td>\n",
       "      <td>0.360825</td>\n",
       "      <td>0.041237</td>\n",
       "      <td>0.103093</td>\n",
       "      <td>0.214005</td>\n",
       "      <td>1.575098e-11</td>\n",
       "    </tr>\n",
       "    <tr>\n",
       "      <th>KLF4-KLF4</th>\n",
       "      <td>KLF4</td>\n",
       "      <td>KLF4</td>\n",
       "      <td>56</td>\n",
       "      <td>0.482143</td>\n",
       "      <td>0.482143</td>\n",
       "      <td>0.017857</td>\n",
       "      <td>0.017857</td>\n",
       "      <td>0.268055</td>\n",
       "      <td>1.851271e-10</td>\n",
       "    </tr>\n",
       "    <tr>\n",
       "      <th>BCL11A-SPIB</th>\n",
       "      <td>BCL11A</td>\n",
       "      <td>SPIB</td>\n",
       "      <td>56</td>\n",
       "      <td>0.482143</td>\n",
       "      <td>0.321429</td>\n",
       "      <td>0.107143</td>\n",
       "      <td>0.089286</td>\n",
       "      <td>0.187287</td>\n",
       "      <td>3.069277e-05</td>\n",
       "    </tr>\n",
       "    <tr>\n",
       "      <th>KLF5-ZNF341</th>\n",
       "      <td>KLF5</td>\n",
       "      <td>ZNF341</td>\n",
       "      <td>61</td>\n",
       "      <td>0.475410</td>\n",
       "      <td>0.278689</td>\n",
       "      <td>0.114754</td>\n",
       "      <td>0.131148</td>\n",
       "      <td>0.167382</td>\n",
       "      <td>1.331723e-04</td>\n",
       "    </tr>\n",
       "  </tbody>\n",
       "</table>\n",
       "</div>"
      ],
      "text/plain": [
       "                TF1     TF2  TF1_TF2_count   TF1-TF2   TF2-TF1  convergent  \\\n",
       "KLF9-ZNF341    KLF9  ZNF341             80  0.500000  0.337500    0.100000   \n",
       "KLF1-KLF4      KLF1    KLF4             97  0.494845  0.360825    0.041237   \n",
       "KLF4-KLF4      KLF4    KLF4             56  0.482143  0.482143    0.017857   \n",
       "BCL11A-SPIB  BCL11A    SPIB             56  0.482143  0.321429    0.107143   \n",
       "KLF5-ZNF341    KLF5  ZNF341             61  0.475410  0.278689    0.114754   \n",
       "\n",
       "             divergent       std        pvalue  \n",
       "KLF9-ZNF341   0.062500  0.206408  6.866468e-09  \n",
       "KLF1-KLF4     0.103093  0.214005  1.575098e-11  \n",
       "KLF4-KLF4     0.017857  0.268055  1.851271e-10  \n",
       "BCL11A-SPIB   0.089286  0.187287  3.069277e-05  \n",
       "KLF5-ZNF341   0.131148  0.167382  1.331723e-04  "
      ]
     },
     "execution_count": 18,
     "metadata": {},
     "output_type": "execute_result"
    }
   ],
   "source": [
    "selected.sort_values(\"TF1-TF2\", ascending=False).head()"
   ]
  },
  {
   "cell_type": "markdown",
   "metadata": {},
   "source": [
    "### TFs specific in TF2-TF2 orientation"
   ]
  },
  {
   "cell_type": "code",
   "execution_count": 19,
   "metadata": {},
   "outputs": [
    {
     "data": {
      "text/html": [
       "<div>\n",
       "<style scoped>\n",
       "    .dataframe tbody tr th:only-of-type {\n",
       "        vertical-align: middle;\n",
       "    }\n",
       "\n",
       "    .dataframe tbody tr th {\n",
       "        vertical-align: top;\n",
       "    }\n",
       "\n",
       "    .dataframe thead th {\n",
       "        text-align: right;\n",
       "    }\n",
       "</style>\n",
       "<table border=\"1\" class=\"dataframe\">\n",
       "  <thead>\n",
       "    <tr style=\"text-align: right;\">\n",
       "      <th></th>\n",
       "      <th>TF1</th>\n",
       "      <th>TF2</th>\n",
       "      <th>TF1_TF2_count</th>\n",
       "      <th>TF1-TF2</th>\n",
       "      <th>TF2-TF1</th>\n",
       "      <th>convergent</th>\n",
       "      <th>divergent</th>\n",
       "      <th>std</th>\n",
       "      <th>pvalue</th>\n",
       "    </tr>\n",
       "  </thead>\n",
       "  <tbody>\n",
       "    <tr>\n",
       "      <th>KLF4-MAZ</th>\n",
       "      <td>KLF4</td>\n",
       "      <td>MAZ</td>\n",
       "      <td>70</td>\n",
       "      <td>0.328571</td>\n",
       "      <td>0.542857</td>\n",
       "      <td>0.042857</td>\n",
       "      <td>0.085714</td>\n",
       "      <td>0.232262</td>\n",
       "      <td>7.933608e-10</td>\n",
       "    </tr>\n",
       "    <tr>\n",
       "      <th>EGR1-KLF9</th>\n",
       "      <td>EGR1</td>\n",
       "      <td>KLF9</td>\n",
       "      <td>72</td>\n",
       "      <td>0.277778</td>\n",
       "      <td>0.541667</td>\n",
       "      <td>0.138889</td>\n",
       "      <td>0.041667</td>\n",
       "      <td>0.217248</td>\n",
       "      <td>7.288757e-09</td>\n",
       "    </tr>\n",
       "    <tr>\n",
       "      <th>KLF4-KLF5</th>\n",
       "      <td>KLF4</td>\n",
       "      <td>KLF5</td>\n",
       "      <td>63</td>\n",
       "      <td>0.380952</td>\n",
       "      <td>0.539683</td>\n",
       "      <td>0.000000</td>\n",
       "      <td>0.079365</td>\n",
       "      <td>0.253430</td>\n",
       "      <td>1.621951e-10</td>\n",
       "    </tr>\n",
       "    <tr>\n",
       "      <th>ETV4-KLF3</th>\n",
       "      <td>ETV4</td>\n",
       "      <td>KLF3</td>\n",
       "      <td>57</td>\n",
       "      <td>0.403509</td>\n",
       "      <td>0.508772</td>\n",
       "      <td>0.017544</td>\n",
       "      <td>0.070175</td>\n",
       "      <td>0.242831</td>\n",
       "      <td>9.055097e-09</td>\n",
       "    </tr>\n",
       "    <tr>\n",
       "      <th>E2F6-SP4</th>\n",
       "      <td>E2F6</td>\n",
       "      <td>SP4</td>\n",
       "      <td>80</td>\n",
       "      <td>0.275000</td>\n",
       "      <td>0.500000</td>\n",
       "      <td>0.137500</td>\n",
       "      <td>0.087500</td>\n",
       "      <td>0.184560</td>\n",
       "      <td>3.725792e-07</td>\n",
       "    </tr>\n",
       "  </tbody>\n",
       "</table>\n",
       "</div>"
      ],
      "text/plain": [
       "            TF1   TF2  TF1_TF2_count   TF1-TF2   TF2-TF1  convergent  \\\n",
       "KLF4-MAZ   KLF4   MAZ             70  0.328571  0.542857    0.042857   \n",
       "EGR1-KLF9  EGR1  KLF9             72  0.277778  0.541667    0.138889   \n",
       "KLF4-KLF5  KLF4  KLF5             63  0.380952  0.539683    0.000000   \n",
       "ETV4-KLF3  ETV4  KLF3             57  0.403509  0.508772    0.017544   \n",
       "E2F6-SP4   E2F6   SP4             80  0.275000  0.500000    0.137500   \n",
       "\n",
       "           divergent       std        pvalue  \n",
       "KLF4-MAZ    0.085714  0.232262  7.933608e-10  \n",
       "EGR1-KLF9   0.041667  0.217248  7.288757e-09  \n",
       "KLF4-KLF5   0.079365  0.253430  1.621951e-10  \n",
       "ETV4-KLF3   0.070175  0.242831  9.055097e-09  \n",
       "E2F6-SP4    0.087500  0.184560  3.725792e-07  "
      ]
     },
     "execution_count": 19,
     "metadata": {},
     "output_type": "execute_result"
    }
   ],
   "source": [
    "selected.sort_values(\"TF2-TF1\", ascending=False).head()"
   ]
  },
  {
   "cell_type": "markdown",
   "metadata": {},
   "source": [
    "### TFs specific in convergent orientation"
   ]
  },
  {
   "cell_type": "code",
   "execution_count": 20,
   "metadata": {},
   "outputs": [
    {
     "data": {
      "text/html": [
       "<div>\n",
       "<style scoped>\n",
       "    .dataframe tbody tr th:only-of-type {\n",
       "        vertical-align: middle;\n",
       "    }\n",
       "\n",
       "    .dataframe tbody tr th {\n",
       "        vertical-align: top;\n",
       "    }\n",
       "\n",
       "    .dataframe thead th {\n",
       "        text-align: right;\n",
       "    }\n",
       "</style>\n",
       "<table border=\"1\" class=\"dataframe\">\n",
       "  <thead>\n",
       "    <tr style=\"text-align: right;\">\n",
       "      <th></th>\n",
       "      <th>TF1</th>\n",
       "      <th>TF2</th>\n",
       "      <th>TF1_TF2_count</th>\n",
       "      <th>TF1-TF2</th>\n",
       "      <th>TF2-TF1</th>\n",
       "      <th>convergent</th>\n",
       "      <th>divergent</th>\n",
       "      <th>std</th>\n",
       "      <th>pvalue</th>\n",
       "    </tr>\n",
       "  </thead>\n",
       "  <tbody>\n",
       "    <tr>\n",
       "      <th>ASCL1-SP3</th>\n",
       "      <td>ASCL1</td>\n",
       "      <td>SP3</td>\n",
       "      <td>55</td>\n",
       "      <td>0.127273</td>\n",
       "      <td>0.181818</td>\n",
       "      <td>0.454545</td>\n",
       "      <td>0.236364</td>\n",
       "      <td>0.143452</td>\n",
       "      <td>0.003533</td>\n",
       "    </tr>\n",
       "    <tr>\n",
       "      <th>MAZ-ZFX</th>\n",
       "      <td>MAZ</td>\n",
       "      <td>ZFX</td>\n",
       "      <td>54</td>\n",
       "      <td>0.203704</td>\n",
       "      <td>0.111111</td>\n",
       "      <td>0.444444</td>\n",
       "      <td>0.240741</td>\n",
       "      <td>0.140627</td>\n",
       "      <td>0.005055</td>\n",
       "    </tr>\n",
       "    <tr>\n",
       "      <th>SP1-ZFX</th>\n",
       "      <td>SP1</td>\n",
       "      <td>ZFX</td>\n",
       "      <td>81</td>\n",
       "      <td>0.111111</td>\n",
       "      <td>0.111111</td>\n",
       "      <td>0.419753</td>\n",
       "      <td>0.358025</td>\n",
       "      <td>0.162343</td>\n",
       "      <td>0.000011</td>\n",
       "    </tr>\n",
       "    <tr>\n",
       "      <th>AR-IRF1</th>\n",
       "      <td>AR</td>\n",
       "      <td>IRF1</td>\n",
       "      <td>51</td>\n",
       "      <td>0.274510</td>\n",
       "      <td>0.098039</td>\n",
       "      <td>0.411765</td>\n",
       "      <td>0.215686</td>\n",
       "      <td>0.130433</td>\n",
       "      <td>0.015372</td>\n",
       "    </tr>\n",
       "    <tr>\n",
       "      <th>ASCL1-WT1</th>\n",
       "      <td>ASCL1</td>\n",
       "      <td>WT1</td>\n",
       "      <td>61</td>\n",
       "      <td>0.147541</td>\n",
       "      <td>0.114754</td>\n",
       "      <td>0.409836</td>\n",
       "      <td>0.327869</td>\n",
       "      <td>0.141892</td>\n",
       "      <td>0.002055</td>\n",
       "    </tr>\n",
       "  </tbody>\n",
       "</table>\n",
       "</div>"
      ],
      "text/plain": [
       "             TF1   TF2  TF1_TF2_count   TF1-TF2   TF2-TF1  convergent  \\\n",
       "ASCL1-SP3  ASCL1   SP3             55  0.127273  0.181818    0.454545   \n",
       "MAZ-ZFX      MAZ   ZFX             54  0.203704  0.111111    0.444444   \n",
       "SP1-ZFX      SP1   ZFX             81  0.111111  0.111111    0.419753   \n",
       "AR-IRF1       AR  IRF1             51  0.274510  0.098039    0.411765   \n",
       "ASCL1-WT1  ASCL1   WT1             61  0.147541  0.114754    0.409836   \n",
       "\n",
       "           divergent       std    pvalue  \n",
       "ASCL1-SP3   0.236364  0.143452  0.003533  \n",
       "MAZ-ZFX     0.240741  0.140627  0.005055  \n",
       "SP1-ZFX     0.358025  0.162343  0.000011  \n",
       "AR-IRF1     0.215686  0.130433  0.015372  \n",
       "ASCL1-WT1   0.327869  0.141892  0.002055  "
      ]
     },
     "execution_count": 20,
     "metadata": {},
     "output_type": "execute_result"
    }
   ],
   "source": [
    "selected.sort_values(\"convergent\", ascending=False).head()"
   ]
  },
  {
   "cell_type": "markdown",
   "metadata": {},
   "source": [
    "### TFs specific in divergent orientation"
   ]
  },
  {
   "cell_type": "code",
   "execution_count": 21,
   "metadata": {},
   "outputs": [
    {
     "data": {
      "text/html": [
       "<div>\n",
       "<style scoped>\n",
       "    .dataframe tbody tr th:only-of-type {\n",
       "        vertical-align: middle;\n",
       "    }\n",
       "\n",
       "    .dataframe tbody tr th {\n",
       "        vertical-align: top;\n",
       "    }\n",
       "\n",
       "    .dataframe thead th {\n",
       "        text-align: right;\n",
       "    }\n",
       "</style>\n",
       "<table border=\"1\" class=\"dataframe\">\n",
       "  <thead>\n",
       "    <tr style=\"text-align: right;\">\n",
       "      <th></th>\n",
       "      <th>TF1</th>\n",
       "      <th>TF2</th>\n",
       "      <th>TF1_TF2_count</th>\n",
       "      <th>TF1-TF2</th>\n",
       "      <th>TF2-TF1</th>\n",
       "      <th>convergent</th>\n",
       "      <th>divergent</th>\n",
       "      <th>std</th>\n",
       "      <th>pvalue</th>\n",
       "    </tr>\n",
       "  </thead>\n",
       "  <tbody>\n",
       "    <tr>\n",
       "      <th>STAT2-ZFP28</th>\n",
       "      <td>STAT2</td>\n",
       "      <td>ZFP28</td>\n",
       "      <td>55</td>\n",
       "      <td>0.127273</td>\n",
       "      <td>0.254545</td>\n",
       "      <td>0.181818</td>\n",
       "      <td>0.436364</td>\n",
       "      <td>0.134738</td>\n",
       "      <td>7.445704e-03</td>\n",
       "    </tr>\n",
       "    <tr>\n",
       "      <th>KLF3-ZIC3</th>\n",
       "      <td>KLF3</td>\n",
       "      <td>ZIC3</td>\n",
       "      <td>66</td>\n",
       "      <td>0.030303</td>\n",
       "      <td>0.136364</td>\n",
       "      <td>0.409091</td>\n",
       "      <td>0.424242</td>\n",
       "      <td>0.197358</td>\n",
       "      <td>9.148367e-07</td>\n",
       "    </tr>\n",
       "    <tr>\n",
       "      <th>IRF3-ZFP28</th>\n",
       "      <td>IRF3</td>\n",
       "      <td>ZFP28</td>\n",
       "      <td>58</td>\n",
       "      <td>0.206897</td>\n",
       "      <td>0.155172</td>\n",
       "      <td>0.224138</td>\n",
       "      <td>0.413793</td>\n",
       "      <td>0.113059</td>\n",
       "      <td>3.069838e-02</td>\n",
       "    </tr>\n",
       "    <tr>\n",
       "      <th>NFE2L1-STAT2</th>\n",
       "      <td>NFE2L1</td>\n",
       "      <td>STAT2</td>\n",
       "      <td>68</td>\n",
       "      <td>0.176471</td>\n",
       "      <td>0.220588</td>\n",
       "      <td>0.205882</td>\n",
       "      <td>0.397059</td>\n",
       "      <td>0.099740</td>\n",
       "      <td>4.364185e-02</td>\n",
       "    </tr>\n",
       "    <tr>\n",
       "      <th>SP4-ZFX</th>\n",
       "      <td>SP4</td>\n",
       "      <td>ZFX</td>\n",
       "      <td>52</td>\n",
       "      <td>0.192308</td>\n",
       "      <td>0.057692</td>\n",
       "      <td>0.365385</td>\n",
       "      <td>0.384615</td>\n",
       "      <td>0.154645</td>\n",
       "      <td>1.883579e-03</td>\n",
       "    </tr>\n",
       "  </tbody>\n",
       "</table>\n",
       "</div>"
      ],
      "text/plain": [
       "                 TF1    TF2  TF1_TF2_count   TF1-TF2   TF2-TF1  convergent  \\\n",
       "STAT2-ZFP28    STAT2  ZFP28             55  0.127273  0.254545    0.181818   \n",
       "KLF3-ZIC3       KLF3   ZIC3             66  0.030303  0.136364    0.409091   \n",
       "IRF3-ZFP28      IRF3  ZFP28             58  0.206897  0.155172    0.224138   \n",
       "NFE2L1-STAT2  NFE2L1  STAT2             68  0.176471  0.220588    0.205882   \n",
       "SP4-ZFX          SP4    ZFX             52  0.192308  0.057692    0.365385   \n",
       "\n",
       "              divergent       std        pvalue  \n",
       "STAT2-ZFP28    0.436364  0.134738  7.445704e-03  \n",
       "KLF3-ZIC3      0.424242  0.197358  9.148367e-07  \n",
       "IRF3-ZFP28     0.413793  0.113059  3.069838e-02  \n",
       "NFE2L1-STAT2   0.397059  0.099740  4.364185e-02  \n",
       "SP4-ZFX        0.384615  0.154645  1.883579e-03  "
      ]
     },
     "execution_count": 21,
     "metadata": {},
     "output_type": "execute_result"
    }
   ],
   "source": [
    "selected.sort_values(\"divergent\", ascending=False).head()"
   ]
  }
 ],
 "metadata": {
  "kernelspec": {
   "display_name": "py3",
   "language": "python",
   "name": "py3"
  },
  "language_info": {
   "codemirror_mode": {
    "name": "ipython",
    "version": 3
   },
   "file_extension": ".py",
   "mimetype": "text/x-python",
   "name": "python",
   "nbconvert_exporter": "python",
   "pygments_lexer": "ipython3",
   "version": "3.7.8"
  }
 },
 "nbformat": 4,
 "nbformat_minor": 4
}
