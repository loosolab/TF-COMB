{
 "cells": [
  {
   "cell_type": "markdown",
   "metadata": {},
   "source": [
    "# Orientation analysis"
   ]
  },
  {
   "cell_type": "markdown",
   "metadata": {},
   "source": [
    "This is an example of a orientation analysis using .TFBS from motif sites."
   ]
  },
  {
   "cell_type": "markdown",
   "metadata": {},
   "source": [
    "## Create CombObj and fill it with .TFBS from motif scanning"
   ]
  },
  {
   "cell_type": "code",
   "execution_count": 1,
   "metadata": {
    "execution": {
     "iopub.execute_input": "2021-10-12T15:10:34.541991Z",
     "iopub.status.busy": "2021-10-12T15:10:34.541251Z",
     "iopub.status.idle": "2021-10-12T15:10:34.544168Z",
     "shell.execute_reply": "2021-10-12T15:10:34.543730Z"
    }
   },
   "outputs": [],
   "source": [
    "import tfcomb\n",
    "C = tfcomb.CombObj(verbosity=0)"
   ]
  },
  {
   "cell_type": "code",
   "execution_count": 2,
   "metadata": {
    "execution": {
     "iopub.execute_input": "2021-10-12T15:10:34.547982Z",
     "iopub.status.busy": "2021-10-12T15:10:34.547462Z",
     "iopub.status.idle": "2021-10-12T15:11:21.948260Z",
     "shell.execute_reply": "2021-10-12T15:11:21.947671Z"
    },
    "scrolled": true
   },
   "outputs": [],
   "source": [
    "C.TFBS_from_motifs(regions=\"../data/GM12878_hg38_chr4_ATAC_peaks.bed\", \n",
    "                   motifs=\"../data/HOCOMOCOv11_HUMAN_motifs.txt\",\n",
    "                   genome=\"../data/hg38_chr4_masked.fa.gz\", \n",
    "                   threads=8)"
   ]
  },
  {
   "cell_type": "markdown",
   "metadata": {},
   "source": [
    "For this analysis, we will run count_within() with the stranded option turned on:"
   ]
  },
  {
   "cell_type": "code",
   "execution_count": 3,
   "metadata": {},
   "outputs": [],
   "source": [
    "C.count_within(stranded=True, threads=8)\n",
    "C.market_basket()"
   ]
  },
  {
   "cell_type": "markdown",
   "metadata": {},
   "source": [
    "## Analyze preferential orientation of motifs"
   ]
  },
  {
   "cell_type": "markdown",
   "metadata": {},
   "source": [
    "First, we create a directionality analysis for the rules found:"
   ]
  },
  {
   "cell_type": "code",
   "execution_count": 4,
   "metadata": {
    "scrolled": true
   },
   "outputs": [
    {
     "name": "stdout",
     "output_type": "stream",
     "text": [
      "INFO: Rules are symmetric - scenarios counted are: ['same', 'opposite']\n"
     ]
    }
   ],
   "source": [
    "df = C.analyze_orientation()"
   ]
  },
  {
   "cell_type": "code",
   "execution_count": 5,
   "metadata": {
    "scrolled": false
   },
   "outputs": [
    {
     "data": {
      "text/html": [
       "<div>\n",
       "<style scoped>\n",
       "    .dataframe tbody tr th:only-of-type {\n",
       "        vertical-align: middle;\n",
       "    }\n",
       "\n",
       "    .dataframe tbody tr th {\n",
       "        vertical-align: top;\n",
       "    }\n",
       "\n",
       "    .dataframe thead th {\n",
       "        text-align: right;\n",
       "    }\n",
       "</style>\n",
       "<table border=\"1\" class=\"dataframe\">\n",
       "  <thead>\n",
       "    <tr style=\"text-align: right;\">\n",
       "      <th></th>\n",
       "      <th>TF1</th>\n",
       "      <th>TF2</th>\n",
       "      <th>TF1_TF2_count</th>\n",
       "      <th>same</th>\n",
       "      <th>opposite</th>\n",
       "      <th>std</th>\n",
       "      <th>pvalue</th>\n",
       "    </tr>\n",
       "  </thead>\n",
       "  <tbody>\n",
       "    <tr>\n",
       "      <th>(PATZ1, SP3)</th>\n",
       "      <td>PATZ1</td>\n",
       "      <td>SP3</td>\n",
       "      <td>579</td>\n",
       "      <td>0.732297</td>\n",
       "      <td>0.267703</td>\n",
       "      <td>0.328518</td>\n",
       "      <td>5.151864e-29</td>\n",
       "    </tr>\n",
       "    <tr>\n",
       "      <th>(PATZ1, SP1)</th>\n",
       "      <td>PATZ1</td>\n",
       "      <td>SP1</td>\n",
       "      <td>574</td>\n",
       "      <td>0.724739</td>\n",
       "      <td>0.275261</td>\n",
       "      <td>0.317828</td>\n",
       "      <td>4.837210e-27</td>\n",
       "    </tr>\n",
       "    <tr>\n",
       "      <th>(SP3, SP4)</th>\n",
       "      <td>SP3</td>\n",
       "      <td>SP4</td>\n",
       "      <td>464</td>\n",
       "      <td>0.745690</td>\n",
       "      <td>0.254310</td>\n",
       "      <td>0.347458</td>\n",
       "      <td>3.511493e-26</td>\n",
       "    </tr>\n",
       "    <tr>\n",
       "      <th>(PATZ1, SP2)</th>\n",
       "      <td>PATZ1</td>\n",
       "      <td>SP2</td>\n",
       "      <td>698</td>\n",
       "      <td>0.693410</td>\n",
       "      <td>0.306590</td>\n",
       "      <td>0.273523</td>\n",
       "      <td>1.619233e-24</td>\n",
       "    </tr>\n",
       "    <tr>\n",
       "      <th>(SP2, SP3)</th>\n",
       "      <td>SP2</td>\n",
       "      <td>SP3</td>\n",
       "      <td>882</td>\n",
       "      <td>0.670068</td>\n",
       "      <td>0.329932</td>\n",
       "      <td>0.240513</td>\n",
       "      <td>5.438947e-24</td>\n",
       "    </tr>\n",
       "  </tbody>\n",
       "</table>\n",
       "</div>"
      ],
      "text/plain": [
       "                TF1  TF2  TF1_TF2_count      same  opposite       std  \\\n",
       "(PATZ1, SP3)  PATZ1  SP3            579  0.732297  0.267703  0.328518   \n",
       "(PATZ1, SP1)  PATZ1  SP1            574  0.724739  0.275261  0.317828   \n",
       "(SP3, SP4)      SP3  SP4            464  0.745690  0.254310  0.347458   \n",
       "(PATZ1, SP2)  PATZ1  SP2            698  0.693410  0.306590  0.273523   \n",
       "(SP2, SP3)      SP2  SP3            882  0.670068  0.329932  0.240513   \n",
       "\n",
       "                    pvalue  \n",
       "(PATZ1, SP3)  5.151864e-29  \n",
       "(PATZ1, SP1)  4.837210e-27  \n",
       "(SP3, SP4)    3.511493e-26  \n",
       "(PATZ1, SP2)  1.619233e-24  \n",
       "(SP2, SP3)    5.438947e-24  "
      ]
     },
     "execution_count": 5,
     "metadata": {},
     "output_type": "execute_result"
    }
   ],
   "source": [
    "df.head()"
   ]
  },
  {
   "cell_type": "markdown",
   "metadata": {},
   "source": [
    "We can subset these on pvalue and number of sites:"
   ]
  },
  {
   "cell_type": "code",
   "execution_count": 6,
   "metadata": {},
   "outputs": [],
   "source": [
    "selected = df[(df[\"pvalue\"] < 0.01) & (df[\"TF1_TF2_count\"] > 50)]"
   ]
  },
  {
   "cell_type": "code",
   "execution_count": 7,
   "metadata": {},
   "outputs": [
    {
     "data": {
      "text/plain": [
       "403"
      ]
     },
     "execution_count": 7,
     "metadata": {},
     "output_type": "execute_result"
    }
   ],
   "source": [
    "#Number of TF pairs with significant differences in orientation\n",
    "selected.shape[0]"
   ]
  },
  {
   "cell_type": "markdown",
   "metadata": {},
   "source": [
    "## Visualization of orientation preference"
   ]
  },
  {
   "cell_type": "code",
   "execution_count": 8,
   "metadata": {},
   "outputs": [
    {
     "data": {
      "image/png": "[encoded data removed]",
      "text/plain": [
       "<Figure size 432x432 with 4 Axes>"
      ]
     },
     "metadata": {
      "needs_background": "light"
     },
     "output_type": "display_data"
    }
   ],
   "source": [
    "_ = selected.plot_heatmap()"
   ]
  },
  {
   "cell_type": "markdown",
   "metadata": {},
   "source": [
    "We can select the subsets by investigating the selected pairs:"
   ]
  },
  {
   "cell_type": "code",
   "execution_count": 9,
   "metadata": {},
   "outputs": [
    {
     "data": {
      "text/html": [
       "<div>\n",
       "<style scoped>\n",
       "    .dataframe tbody tr th:only-of-type {\n",
       "        vertical-align: middle;\n",
       "    }\n",
       "\n",
       "    .dataframe tbody tr th {\n",
       "        vertical-align: top;\n",
       "    }\n",
       "\n",
       "    .dataframe thead th {\n",
       "        text-align: right;\n",
       "    }\n",
       "</style>\n",
       "<table border=\"1\" class=\"dataframe\">\n",
       "  <thead>\n",
       "    <tr style=\"text-align: right;\">\n",
       "      <th></th>\n",
       "      <th>TF1</th>\n",
       "      <th>TF2</th>\n",
       "      <th>TF1_TF2_count</th>\n",
       "      <th>same</th>\n",
       "      <th>opposite</th>\n",
       "      <th>std</th>\n",
       "      <th>pvalue</th>\n",
       "    </tr>\n",
       "  </thead>\n",
       "  <tbody>\n",
       "    <tr>\n",
       "      <th>(PATZ1, ZFX)</th>\n",
       "      <td>PATZ1</td>\n",
       "      <td>ZFX</td>\n",
       "      <td>62</td>\n",
       "      <td>0.241935</td>\n",
       "      <td>0.758065</td>\n",
       "      <td>0.364958</td>\n",
       "      <td>0.000048</td>\n",
       "    </tr>\n",
       "    <tr>\n",
       "      <th>(SP1, ZFX)</th>\n",
       "      <td>SP1</td>\n",
       "      <td>ZFX</td>\n",
       "      <td>66</td>\n",
       "      <td>0.272727</td>\n",
       "      <td>0.727273</td>\n",
       "      <td>0.321412</td>\n",
       "      <td>0.000222</td>\n",
       "    </tr>\n",
       "    <tr>\n",
       "      <th>(ASCL1, WT1)</th>\n",
       "      <td>ASCL1</td>\n",
       "      <td>WT1</td>\n",
       "      <td>51</td>\n",
       "      <td>0.274510</td>\n",
       "      <td>0.725490</td>\n",
       "      <td>0.318891</td>\n",
       "      <td>0.001279</td>\n",
       "    </tr>\n",
       "    <tr>\n",
       "      <th>(MYF6, ZBTB17)</th>\n",
       "      <td>MYF6</td>\n",
       "      <td>ZBTB17</td>\n",
       "      <td>74</td>\n",
       "      <td>0.297297</td>\n",
       "      <td>0.702703</td>\n",
       "      <td>0.286665</td>\n",
       "      <td>0.000488</td>\n",
       "    </tr>\n",
       "    <tr>\n",
       "      <th>(EGR2, MYF6)</th>\n",
       "      <td>EGR2</td>\n",
       "      <td>MYF6</td>\n",
       "      <td>65</td>\n",
       "      <td>0.307692</td>\n",
       "      <td>0.692308</td>\n",
       "      <td>0.271964</td>\n",
       "      <td>0.001930</td>\n",
       "    </tr>\n",
       "  </tbody>\n",
       "</table>\n",
       "</div>"
      ],
      "text/plain": [
       "                  TF1     TF2  TF1_TF2_count      same  opposite       std  \\\n",
       "(PATZ1, ZFX)    PATZ1     ZFX             62  0.241935  0.758065  0.364958   \n",
       "(SP1, ZFX)        SP1     ZFX             66  0.272727  0.727273  0.321412   \n",
       "(ASCL1, WT1)    ASCL1     WT1             51  0.274510  0.725490  0.318891   \n",
       "(MYF6, ZBTB17)   MYF6  ZBTB17             74  0.297297  0.702703  0.286665   \n",
       "(EGR2, MYF6)     EGR2    MYF6             65  0.307692  0.692308  0.271964   \n",
       "\n",
       "                  pvalue  \n",
       "(PATZ1, ZFX)    0.000048  \n",
       "(SP1, ZFX)      0.000222  \n",
       "(ASCL1, WT1)    0.001279  \n",
       "(MYF6, ZBTB17)  0.000488  \n",
       "(EGR2, MYF6)    0.001930  "
      ]
     },
     "execution_count": 9,
     "metadata": {},
     "output_type": "execute_result"
    }
   ],
   "source": [
    "selected.sort_values(\"same\").head(5)"
   ]
  },
  {
   "cell_type": "code",
   "execution_count": 10,
   "metadata": {},
   "outputs": [
    {
     "data": {
      "text/html": [
       "<div>\n",
       "<style scoped>\n",
       "    .dataframe tbody tr th:only-of-type {\n",
       "        vertical-align: middle;\n",
       "    }\n",
       "\n",
       "    .dataframe tbody tr th {\n",
       "        vertical-align: top;\n",
       "    }\n",
       "\n",
       "    .dataframe thead th {\n",
       "        text-align: right;\n",
       "    }\n",
       "</style>\n",
       "<table border=\"1\" class=\"dataframe\">\n",
       "  <thead>\n",
       "    <tr style=\"text-align: right;\">\n",
       "      <th></th>\n",
       "      <th>TF1</th>\n",
       "      <th>TF2</th>\n",
       "      <th>TF1_TF2_count</th>\n",
       "      <th>same</th>\n",
       "      <th>opposite</th>\n",
       "      <th>std</th>\n",
       "      <th>pvalue</th>\n",
       "    </tr>\n",
       "  </thead>\n",
       "  <tbody>\n",
       "    <tr>\n",
       "      <th>(KLF4, KLF5)</th>\n",
       "      <td>KLF4</td>\n",
       "      <td>KLF5</td>\n",
       "      <td>55</td>\n",
       "      <td>0.909091</td>\n",
       "      <td>0.090909</td>\n",
       "      <td>0.578542</td>\n",
       "      <td>1.296752e-09</td>\n",
       "    </tr>\n",
       "    <tr>\n",
       "      <th>(KLF4, MAZ)</th>\n",
       "      <td>KLF4</td>\n",
       "      <td>MAZ</td>\n",
       "      <td>57</td>\n",
       "      <td>0.877193</td>\n",
       "      <td>0.122807</td>\n",
       "      <td>0.533431</td>\n",
       "      <td>1.230187e-08</td>\n",
       "    </tr>\n",
       "    <tr>\n",
       "      <th>(KLF4, KLF9)</th>\n",
       "      <td>KLF4</td>\n",
       "      <td>KLF9</td>\n",
       "      <td>61</td>\n",
       "      <td>0.868852</td>\n",
       "      <td>0.131148</td>\n",
       "      <td>0.521636</td>\n",
       "      <td>8.329085e-09</td>\n",
       "    </tr>\n",
       "    <tr>\n",
       "      <th>(KLF9, KLF9)</th>\n",
       "      <td>KLF9</td>\n",
       "      <td>KLF9</td>\n",
       "      <td>94</td>\n",
       "      <td>0.861702</td>\n",
       "      <td>0.138298</td>\n",
       "      <td>0.511524</td>\n",
       "      <td>2.321558e-12</td>\n",
       "    </tr>\n",
       "    <tr>\n",
       "      <th>(KLF1, KLF4)</th>\n",
       "      <td>KLF1</td>\n",
       "      <td>KLF4</td>\n",
       "      <td>82</td>\n",
       "      <td>0.853659</td>\n",
       "      <td>0.146341</td>\n",
       "      <td>0.500149</td>\n",
       "      <td>1.503413e-10</td>\n",
       "    </tr>\n",
       "  </tbody>\n",
       "</table>\n",
       "</div>"
      ],
      "text/plain": [
       "               TF1   TF2  TF1_TF2_count      same  opposite       std  \\\n",
       "(KLF4, KLF5)  KLF4  KLF5             55  0.909091  0.090909  0.578542   \n",
       "(KLF4, MAZ)   KLF4   MAZ             57  0.877193  0.122807  0.533431   \n",
       "(KLF4, KLF9)  KLF4  KLF9             61  0.868852  0.131148  0.521636   \n",
       "(KLF9, KLF9)  KLF9  KLF9             94  0.861702  0.138298  0.511524   \n",
       "(KLF1, KLF4)  KLF1  KLF4             82  0.853659  0.146341  0.500149   \n",
       "\n",
       "                    pvalue  \n",
       "(KLF4, KLF5)  1.296752e-09  \n",
       "(KLF4, MAZ)   1.230187e-08  \n",
       "(KLF4, KLF9)  8.329085e-09  \n",
       "(KLF9, KLF9)  2.321558e-12  \n",
       "(KLF1, KLF4)  1.503413e-10  "
      ]
     },
     "execution_count": 10,
     "metadata": {},
     "output_type": "execute_result"
    }
   ],
   "source": [
    "selected.sort_values(\"opposite\").head(5)"
   ]
  },
  {
   "cell_type": "markdown",
   "metadata": {},
   "source": [
    "-----------"
   ]
  },
  {
   "cell_type": "markdown",
   "metadata": {},
   "source": [
    "## Extended analysis with directional=True"
   ]
  },
  {
   "cell_type": "markdown",
   "metadata": {},
   "source": [
    "The first analysis presented does not take into account the relative order of TF1-TF2, e.g. if the orientation \"same\" represents \"TF1-TF2\" or "
   ]
  },
  {
   "cell_type": "code",
   "execution_count": 11,
   "metadata": {
    "execution": {
     "iopub.execute_input": "2021-10-12T15:11:21.953385Z",
     "iopub.status.busy": "2021-10-12T15:11:21.952618Z",
     "iopub.status.idle": "2021-10-12T15:11:59.992699Z",
     "shell.execute_reply": "2021-10-12T15:11:59.992203Z"
    }
   },
   "outputs": [],
   "source": [
    "C.count_within(directional=True, stranded=True, threads=8)\n",
    "C.market_basket()"
   ]
  },
  {
   "cell_type": "code",
   "execution_count": 12,
   "metadata": {
    "execution": {
     "iopub.execute_input": "2021-10-12T15:12:00.012700Z",
     "iopub.status.busy": "2021-10-12T15:12:00.007624Z",
     "iopub.status.idle": "2021-10-12T15:12:00.016574Z",
     "shell.execute_reply": "2021-10-12T15:12:00.016036Z"
    }
   },
   "outputs": [
    {
     "name": "stdout",
     "output_type": "stream",
     "text": [
      "INFO: Rules are directional - scenarios counted are: ['TF1-TF2', 'TF2-TF1', 'convergent', 'divergent']\n"
     ]
    }
   ],
   "source": [
    "df = C.analyze_orientation()"
   ]
  },
  {
   "cell_type": "code",
   "execution_count": 13,
   "metadata": {},
   "outputs": [
    {
     "data": {
      "text/html": [
       "<div>\n",
       "<style scoped>\n",
       "    .dataframe tbody tr th:only-of-type {\n",
       "        vertical-align: middle;\n",
       "    }\n",
       "\n",
       "    .dataframe tbody tr th {\n",
       "        vertical-align: top;\n",
       "    }\n",
       "\n",
       "    .dataframe thead th {\n",
       "        text-align: right;\n",
       "    }\n",
       "</style>\n",
       "<table border=\"1\" class=\"dataframe\">\n",
       "  <thead>\n",
       "    <tr style=\"text-align: right;\">\n",
       "      <th></th>\n",
       "      <th>TF1</th>\n",
       "      <th>TF2</th>\n",
       "      <th>TF1_TF2_count</th>\n",
       "      <th>TF1-TF2</th>\n",
       "      <th>TF2-TF1</th>\n",
       "      <th>convergent</th>\n",
       "      <th>divergent</th>\n",
       "      <th>std</th>\n",
       "      <th>pvalue</th>\n",
       "    </tr>\n",
       "  </thead>\n",
       "  <tbody>\n",
       "    <tr>\n",
       "      <th>(SP2, SP2)</th>\n",
       "      <td>SP2</td>\n",
       "      <td>SP2</td>\n",
       "      <td>984</td>\n",
       "      <td>0.394309</td>\n",
       "      <td>0.394309</td>\n",
       "      <td>0.101626</td>\n",
       "      <td>0.109756</td>\n",
       "      <td>0.166667</td>\n",
       "      <td>8.647688e-71</td>\n",
       "    </tr>\n",
       "    <tr>\n",
       "      <th>(SP1, SP1)</th>\n",
       "      <td>SP1</td>\n",
       "      <td>SP1</td>\n",
       "      <td>619</td>\n",
       "      <td>0.413570</td>\n",
       "      <td>0.413570</td>\n",
       "      <td>0.077544</td>\n",
       "      <td>0.095315</td>\n",
       "      <td>0.189014</td>\n",
       "      <td>3.090951e-57</td>\n",
       "    </tr>\n",
       "    <tr>\n",
       "      <th>(SP3, SP3)</th>\n",
       "      <td>SP3</td>\n",
       "      <td>SP3</td>\n",
       "      <td>643</td>\n",
       "      <td>0.410575</td>\n",
       "      <td>0.410575</td>\n",
       "      <td>0.093313</td>\n",
       "      <td>0.085537</td>\n",
       "      <td>0.185444</td>\n",
       "      <td>3.131915e-57</td>\n",
       "    </tr>\n",
       "    <tr>\n",
       "      <th>(PATZ1, PATZ1)</th>\n",
       "      <td>PATZ1</td>\n",
       "      <td>PATZ1</td>\n",
       "      <td>482</td>\n",
       "      <td>0.427386</td>\n",
       "      <td>0.427386</td>\n",
       "      <td>0.076763</td>\n",
       "      <td>0.068465</td>\n",
       "      <td>0.204856</td>\n",
       "      <td>2.443810e-52</td>\n",
       "    </tr>\n",
       "    <tr>\n",
       "      <th>(SP4, SP4)</th>\n",
       "      <td>SP4</td>\n",
       "      <td>SP4</td>\n",
       "      <td>318</td>\n",
       "      <td>0.440252</td>\n",
       "      <td>0.440252</td>\n",
       "      <td>0.072327</td>\n",
       "      <td>0.047170</td>\n",
       "      <td>0.219924</td>\n",
       "      <td>9.106349e-40</td>\n",
       "    </tr>\n",
       "  </tbody>\n",
       "</table>\n",
       "</div>"
      ],
      "text/plain": [
       "                  TF1    TF2  TF1_TF2_count   TF1-TF2   TF2-TF1  convergent  \\\n",
       "(SP2, SP2)        SP2    SP2            984  0.394309  0.394309    0.101626   \n",
       "(SP1, SP1)        SP1    SP1            619  0.413570  0.413570    0.077544   \n",
       "(SP3, SP3)        SP3    SP3            643  0.410575  0.410575    0.093313   \n",
       "(PATZ1, PATZ1)  PATZ1  PATZ1            482  0.427386  0.427386    0.076763   \n",
       "(SP4, SP4)        SP4    SP4            318  0.440252  0.440252    0.072327   \n",
       "\n",
       "                divergent       std        pvalue  \n",
       "(SP2, SP2)       0.109756  0.166667  8.647688e-71  \n",
       "(SP1, SP1)       0.095315  0.189014  3.090951e-57  \n",
       "(SP3, SP3)       0.085537  0.185444  3.131915e-57  \n",
       "(PATZ1, PATZ1)   0.068465  0.204856  2.443810e-52  \n",
       "(SP4, SP4)       0.047170  0.219924  9.106349e-40  "
      ]
     },
     "execution_count": 13,
     "metadata": {},
     "output_type": "execute_result"
    }
   ],
   "source": [
    "df.head()"
   ]
  },
  {
   "cell_type": "markdown",
   "metadata": {},
   "source": [
    "Similarly to the first analysis, we can select the significant pairs and visualize the preferences for orientation:"
   ]
  },
  {
   "cell_type": "code",
   "execution_count": 14,
   "metadata": {},
   "outputs": [],
   "source": [
    "selected = df[(df[\"pvalue\"] < 0.05) & (df[\"TF1_TF2_count\"] > 50)]"
   ]
  },
  {
   "cell_type": "code",
   "execution_count": 15,
   "metadata": {
    "execution": {
     "iopub.execute_input": "2021-10-12T15:12:25.682759Z",
     "iopub.status.busy": "2021-10-12T15:12:25.682105Z",
     "iopub.status.idle": "2021-10-12T15:12:25.691842Z",
     "shell.execute_reply": "2021-10-12T15:12:25.691292Z"
    }
   },
   "outputs": [
    {
     "data": {
      "image/png": "[encoded data removed]",
      "text/plain": [
       "<Figure size 432x432 with 4 Axes>"
      ]
     },
     "metadata": {
      "needs_background": "light"
     },
     "output_type": "display_data"
    }
   ],
   "source": [
    "_ = selected.plot_heatmap()"
   ]
  },
  {
   "cell_type": "markdown",
   "metadata": {},
   "source": [
    "----------"
   ]
  },
  {
   "cell_type": "markdown",
   "metadata": {},
   "source": [
    "## In-depth look at preferential orientation"
   ]
  },
  {
   "cell_type": "markdown",
   "metadata": {},
   "source": [
    "By sorting the selected co-occurring TF pairs, it is also possible to visualize the top pairs within each scenario as seen below."
   ]
  },
  {
   "cell_type": "markdown",
   "metadata": {},
   "source": [
    "### TFs specific in TF1-TF2 orientation"
   ]
  },
  {
   "cell_type": "code",
   "execution_count": 16,
   "metadata": {
    "execution": {
     "iopub.execute_input": "2021-10-12T15:12:32.396218Z",
     "iopub.status.busy": "2021-10-12T15:12:32.395685Z",
     "iopub.status.idle": "2021-10-12T15:12:32.417235Z",
     "shell.execute_reply": "2021-10-12T15:12:32.416753Z"
    }
   },
   "outputs": [
    {
     "data": {
      "text/html": [
       "<div>\n",
       "<style scoped>\n",
       "    .dataframe tbody tr th:only-of-type {\n",
       "        vertical-align: middle;\n",
       "    }\n",
       "\n",
       "    .dataframe tbody tr th {\n",
       "        vertical-align: top;\n",
       "    }\n",
       "\n",
       "    .dataframe thead th {\n",
       "        text-align: right;\n",
       "    }\n",
       "</style>\n",
       "<table border=\"1\" class=\"dataframe\">\n",
       "  <thead>\n",
       "    <tr style=\"text-align: right;\">\n",
       "      <th></th>\n",
       "      <th>TF1</th>\n",
       "      <th>TF2</th>\n",
       "      <th>TF1_TF2_count</th>\n",
       "      <th>TF1-TF2</th>\n",
       "      <th>TF2-TF1</th>\n",
       "      <th>convergent</th>\n",
       "      <th>divergent</th>\n",
       "      <th>std</th>\n",
       "      <th>pvalue</th>\n",
       "    </tr>\n",
       "  </thead>\n",
       "  <tbody>\n",
       "    <tr>\n",
       "      <th>(PATZ1, ZNF320)</th>\n",
       "      <td>PATZ1</td>\n",
       "      <td>ZNF320</td>\n",
       "      <td>56</td>\n",
       "      <td>0.517857</td>\n",
       "      <td>0.321429</td>\n",
       "      <td>0.053571</td>\n",
       "      <td>0.107143</td>\n",
       "      <td>0.212792</td>\n",
       "      <td>1.121316e-06</td>\n",
       "    </tr>\n",
       "    <tr>\n",
       "      <th>(SP3, ZNF320)</th>\n",
       "      <td>SP3</td>\n",
       "      <td>ZNF320</td>\n",
       "      <td>71</td>\n",
       "      <td>0.507042</td>\n",
       "      <td>0.323944</td>\n",
       "      <td>0.112676</td>\n",
       "      <td>0.056338</td>\n",
       "      <td>0.206479</td>\n",
       "      <td>6.395727e-08</td>\n",
       "    </tr>\n",
       "    <tr>\n",
       "      <th>(KLF9, ZNF341)</th>\n",
       "      <td>KLF9</td>\n",
       "      <td>ZNF341</td>\n",
       "      <td>77</td>\n",
       "      <td>0.506494</td>\n",
       "      <td>0.337662</td>\n",
       "      <td>0.090909</td>\n",
       "      <td>0.064935</td>\n",
       "      <td>0.210581</td>\n",
       "      <td>6.622678e-09</td>\n",
       "    </tr>\n",
       "    <tr>\n",
       "      <th>(KLF1, KLF4)</th>\n",
       "      <td>KLF1</td>\n",
       "      <td>KLF4</td>\n",
       "      <td>82</td>\n",
       "      <td>0.487805</td>\n",
       "      <td>0.365854</td>\n",
       "      <td>0.036585</td>\n",
       "      <td>0.109756</td>\n",
       "      <td>0.212279</td>\n",
       "      <td>1.277030e-09</td>\n",
       "    </tr>\n",
       "    <tr>\n",
       "      <th>(KLF1, KLF5)</th>\n",
       "      <td>KLF1</td>\n",
       "      <td>KLF5</td>\n",
       "      <td>134</td>\n",
       "      <td>0.477612</td>\n",
       "      <td>0.350746</td>\n",
       "      <td>0.067164</td>\n",
       "      <td>0.104478</td>\n",
       "      <td>0.197115</td>\n",
       "      <td>1.736812e-13</td>\n",
       "    </tr>\n",
       "  </tbody>\n",
       "</table>\n",
       "</div>"
      ],
      "text/plain": [
       "                   TF1     TF2  TF1_TF2_count   TF1-TF2   TF2-TF1  convergent  \\\n",
       "(PATZ1, ZNF320)  PATZ1  ZNF320             56  0.517857  0.321429    0.053571   \n",
       "(SP3, ZNF320)      SP3  ZNF320             71  0.507042  0.323944    0.112676   \n",
       "(KLF9, ZNF341)    KLF9  ZNF341             77  0.506494  0.337662    0.090909   \n",
       "(KLF1, KLF4)      KLF1    KLF4             82  0.487805  0.365854    0.036585   \n",
       "(KLF1, KLF5)      KLF1    KLF5            134  0.477612  0.350746    0.067164   \n",
       "\n",
       "                 divergent       std        pvalue  \n",
       "(PATZ1, ZNF320)   0.107143  0.212792  1.121316e-06  \n",
       "(SP3, ZNF320)     0.056338  0.206479  6.395727e-08  \n",
       "(KLF9, ZNF341)    0.064935  0.210581  6.622678e-09  \n",
       "(KLF1, KLF4)      0.109756  0.212279  1.277030e-09  \n",
       "(KLF1, KLF5)      0.104478  0.197115  1.736812e-13  "
      ]
     },
     "execution_count": 16,
     "metadata": {},
     "output_type": "execute_result"
    }
   ],
   "source": [
    "selected.sort_values(\"TF1-TF2\", ascending=False).head()"
   ]
  },
  {
   "cell_type": "markdown",
   "metadata": {},
   "source": [
    "### TFs specific in TF2-TF2 orientation"
   ]
  },
  {
   "cell_type": "code",
   "execution_count": 17,
   "metadata": {
    "execution": {
     "iopub.execute_input": "2021-10-12T15:12:32.421456Z",
     "iopub.status.busy": "2021-10-12T15:12:32.420875Z",
     "iopub.status.idle": "2021-10-12T15:12:32.439067Z",
     "shell.execute_reply": "2021-10-12T15:12:32.438627Z"
    }
   },
   "outputs": [
    {
     "data": {
      "text/html": [
       "<div>\n",
       "<style scoped>\n",
       "    .dataframe tbody tr th:only-of-type {\n",
       "        vertical-align: middle;\n",
       "    }\n",
       "\n",
       "    .dataframe tbody tr th {\n",
       "        vertical-align: top;\n",
       "    }\n",
       "\n",
       "    .dataframe thead th {\n",
       "        text-align: right;\n",
       "    }\n",
       "</style>\n",
       "<table border=\"1\" class=\"dataframe\">\n",
       "  <thead>\n",
       "    <tr style=\"text-align: right;\">\n",
       "      <th></th>\n",
       "      <th>TF1</th>\n",
       "      <th>TF2</th>\n",
       "      <th>TF1_TF2_count</th>\n",
       "      <th>TF1-TF2</th>\n",
       "      <th>TF2-TF1</th>\n",
       "      <th>convergent</th>\n",
       "      <th>divergent</th>\n",
       "      <th>std</th>\n",
       "      <th>pvalue</th>\n",
       "    </tr>\n",
       "  </thead>\n",
       "  <tbody>\n",
       "    <tr>\n",
       "      <th>(KLF4, KLF5)</th>\n",
       "      <td>KLF4</td>\n",
       "      <td>KLF5</td>\n",
       "      <td>55</td>\n",
       "      <td>0.345455</td>\n",
       "      <td>0.563636</td>\n",
       "      <td>0.000000</td>\n",
       "      <td>0.090909</td>\n",
       "      <td>0.255140</td>\n",
       "      <td>2.505143e-09</td>\n",
       "    </tr>\n",
       "    <tr>\n",
       "      <th>(EGR1, KLF9)</th>\n",
       "      <td>EGR1</td>\n",
       "      <td>KLF9</td>\n",
       "      <td>65</td>\n",
       "      <td>0.276923</td>\n",
       "      <td>0.553846</td>\n",
       "      <td>0.123077</td>\n",
       "      <td>0.046154</td>\n",
       "      <td>0.224135</td>\n",
       "      <td>1.586185e-08</td>\n",
       "    </tr>\n",
       "    <tr>\n",
       "      <th>(KLF4, MAZ)</th>\n",
       "      <td>KLF4</td>\n",
       "      <td>MAZ</td>\n",
       "      <td>57</td>\n",
       "      <td>0.350877</td>\n",
       "      <td>0.526316</td>\n",
       "      <td>0.035088</td>\n",
       "      <td>0.087719</td>\n",
       "      <td>0.230253</td>\n",
       "      <td>6.587858e-08</td>\n",
       "    </tr>\n",
       "    <tr>\n",
       "      <th>(E2F6, SP4)</th>\n",
       "      <td>E2F6</td>\n",
       "      <td>SP4</td>\n",
       "      <td>73</td>\n",
       "      <td>0.273973</td>\n",
       "      <td>0.493151</td>\n",
       "      <td>0.136986</td>\n",
       "      <td>0.095890</td>\n",
       "      <td>0.179089</td>\n",
       "      <td>3.467546e-06</td>\n",
       "    </tr>\n",
       "    <tr>\n",
       "      <th>(EGR2, KLF9)</th>\n",
       "      <td>EGR2</td>\n",
       "      <td>KLF9</td>\n",
       "      <td>111</td>\n",
       "      <td>0.279279</td>\n",
       "      <td>0.486486</td>\n",
       "      <td>0.108108</td>\n",
       "      <td>0.126126</td>\n",
       "      <td>0.175367</td>\n",
       "      <td>6.655301e-09</td>\n",
       "    </tr>\n",
       "  </tbody>\n",
       "</table>\n",
       "</div>"
      ],
      "text/plain": [
       "               TF1   TF2  TF1_TF2_count   TF1-TF2   TF2-TF1  convergent  \\\n",
       "(KLF4, KLF5)  KLF4  KLF5             55  0.345455  0.563636    0.000000   \n",
       "(EGR1, KLF9)  EGR1  KLF9             65  0.276923  0.553846    0.123077   \n",
       "(KLF4, MAZ)   KLF4   MAZ             57  0.350877  0.526316    0.035088   \n",
       "(E2F6, SP4)   E2F6   SP4             73  0.273973  0.493151    0.136986   \n",
       "(EGR2, KLF9)  EGR2  KLF9            111  0.279279  0.486486    0.108108   \n",
       "\n",
       "              divergent       std        pvalue  \n",
       "(KLF4, KLF5)   0.090909  0.255140  2.505143e-09  \n",
       "(EGR1, KLF9)   0.046154  0.224135  1.586185e-08  \n",
       "(KLF4, MAZ)    0.087719  0.230253  6.587858e-08  \n",
       "(E2F6, SP4)    0.095890  0.179089  3.467546e-06  \n",
       "(EGR2, KLF9)   0.126126  0.175367  6.655301e-09  "
      ]
     },
     "execution_count": 17,
     "metadata": {},
     "output_type": "execute_result"
    }
   ],
   "source": [
    "selected.sort_values(\"TF2-TF1\", ascending=False).head()"
   ]
  },
  {
   "cell_type": "markdown",
   "metadata": {},
   "source": [
    "### TFs specific in convergent orientation"
   ]
  },
  {
   "cell_type": "code",
   "execution_count": 18,
   "metadata": {
    "execution": {
     "iopub.execute_input": "2021-10-12T15:12:32.443240Z",
     "iopub.status.busy": "2021-10-12T15:12:32.442684Z",
     "iopub.status.idle": "2021-10-12T15:12:32.461178Z",
     "shell.execute_reply": "2021-10-12T15:12:32.460606Z"
    }
   },
   "outputs": [
    {
     "data": {
      "text/html": [
       "<div>\n",
       "<style scoped>\n",
       "    .dataframe tbody tr th:only-of-type {\n",
       "        vertical-align: middle;\n",
       "    }\n",
       "\n",
       "    .dataframe tbody tr th {\n",
       "        vertical-align: top;\n",
       "    }\n",
       "\n",
       "    .dataframe thead th {\n",
       "        text-align: right;\n",
       "    }\n",
       "</style>\n",
       "<table border=\"1\" class=\"dataframe\">\n",
       "  <thead>\n",
       "    <tr style=\"text-align: right;\">\n",
       "      <th></th>\n",
       "      <th>TF1</th>\n",
       "      <th>TF2</th>\n",
       "      <th>TF1_TF2_count</th>\n",
       "      <th>TF1-TF2</th>\n",
       "      <th>TF2-TF1</th>\n",
       "      <th>convergent</th>\n",
       "      <th>divergent</th>\n",
       "      <th>std</th>\n",
       "      <th>pvalue</th>\n",
       "    </tr>\n",
       "  </thead>\n",
       "  <tbody>\n",
       "    <tr>\n",
       "      <th>(ASCL1, WT1)</th>\n",
       "      <td>ASCL1</td>\n",
       "      <td>WT1</td>\n",
       "      <td>51</td>\n",
       "      <td>0.137255</td>\n",
       "      <td>0.137255</td>\n",
       "      <td>0.411765</td>\n",
       "      <td>0.313725</td>\n",
       "      <td>0.136200</td>\n",
       "      <td>0.009963</td>\n",
       "    </tr>\n",
       "    <tr>\n",
       "      <th>(THAP1, ZNF263)</th>\n",
       "      <td>THAP1</td>\n",
       "      <td>ZNF263</td>\n",
       "      <td>63</td>\n",
       "      <td>0.238095</td>\n",
       "      <td>0.238095</td>\n",
       "      <td>0.396825</td>\n",
       "      <td>0.126984</td>\n",
       "      <td>0.111017</td>\n",
       "      <td>0.025355</td>\n",
       "    </tr>\n",
       "    <tr>\n",
       "      <th>(SP1, ZFX)</th>\n",
       "      <td>SP1</td>\n",
       "      <td>ZFX</td>\n",
       "      <td>66</td>\n",
       "      <td>0.136364</td>\n",
       "      <td>0.136364</td>\n",
       "      <td>0.378788</td>\n",
       "      <td>0.348485</td>\n",
       "      <td>0.131798</td>\n",
       "      <td>0.003254</td>\n",
       "    </tr>\n",
       "    <tr>\n",
       "      <th>(PATZ1, ZFX)</th>\n",
       "      <td>PATZ1</td>\n",
       "      <td>ZFX</td>\n",
       "      <td>62</td>\n",
       "      <td>0.161290</td>\n",
       "      <td>0.080645</td>\n",
       "      <td>0.370968</td>\n",
       "      <td>0.387097</td>\n",
       "      <td>0.152730</td>\n",
       "      <td>0.000597</td>\n",
       "    </tr>\n",
       "    <tr>\n",
       "      <th>(NHLH1, SP1)</th>\n",
       "      <td>NHLH1</td>\n",
       "      <td>SP1</td>\n",
       "      <td>66</td>\n",
       "      <td>0.136364</td>\n",
       "      <td>0.318182</td>\n",
       "      <td>0.348485</td>\n",
       "      <td>0.196970</td>\n",
       "      <td>0.100122</td>\n",
       "      <td>0.047281</td>\n",
       "    </tr>\n",
       "  </tbody>\n",
       "</table>\n",
       "</div>"
      ],
      "text/plain": [
       "                   TF1     TF2  TF1_TF2_count   TF1-TF2   TF2-TF1  convergent  \\\n",
       "(ASCL1, WT1)     ASCL1     WT1             51  0.137255  0.137255    0.411765   \n",
       "(THAP1, ZNF263)  THAP1  ZNF263             63  0.238095  0.238095    0.396825   \n",
       "(SP1, ZFX)         SP1     ZFX             66  0.136364  0.136364    0.378788   \n",
       "(PATZ1, ZFX)     PATZ1     ZFX             62  0.161290  0.080645    0.370968   \n",
       "(NHLH1, SP1)     NHLH1     SP1             66  0.136364  0.318182    0.348485   \n",
       "\n",
       "                 divergent       std    pvalue  \n",
       "(ASCL1, WT1)      0.313725  0.136200  0.009963  \n",
       "(THAP1, ZNF263)   0.126984  0.111017  0.025355  \n",
       "(SP1, ZFX)        0.348485  0.131798  0.003254  \n",
       "(PATZ1, ZFX)      0.387097  0.152730  0.000597  \n",
       "(NHLH1, SP1)      0.196970  0.100122  0.047281  "
      ]
     },
     "execution_count": 18,
     "metadata": {},
     "output_type": "execute_result"
    }
   ],
   "source": [
    "selected.sort_values(\"convergent\", ascending=False).head()"
   ]
  },
  {
   "cell_type": "markdown",
   "metadata": {},
   "source": [
    "### TFs specific in divergent orientation"
   ]
  },
  {
   "cell_type": "code",
   "execution_count": 19,
   "metadata": {
    "execution": {
     "iopub.execute_input": "2021-10-12T15:12:32.465635Z",
     "iopub.status.busy": "2021-10-12T15:12:32.465101Z",
     "iopub.status.idle": "2021-10-12T15:12:32.484156Z",
     "shell.execute_reply": "2021-10-12T15:12:32.483611Z"
    }
   },
   "outputs": [
    {
     "data": {
      "text/html": [
       "<div>\n",
       "<style scoped>\n",
       "    .dataframe tbody tr th:only-of-type {\n",
       "        vertical-align: middle;\n",
       "    }\n",
       "\n",
       "    .dataframe tbody tr th {\n",
       "        vertical-align: top;\n",
       "    }\n",
       "\n",
       "    .dataframe thead th {\n",
       "        text-align: right;\n",
       "    }\n",
       "</style>\n",
       "<table border=\"1\" class=\"dataframe\">\n",
       "  <thead>\n",
       "    <tr style=\"text-align: right;\">\n",
       "      <th></th>\n",
       "      <th>TF1</th>\n",
       "      <th>TF2</th>\n",
       "      <th>TF1_TF2_count</th>\n",
       "      <th>TF1-TF2</th>\n",
       "      <th>TF2-TF1</th>\n",
       "      <th>convergent</th>\n",
       "      <th>divergent</th>\n",
       "      <th>std</th>\n",
       "      <th>pvalue</th>\n",
       "    </tr>\n",
       "  </thead>\n",
       "  <tbody>\n",
       "    <tr>\n",
       "      <th>(PATZ1, ZFX)</th>\n",
       "      <td>PATZ1</td>\n",
       "      <td>ZFX</td>\n",
       "      <td>62</td>\n",
       "      <td>0.161290</td>\n",
       "      <td>0.080645</td>\n",
       "      <td>0.370968</td>\n",
       "      <td>0.387097</td>\n",
       "      <td>0.152730</td>\n",
       "      <td>0.000597</td>\n",
       "    </tr>\n",
       "    <tr>\n",
       "      <th>(EGR2, MYF6)</th>\n",
       "      <td>EGR2</td>\n",
       "      <td>MYF6</td>\n",
       "      <td>65</td>\n",
       "      <td>0.169231</td>\n",
       "      <td>0.138462</td>\n",
       "      <td>0.307692</td>\n",
       "      <td>0.384615</td>\n",
       "      <td>0.116066</td>\n",
       "      <td>0.014709</td>\n",
       "    </tr>\n",
       "    <tr>\n",
       "      <th>(MYF6, ZBTB17)</th>\n",
       "      <td>MYF6</td>\n",
       "      <td>ZBTB17</td>\n",
       "      <td>74</td>\n",
       "      <td>0.148649</td>\n",
       "      <td>0.148649</td>\n",
       "      <td>0.337838</td>\n",
       "      <td>0.364865</td>\n",
       "      <td>0.117549</td>\n",
       "      <td>0.006512</td>\n",
       "    </tr>\n",
       "    <tr>\n",
       "      <th>(THAP1, ZNF341)</th>\n",
       "      <td>THAP1</td>\n",
       "      <td>ZNF341</td>\n",
       "      <td>83</td>\n",
       "      <td>0.228916</td>\n",
       "      <td>0.144578</td>\n",
       "      <td>0.265060</td>\n",
       "      <td>0.361446</td>\n",
       "      <td>0.089824</td>\n",
       "      <td>0.045271</td>\n",
       "    </tr>\n",
       "    <tr>\n",
       "      <th>(WT1, ZFX)</th>\n",
       "      <td>WT1</td>\n",
       "      <td>ZFX</td>\n",
       "      <td>51</td>\n",
       "      <td>0.215686</td>\n",
       "      <td>0.098039</td>\n",
       "      <td>0.333333</td>\n",
       "      <td>0.352941</td>\n",
       "      <td>0.118055</td>\n",
       "      <td>0.036248</td>\n",
       "    </tr>\n",
       "  </tbody>\n",
       "</table>\n",
       "</div>"
      ],
      "text/plain": [
       "                   TF1     TF2  TF1_TF2_count   TF1-TF2   TF2-TF1  convergent  \\\n",
       "(PATZ1, ZFX)     PATZ1     ZFX             62  0.161290  0.080645    0.370968   \n",
       "(EGR2, MYF6)      EGR2    MYF6             65  0.169231  0.138462    0.307692   \n",
       "(MYF6, ZBTB17)    MYF6  ZBTB17             74  0.148649  0.148649    0.337838   \n",
       "(THAP1, ZNF341)  THAP1  ZNF341             83  0.228916  0.144578    0.265060   \n",
       "(WT1, ZFX)         WT1     ZFX             51  0.215686  0.098039    0.333333   \n",
       "\n",
       "                 divergent       std    pvalue  \n",
       "(PATZ1, ZFX)      0.387097  0.152730  0.000597  \n",
       "(EGR2, MYF6)      0.384615  0.116066  0.014709  \n",
       "(MYF6, ZBTB17)    0.364865  0.117549  0.006512  \n",
       "(THAP1, ZNF341)   0.361446  0.089824  0.045271  \n",
       "(WT1, ZFX)        0.352941  0.118055  0.036248  "
      ]
     },
     "execution_count": 19,
     "metadata": {},
     "output_type": "execute_result"
    }
   ],
   "source": [
    "selected.sort_values(\"divergent\", ascending=False).head()"
   ]
  }
 ],
 "metadata": {
  "kernelspec": {
   "display_name": "py3",
   "language": "python",
   "name": "py3"
  },
  "language_info": {
   "codemirror_mode": {
    "name": "ipython",
    "version": 3
   },
   "file_extension": ".py",
   "mimetype": "text/x-python",
   "name": "python",
   "nbconvert_exporter": "python",
   "pygments_lexer": "ipython3",
   "version": "3.7.12"
  }
 },
 "nbformat": 4,
 "nbformat_minor": 4
}
