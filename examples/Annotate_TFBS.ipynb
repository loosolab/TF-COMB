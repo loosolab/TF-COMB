{
 "cells": [
  {
   "cell_type": "code",
   "execution_count": 1,
   "id": "17de80dc",
   "metadata": {},
   "outputs": [],
   "source": [
    "import tfcomb.annotation"
   ]
  },
  {
   "cell_type": "markdown",
   "id": "5cd9267b",
   "metadata": {},
   "source": [
    "# Annotate binding sites to genes"
   ]
  },
  {
   "cell_type": "code",
   "execution_count": 2,
   "id": "636d9ca9",
   "metadata": {},
   "outputs": [],
   "source": [
    "C = tfcomb.CombObj().from_pickle(\"../data/GM12878_selected.pkl\")"
   ]
  },
  {
   "cell_type": "code",
   "execution_count": 3,
   "id": "4d38aa15",
   "metadata": {},
   "outputs": [
    {
     "data": {
      "text/html": [
       "<div>\n",
       "<style scoped>\n",
       "    .dataframe tbody tr th:only-of-type {\n",
       "        vertical-align: middle;\n",
       "    }\n",
       "\n",
       "    .dataframe tbody tr th {\n",
       "        vertical-align: top;\n",
       "    }\n",
       "\n",
       "    .dataframe thead th {\n",
       "        text-align: right;\n",
       "    }\n",
       "</style>\n",
       "<table border=\"1\" class=\"dataframe\">\n",
       "  <thead>\n",
       "    <tr style=\"text-align: right;\">\n",
       "      <th></th>\n",
       "      <th>TF1</th>\n",
       "      <th>TF2</th>\n",
       "      <th>TF1_TF2_count</th>\n",
       "      <th>TF1_count</th>\n",
       "      <th>TF2_count</th>\n",
       "      <th>cosine</th>\n",
       "      <th>zscore</th>\n",
       "    </tr>\n",
       "  </thead>\n",
       "  <tbody>\n",
       "    <tr>\n",
       "      <th>RAD21-CTCF</th>\n",
       "      <td>RAD21</td>\n",
       "      <td>CTCF</td>\n",
       "      <td>1751</td>\n",
       "      <td>2241</td>\n",
       "      <td>2432</td>\n",
       "      <td>0.750038</td>\n",
       "      <td>18.643056</td>\n",
       "    </tr>\n",
       "    <tr>\n",
       "      <th>RAD21-SMC3</th>\n",
       "      <td>RAD21</td>\n",
       "      <td>SMC3</td>\n",
       "      <td>1376</td>\n",
       "      <td>2241</td>\n",
       "      <td>1638</td>\n",
       "      <td>0.718192</td>\n",
       "      <td>20.314026</td>\n",
       "    </tr>\n",
       "    <tr>\n",
       "      <th>SMC3-CTCF</th>\n",
       "      <td>SMC3</td>\n",
       "      <td>CTCF</td>\n",
       "      <td>1361</td>\n",
       "      <td>1638</td>\n",
       "      <td>2432</td>\n",
       "      <td>0.681898</td>\n",
       "      <td>20.245177</td>\n",
       "    </tr>\n",
       "    <tr>\n",
       "      <th>IKZF1-IKZF2</th>\n",
       "      <td>IKZF1</td>\n",
       "      <td>IKZF2</td>\n",
       "      <td>1726</td>\n",
       "      <td>2922</td>\n",
       "      <td>2324</td>\n",
       "      <td>0.662343</td>\n",
       "      <td>11.215960</td>\n",
       "    </tr>\n",
       "    <tr>\n",
       "      <th>ZNF143-SMC3</th>\n",
       "      <td>ZNF143</td>\n",
       "      <td>SMC3</td>\n",
       "      <td>1060</td>\n",
       "      <td>1652</td>\n",
       "      <td>1638</td>\n",
       "      <td>0.644383</td>\n",
       "      <td>21.838431</td>\n",
       "    </tr>\n",
       "    <tr>\n",
       "      <th>NFYA-FOS</th>\n",
       "      <td>NFYA</td>\n",
       "      <td>FOS</td>\n",
       "      <td>19</td>\n",
       "      <td>21</td>\n",
       "      <td>45</td>\n",
       "      <td>0.618070</td>\n",
       "      <td>58.099184</td>\n",
       "    </tr>\n",
       "    <tr>\n",
       "      <th>JUNB-BATF</th>\n",
       "      <td>JUNB</td>\n",
       "      <td>BATF</td>\n",
       "      <td>1135</td>\n",
       "      <td>1866</td>\n",
       "      <td>1854</td>\n",
       "      <td>0.610218</td>\n",
       "      <td>15.351205</td>\n",
       "    </tr>\n",
       "    <tr>\n",
       "      <th>RAD21-ZNF143</th>\n",
       "      <td>RAD21</td>\n",
       "      <td>ZNF143</td>\n",
       "      <td>1136</td>\n",
       "      <td>2241</td>\n",
       "      <td>1652</td>\n",
       "      <td>0.590408</td>\n",
       "      <td>15.168180</td>\n",
       "    </tr>\n",
       "    <tr>\n",
       "      <th>CTCF-ZNF143</th>\n",
       "      <td>CTCF</td>\n",
       "      <td>ZNF143</td>\n",
       "      <td>1170</td>\n",
       "      <td>2432</td>\n",
       "      <td>1652</td>\n",
       "      <td>0.583713</td>\n",
       "      <td>15.459923</td>\n",
       "    </tr>\n",
       "    <tr>\n",
       "      <th>CREM-CREB1</th>\n",
       "      <td>CREM</td>\n",
       "      <td>CREB1</td>\n",
       "      <td>717</td>\n",
       "      <td>1392</td>\n",
       "      <td>1114</td>\n",
       "      <td>0.575780</td>\n",
       "      <td>26.936982</td>\n",
       "    </tr>\n",
       "    <tr>\n",
       "      <th>NFIC-ATF2</th>\n",
       "      <td>NFIC</td>\n",
       "      <td>ATF2</td>\n",
       "      <td>957</td>\n",
       "      <td>1911</td>\n",
       "      <td>1484</td>\n",
       "      <td>0.568283</td>\n",
       "      <td>14.789330</td>\n",
       "    </tr>\n",
       "    <tr>\n",
       "      <th>USF1-USF2</th>\n",
       "      <td>USF1</td>\n",
       "      <td>USF2</td>\n",
       "      <td>136</td>\n",
       "      <td>259</td>\n",
       "      <td>249</td>\n",
       "      <td>0.535537</td>\n",
       "      <td>36.979279</td>\n",
       "    </tr>\n",
       "    <tr>\n",
       "      <th>TRIM22-SMC3</th>\n",
       "      <td>TRIM22</td>\n",
       "      <td>SMC3</td>\n",
       "      <td>906</td>\n",
       "      <td>1786</td>\n",
       "      <td>1638</td>\n",
       "      <td>0.529701</td>\n",
       "      <td>13.521569</td>\n",
       "    </tr>\n",
       "    <tr>\n",
       "      <th>MEF2A-MEF2C</th>\n",
       "      <td>MEF2A</td>\n",
       "      <td>MEF2C</td>\n",
       "      <td>425</td>\n",
       "      <td>1129</td>\n",
       "      <td>572</td>\n",
       "      <td>0.528864</td>\n",
       "      <td>26.006588</td>\n",
       "    </tr>\n",
       "    <tr>\n",
       "      <th>TCF12-TCF3</th>\n",
       "      <td>TCF12</td>\n",
       "      <td>TCF3</td>\n",
       "      <td>407</td>\n",
       "      <td>884</td>\n",
       "      <td>688</td>\n",
       "      <td>0.521884</td>\n",
       "      <td>28.784395</td>\n",
       "    </tr>\n",
       "    <tr>\n",
       "      <th>BCL11A-IRF4</th>\n",
       "      <td>BCL11A</td>\n",
       "      <td>IRF4</td>\n",
       "      <td>522</td>\n",
       "      <td>1009</td>\n",
       "      <td>994</td>\n",
       "      <td>0.521233</td>\n",
       "      <td>22.614173</td>\n",
       "    </tr>\n",
       "    <tr>\n",
       "      <th>ATF2-CREM</th>\n",
       "      <td>ATF2</td>\n",
       "      <td>CREM</td>\n",
       "      <td>742</td>\n",
       "      <td>1484</td>\n",
       "      <td>1392</td>\n",
       "      <td>0.516259</td>\n",
       "      <td>15.723393</td>\n",
       "    </tr>\n",
       "    <tr>\n",
       "      <th>NFIC-FOXM1</th>\n",
       "      <td>NFIC</td>\n",
       "      <td>FOXM1</td>\n",
       "      <td>750</td>\n",
       "      <td>1911</td>\n",
       "      <td>1115</td>\n",
       "      <td>0.513799</td>\n",
       "      <td>20.462765</td>\n",
       "    </tr>\n",
       "    <tr>\n",
       "      <th>SIX5-HCFC1</th>\n",
       "      <td>SIX5</td>\n",
       "      <td>HCFC1</td>\n",
       "      <td>111</td>\n",
       "      <td>172</td>\n",
       "      <td>287</td>\n",
       "      <td>0.499595</td>\n",
       "      <td>35.818992</td>\n",
       "    </tr>\n",
       "    <tr>\n",
       "      <th>FOXM1-ATF2</th>\n",
       "      <td>FOXM1</td>\n",
       "      <td>ATF2</td>\n",
       "      <td>638</td>\n",
       "      <td>1115</td>\n",
       "      <td>1484</td>\n",
       "      <td>0.495982</td>\n",
       "      <td>16.925349</td>\n",
       "    </tr>\n",
       "  </tbody>\n",
       "</table>\n",
       "</div>"
      ],
      "text/plain": [
       "                 TF1     TF2  TF1_TF2_count  TF1_count  TF2_count    cosine  \\\n",
       "RAD21-CTCF     RAD21    CTCF           1751       2241       2432  0.750038   \n",
       "RAD21-SMC3     RAD21    SMC3           1376       2241       1638  0.718192   \n",
       "SMC3-CTCF       SMC3    CTCF           1361       1638       2432  0.681898   \n",
       "IKZF1-IKZF2    IKZF1   IKZF2           1726       2922       2324  0.662343   \n",
       "ZNF143-SMC3   ZNF143    SMC3           1060       1652       1638  0.644383   \n",
       "NFYA-FOS        NFYA     FOS             19         21         45  0.618070   \n",
       "JUNB-BATF       JUNB    BATF           1135       1866       1854  0.610218   \n",
       "RAD21-ZNF143   RAD21  ZNF143           1136       2241       1652  0.590408   \n",
       "CTCF-ZNF143     CTCF  ZNF143           1170       2432       1652  0.583713   \n",
       "CREM-CREB1      CREM   CREB1            717       1392       1114  0.575780   \n",
       "NFIC-ATF2       NFIC    ATF2            957       1911       1484  0.568283   \n",
       "USF1-USF2       USF1    USF2            136        259        249  0.535537   \n",
       "TRIM22-SMC3   TRIM22    SMC3            906       1786       1638  0.529701   \n",
       "MEF2A-MEF2C    MEF2A   MEF2C            425       1129        572  0.528864   \n",
       "TCF12-TCF3     TCF12    TCF3            407        884        688  0.521884   \n",
       "BCL11A-IRF4   BCL11A    IRF4            522       1009        994  0.521233   \n",
       "ATF2-CREM       ATF2    CREM            742       1484       1392  0.516259   \n",
       "NFIC-FOXM1      NFIC   FOXM1            750       1911       1115  0.513799   \n",
       "SIX5-HCFC1      SIX5   HCFC1            111        172        287  0.499595   \n",
       "FOXM1-ATF2     FOXM1    ATF2            638       1115       1484  0.495982   \n",
       "\n",
       "                 zscore  \n",
       "RAD21-CTCF    18.643056  \n",
       "RAD21-SMC3    20.314026  \n",
       "SMC3-CTCF     20.245177  \n",
       "IKZF1-IKZF2   11.215960  \n",
       "ZNF143-SMC3   21.838431  \n",
       "NFYA-FOS      58.099184  \n",
       "JUNB-BATF     15.351205  \n",
       "RAD21-ZNF143  15.168180  \n",
       "CTCF-ZNF143   15.459923  \n",
       "CREM-CREB1    26.936982  \n",
       "NFIC-ATF2     14.789330  \n",
       "USF1-USF2     36.979279  \n",
       "TRIM22-SMC3   13.521569  \n",
       "MEF2A-MEF2C   26.006588  \n",
       "TCF12-TCF3    28.784395  \n",
       "BCL11A-IRF4   22.614173  \n",
       "ATF2-CREM     15.723393  \n",
       "NFIC-FOXM1    20.462765  \n",
       "SIX5-HCFC1    35.818992  \n",
       "FOXM1-ATF2    16.925349  "
      ]
     },
     "execution_count": 3,
     "metadata": {},
     "output_type": "execute_result"
    }
   ],
   "source": [
    "C.rules.head(20)"
   ]
  },
  {
   "cell_type": "code",
   "execution_count": 4,
   "id": "83931b65",
   "metadata": {},
   "outputs": [],
   "source": [
    "locations = C.get_pair_locations(TF1=\"JUNB\", TF2=\"BATF\")"
   ]
  },
  {
   "cell_type": "code",
   "execution_count": 5,
   "id": "9e1e97bd",
   "metadata": {},
   "outputs": [
    {
     "data": {
      "text/plain": [
       "1135"
      ]
     },
     "execution_count": 5,
     "metadata": {},
     "output_type": "execute_result"
    }
   ],
   "source": [
    "len(locations)"
   ]
  },
  {
   "cell_type": "code",
   "execution_count": 6,
   "id": "87d75f36",
   "metadata": {},
   "outputs": [],
   "source": [
    "l = [locations[i][0] for i in range(len(locations))]"
   ]
  },
  {
   "cell_type": "markdown",
   "id": "321d0270",
   "metadata": {},
   "source": [
    "## Annotate regions"
   ]
  },
  {
   "cell_type": "code",
   "execution_count": 7,
   "id": "050109ba",
   "metadata": {},
   "outputs": [
    {
     "name": "stdout",
     "output_type": "stream",
     "text": [
      "INFO: Attribute '.annotation' was added to each region\n"
     ]
    }
   ],
   "source": [
    "tfcomb.annotation.annotate_regions(l, gtf=\"../data/chr4_genes.gtf\")"
   ]
  },
  {
   "cell_type": "code",
   "execution_count": 8,
   "id": "ef283598",
   "metadata": {},
   "outputs": [
    {
     "data": {
      "text/plain": [
       "{'peak_chr': 'chr4',\n",
       " 'peak_start': 924255,\n",
       " 'peak_end': 924256,\n",
       " 'peak_id': 'JUNB',\n",
       " 'peak_score': None,\n",
       " 'peak_strand': '.',\n",
       " 'peak_center': 924255,\n",
       " 'peak_length': 1,\n",
       " 'feature': 'gene',\n",
       " 'feat_strand': '+',\n",
       " 'feat_start': 932386,\n",
       " 'feat_end': 958656,\n",
       " 'feat_center': 945521,\n",
       " 'feat_length': 26270,\n",
       " 'feat_attributes': {'gene_id': ['ENSG00000127419'],\n",
       "  'gene_version': ['17'],\n",
       "  'gene_name': ['TMEM175'],\n",
       "  'gene_source': ['ensembl_havana'],\n",
       "  'gene_biotype': ['protein_coding']},\n",
       " 'anchor_pos': {'start': 932386, 'center': 945521, 'end': 958656},\n",
       " 'query': 0,\n",
       " 'best_hit': 1,\n",
       " 'query_name': 'query_1',\n",
       " 'raw_distance': -8131,\n",
       " 'distance': 8131,\n",
       " 'feat_anchor': 'start',\n",
       " 'feat_ovl_peak': '0.0',\n",
       " 'peak_ovl_feat': '0.0',\n",
       " 'relative_location': 'Upstream'}"
      ]
     },
     "execution_count": 8,
     "metadata": {},
     "output_type": "execute_result"
    }
   ],
   "source": [
    "l[2].annotation"
   ]
  },
  {
   "cell_type": "markdown",
   "id": "f8fb1c0a",
   "metadata": {},
   "source": [
    "## Fetch genes from the regions"
   ]
  },
  {
   "cell_type": "code",
   "execution_count": 9,
   "id": "b614deb4",
   "metadata": {},
   "outputs": [],
   "source": [
    "genes = tfcomb.annotation.get_annotated_genes(l)"
   ]
  },
  {
   "cell_type": "code",
   "execution_count": 10,
   "id": "acbc6875",
   "metadata": {},
   "outputs": [
    {
     "data": {
      "text/plain": [
       "['CENPU',\n",
       " 'CXCL8',\n",
       " 'COPS4',\n",
       " 'GNRHR',\n",
       " 'NUP54',\n",
       " 'DHX15',\n",
       " 'RHOH',\n",
       " 'TMPRSS11B',\n",
       " 'EIF4E',\n",
       " 'SPATA4']"
      ]
     },
     "execution_count": 10,
     "metadata": {},
     "output_type": "execute_result"
    }
   ],
   "source": [
    "genes[:10]"
   ]
  },
  {
   "cell_type": "code",
   "execution_count": 11,
   "id": "12d939e9",
   "metadata": {},
   "outputs": [],
   "source": [
    "# Write genes to a file\n",
    "with open('../data/gene_list.txt', 'w') as f:\n",
    "    f.write(\"\\n\".join(genes))"
   ]
  }
 ],
 "metadata": {
  "kernelspec": {
   "display_name": "py3",
   "language": "python",
   "name": "py3"
  },
  "language_info": {
   "codemirror_mode": {
    "name": "ipython",
    "version": 3
   },
   "file_extension": ".py",
   "mimetype": "text/x-python",
   "name": "python",
   "nbconvert_exporter": "python",
   "pygments_lexer": "ipython3",
   "version": "3.7.6"
  }
 },
 "nbformat": 4,
 "nbformat_minor": 5
}
