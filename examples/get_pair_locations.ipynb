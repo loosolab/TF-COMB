{
 "cells": [
  {
   "cell_type": "markdown",
   "id": "5e40621a",
   "metadata": {},
   "source": [
    "# Genomic locations of TF-TF pairs"
   ]
  },
  {
   "cell_type": "markdown",
   "id": "d83c2067",
   "metadata": {},
   "source": [
    "In this notebook, we will go over how to get the locations of two TFs co-occurring. We will start by loading a CombObj from a previous notebook:"
   ]
  },
  {
   "cell_type": "code",
   "execution_count": 1,
   "id": "0a712cd3",
   "metadata": {},
   "outputs": [],
   "source": [
    "import tfcomb\n",
    "C = tfcomb.CombObj().from_pickle(\"../data/GM12878_motifs.pkl\")"
   ]
  },
  {
   "cell_type": "markdown",
   "id": "c9e2a2bb",
   "metadata": {},
   "source": [
    "We can see that this Object 'C' is already filled with .TFBS positions:"
   ]
  },
  {
   "cell_type": "code",
   "execution_count": 2,
   "id": "58288110",
   "metadata": {},
   "outputs": [
    {
     "data": {
      "text/plain": [
       "[chr4\t124338\t124349\tPBX3\t9.04583\t-,\n",
       " chr4\t124338\t124349\tPKNOX1\t9.44416\t-,\n",
       " chr4\t124339\t124349\tPBX1\t9.11317\t-,\n",
       " chr4\t124381\t124392\tPKNOX1\t9.92456\t-,\n",
       " chr4\t124382\t124392\tPBX1\t9.97382\t-,\n",
       " chr4\t124391\t124405\tTFAP2C\t10.09146\t+,\n",
       " chr4\t124506\t124523\tZNF418\t9.61641\t+,\n",
       " chr4\t124598\t124616\tRARG\t10.39778\t-,\n",
       " chr4\t124683\t124698\tESR2\t10.69936\t-,\n",
       " chr4\t124729\t124741\tZFP42\t9.95335\t-]"
      ]
     },
     "execution_count": 2,
     "metadata": {},
     "output_type": "execute_result"
    }
   ],
   "source": [
    "C.TFBS[:10]"
   ]
  },
  {
   "cell_type": "markdown",
   "id": "e903babf",
   "metadata": {},
   "source": [
    "## Getting locations for a selected TF-TF pair"
   ]
  },
  {
   "cell_type": "markdown",
   "id": "4e7b2f58",
   "metadata": {},
   "source": [
    "We choose the highest ranking TF pair from the .rules:"
   ]
  },
  {
   "cell_type": "code",
   "execution_count": 3,
   "id": "647330d8",
   "metadata": {},
   "outputs": [
    {
     "data": {
      "text/plain": [
       "('SP2', 'SP3')"
      ]
     },
     "execution_count": 3,
     "metadata": {},
     "output_type": "execute_result"
    }
   ],
   "source": [
    "TF1, TF2 = C.rules.iloc[0, [0,1]]\n",
    "TF1, TF2"
   ]
  },
  {
   "cell_type": "markdown",
   "id": "b5e95e27",
   "metadata": {},
   "source": [
    "We can now apply _get_pair_locations()_ to get the locations of the TF-TF pairs"
   ]
  },
  {
   "cell_type": "code",
   "execution_count": 4,
   "id": "e714e3a3",
   "metadata": {},
   "outputs": [],
   "source": [
    "pairs = C.get_pair_locations(TF1, TF2)"
   ]
  },
  {
   "cell_type": "code",
   "execution_count": 5,
   "id": "110afaad",
   "metadata": {},
   "outputs": [
    {
     "data": {
      "text/plain": [
       "[<TFBSPair | TFBS1: (chr4,338155,338177,SP2,9.83433,-) | TFBS2: (chr4,338196,338216,SP3,9.40952,-) | distance: 19 | orientation: same >,\n",
       " <TFBSPair | TFBS1: (chr4,338155,338177,SP2,9.83433,-) | TFBS2: (chr4,338274,338294,SP3,10.11803,+) | distance: 97 | orientation: opposite >,\n",
       " <TFBSPair | TFBS1: (chr4,338195,338217,SP2,13.11992,-) | TFBS2: (chr4,338274,338294,SP3,10.11803,+) | distance: 57 | orientation: opposite >,\n",
       " <TFBSPair | TFBS1: (chr4,532868,532890,SP2,13.86684,+) | TFBS2: (chr4,532890,532910,SP3,9.6596,+) | distance: 0 | orientation: same >,\n",
       " <TFBSPair | TFBS1: (chr4,532868,532890,SP2,13.86684,+) | TFBS2: (chr4,532953,532973,SP3,11.71306,+) | distance: 63 | orientation: same >,\n",
       " <TFBSPair | TFBS1: (chr4,532868,532890,SP2,13.86684,+) | TFBS2: (chr4,532974,532994,SP3,9.6596,+) | distance: 84 | orientation: same >,\n",
       " <TFBSPair | TFBS1: (chr4,532869,532889,SP3,12.87845,+) | TFBS2: (chr4,532952,532974,SP2,11.89012,+) | distance: 63 | orientation: same >,\n",
       " <TFBSPair | TFBS1: (chr4,532890,532910,SP3,9.6596,+) | TFBS2: (chr4,532952,532974,SP2,11.89012,+) | distance: 42 | orientation: same >,\n",
       " <TFBSPair | TFBS1: (chr4,532952,532974,SP2,11.89012,+) | TFBS2: (chr4,532974,532994,SP3,9.6596,+) | distance: 0 | orientation: same >,\n",
       " <TFBSPair | TFBS1: (chr4,532952,532974,SP2,11.89012,+) | TFBS2: (chr4,533037,533057,SP3,11.1757,+) | distance: 63 | orientation: same >]"
      ]
     },
     "execution_count": 5,
     "metadata": {},
     "output_type": "execute_result"
    }
   ],
   "source": [
    "pairs[:10]"
   ]
  },
  {
   "cell_type": "markdown",
   "id": "0f6905be",
   "metadata": {},
   "source": [
    "We can write these locations to a file:"
   ]
  },
  {
   "cell_type": "code",
   "execution_count": 6,
   "id": "084dcdeb",
   "metadata": {},
   "outputs": [
    {
     "data": {
      "text/html": [
       "<div>\n",
       "<style scoped>\n",
       "    .dataframe tbody tr th:only-of-type {\n",
       "        vertical-align: middle;\n",
       "    }\n",
       "\n",
       "    .dataframe tbody tr th {\n",
       "        vertical-align: top;\n",
       "    }\n",
       "\n",
       "    .dataframe thead th {\n",
       "        text-align: right;\n",
       "    }\n",
       "</style>\n",
       "<table border=\"1\" class=\"dataframe\">\n",
       "  <thead>\n",
       "    <tr style=\"text-align: right;\">\n",
       "      <th></th>\n",
       "      <th>0</th>\n",
       "      <th>1</th>\n",
       "      <th>2</th>\n",
       "      <th>3</th>\n",
       "      <th>4</th>\n",
       "      <th>5</th>\n",
       "    </tr>\n",
       "  </thead>\n",
       "  <tbody>\n",
       "    <tr>\n",
       "      <th>0</th>\n",
       "      <td>chr4</td>\n",
       "      <td>338177</td>\n",
       "      <td>338177</td>\n",
       "      <td>SP2</td>\n",
       "      <td>.</td>\n",
       "      <td>-</td>\n",
       "    </tr>\n",
       "    <tr>\n",
       "      <th>1</th>\n",
       "      <td>chr4</td>\n",
       "      <td>338216</td>\n",
       "      <td>338216</td>\n",
       "      <td>SP3</td>\n",
       "      <td>.</td>\n",
       "      <td>-</td>\n",
       "    </tr>\n",
       "    <tr>\n",
       "      <th>2</th>\n",
       "      <td>chr4</td>\n",
       "      <td>338177</td>\n",
       "      <td>338177</td>\n",
       "      <td>SP2</td>\n",
       "      <td>.</td>\n",
       "      <td>-</td>\n",
       "    </tr>\n",
       "    <tr>\n",
       "      <th>3</th>\n",
       "      <td>chr4</td>\n",
       "      <td>338294</td>\n",
       "      <td>338294</td>\n",
       "      <td>SP3</td>\n",
       "      <td>.</td>\n",
       "      <td>+</td>\n",
       "    </tr>\n",
       "    <tr>\n",
       "      <th>4</th>\n",
       "      <td>chr4</td>\n",
       "      <td>338217</td>\n",
       "      <td>338217</td>\n",
       "      <td>SP2</td>\n",
       "      <td>.</td>\n",
       "      <td>-</td>\n",
       "    </tr>\n",
       "  </tbody>\n",
       "</table>\n",
       "</div>"
      ],
      "text/plain": [
       "      0       1       2    3  4  5\n",
       "0  chr4  338177  338177  SP2  .  -\n",
       "1  chr4  338216  338216  SP3  .  -\n",
       "2  chr4  338177  338177  SP2  .  -\n",
       "3  chr4  338294  338294  SP3  .  +\n",
       "4  chr4  338217  338217  SP2  .  -"
      ]
     },
     "execution_count": 6,
     "metadata": {},
     "output_type": "execute_result"
    }
   ],
   "source": [
    "pairs.write_bed(\"TFBS_pair_positions.bed\", fmt=\"bed\")\n",
    "\n",
    "#show the content of file\n",
    "import pandas as pd\n",
    "pd.read_csv(\"TFBS_pair_positions.bed\", sep=\"\\t\", header=None, nrows=5) "
   ]
  },
  {
   "cell_type": "markdown",
   "id": "3bc69c0a",
   "metadata": {},
   "source": [
    "The pairs can also be written out as 'bedpe' format, which contains the positions of both sites:"
   ]
  },
  {
   "cell_type": "code",
   "execution_count": 7,
   "id": "a9835bff",
   "metadata": {},
   "outputs": [
    {
     "data": {
      "text/html": [
       "<div>\n",
       "<style scoped>\n",
       "    .dataframe tbody tr th:only-of-type {\n",
       "        vertical-align: middle;\n",
       "    }\n",
       "\n",
       "    .dataframe tbody tr th {\n",
       "        vertical-align: top;\n",
       "    }\n",
       "\n",
       "    .dataframe thead th {\n",
       "        text-align: right;\n",
       "    }\n",
       "</style>\n",
       "<table border=\"1\" class=\"dataframe\">\n",
       "  <thead>\n",
       "    <tr style=\"text-align: right;\">\n",
       "      <th></th>\n",
       "      <th>0</th>\n",
       "      <th>1</th>\n",
       "      <th>2</th>\n",
       "      <th>3</th>\n",
       "      <th>4</th>\n",
       "      <th>5</th>\n",
       "      <th>6</th>\n",
       "      <th>7</th>\n",
       "      <th>8</th>\n",
       "      <th>9</th>\n",
       "    </tr>\n",
       "  </thead>\n",
       "  <tbody>\n",
       "    <tr>\n",
       "      <th>0</th>\n",
       "      <td>chr4</td>\n",
       "      <td>338155</td>\n",
       "      <td>338177</td>\n",
       "      <td>chr4</td>\n",
       "      <td>338196</td>\n",
       "      <td>338216</td>\n",
       "      <td>SP2-SP3</td>\n",
       "      <td>19</td>\n",
       "      <td>-</td>\n",
       "      <td>-</td>\n",
       "    </tr>\n",
       "    <tr>\n",
       "      <th>1</th>\n",
       "      <td>chr4</td>\n",
       "      <td>338155</td>\n",
       "      <td>338177</td>\n",
       "      <td>chr4</td>\n",
       "      <td>338274</td>\n",
       "      <td>338294</td>\n",
       "      <td>SP2-SP3</td>\n",
       "      <td>97</td>\n",
       "      <td>-</td>\n",
       "      <td>+</td>\n",
       "    </tr>\n",
       "    <tr>\n",
       "      <th>2</th>\n",
       "      <td>chr4</td>\n",
       "      <td>338195</td>\n",
       "      <td>338217</td>\n",
       "      <td>chr4</td>\n",
       "      <td>338274</td>\n",
       "      <td>338294</td>\n",
       "      <td>SP2-SP3</td>\n",
       "      <td>57</td>\n",
       "      <td>-</td>\n",
       "      <td>+</td>\n",
       "    </tr>\n",
       "    <tr>\n",
       "      <th>3</th>\n",
       "      <td>chr4</td>\n",
       "      <td>532868</td>\n",
       "      <td>532890</td>\n",
       "      <td>chr4</td>\n",
       "      <td>532890</td>\n",
       "      <td>532910</td>\n",
       "      <td>SP2-SP3</td>\n",
       "      <td>0</td>\n",
       "      <td>+</td>\n",
       "      <td>+</td>\n",
       "    </tr>\n",
       "    <tr>\n",
       "      <th>4</th>\n",
       "      <td>chr4</td>\n",
       "      <td>532868</td>\n",
       "      <td>532890</td>\n",
       "      <td>chr4</td>\n",
       "      <td>532953</td>\n",
       "      <td>532973</td>\n",
       "      <td>SP2-SP3</td>\n",
       "      <td>63</td>\n",
       "      <td>+</td>\n",
       "      <td>+</td>\n",
       "    </tr>\n",
       "  </tbody>\n",
       "</table>\n",
       "</div>"
      ],
      "text/plain": [
       "      0       1       2     3       4       5        6   7  8  9\n",
       "0  chr4  338155  338177  chr4  338196  338216  SP2-SP3  19  -  -\n",
       "1  chr4  338155  338177  chr4  338274  338294  SP2-SP3  97  -  +\n",
       "2  chr4  338195  338217  chr4  338274  338294  SP2-SP3  57  -  +\n",
       "3  chr4  532868  532890  chr4  532890  532910  SP2-SP3   0  +  +\n",
       "4  chr4  532868  532890  chr4  532953  532973  SP2-SP3  63  +  +"
      ]
     },
     "execution_count": 7,
     "metadata": {},
     "output_type": "execute_result"
    }
   ],
   "source": [
    "pairs.write_bed(\"TFBS_pair_positions.bedpe\", fmt=\"bedpe\")\n",
    "\n",
    "pd.read_csv(\"TFBS_pair_positions.bedpe\", sep=\"\\t\", header=None, nrows=5)"
   ]
  }
 ],
 "metadata": {
  "kernelspec": {
   "display_name": "py3",
   "language": "python",
   "name": "py3"
  },
  "language_info": {
   "codemirror_mode": {
    "name": "ipython",
    "version": 3
   },
   "file_extension": ".py",
   "mimetype": "text/x-python",
   "name": "python",
   "nbconvert_exporter": "python",
   "pygments_lexer": "ipython3",
   "version": "3.7.8"
  }
 },
 "nbformat": 4,
 "nbformat_minor": 5
}
