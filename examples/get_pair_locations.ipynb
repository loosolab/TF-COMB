{
 "cells": [
  {
   "cell_type": "markdown",
   "id": "5e40621a",
   "metadata": {},
   "source": [
    "# Genomic locations of TF-TF pairs"
   ]
  },
  {
   "cell_type": "markdown",
   "id": "d83c2067",
   "metadata": {},
   "source": [
    "In this notebook, we will go over how to get the locations of two TFs co-occurring. We will start by creating a TF-COMB analysis from motif positions:"
   ]
  },
  {
   "cell_type": "code",
   "execution_count": 1,
   "id": "0a712cd3",
   "metadata": {},
   "outputs": [
    {
     "name": "stdout",
     "output_type": "stream",
     "text": [
      "INFO: Scanning for TFBS with 4 thread(s)...\n",
      "INFO: Progress: 12%\n",
      "INFO: Progress: 20%\n",
      "INFO: Progress: 30%\n",
      "INFO: Progress: 40%\n",
      "INFO: Progress: 50%\n",
      "INFO: Progress: 60%\n",
      "INFO: Progress: 70%\n",
      "INFO: Progress: 80%\n",
      "INFO: Progress: 91%\n",
      "INFO: Finished!\n",
      "INFO: Processing scanned TFBS\n",
      "INFO: Identified 165810 TFBS (401 unique names) within given regions\n",
      "Internal counts for 'TF_counts' were not set. Please run .count_within() to obtain TF-TF co-occurrence counts.\n",
      "WARNING: No counts found in <CombObj>. Running <CombObj>.count_within() with standard parameters.\n",
      "INFO: Setting up binding sites for counting\n",
      "INFO: Counting co-occurrences within sites\n",
      "INFO: Counting co-occurrence within background\n",
      "INFO: Running with multiprocessing threads == 1. To change this, give 'threads' in the parameter of the function.\n",
      "INFO: Progress: 10%\n",
      "INFO: Progress: 20%\n",
      "INFO: Progress: 30%\n",
      "INFO: Progress: 40%\n",
      "INFO: Progress: 50%\n",
      "INFO: Progress: 60%\n",
      "INFO: Progress: 70%\n",
      "INFO: Progress: 80%\n",
      "INFO: Progress: 90%\n",
      "INFO: Done finding co-occurrences! Run .market_basket() to estimate significant pairs\n",
      "INFO: Market basket analysis is done! Results are found in <CombObj>.rules\n"
     ]
    }
   ],
   "source": [
    "import tfcomb\n",
    "\n",
    "C = tfcomb.CombObj()\n",
    "C.TFBS_from_motifs(regions=\"../data/GM12878_hg38_chr4_ATAC_peaks.bed\", \n",
    "                   motifs=\"../data/HOCOMOCOv11_HUMAN_motifs.txt\",\n",
    "                   genome=\"../data/hg38_chr4.fa.gz\", \n",
    "                   threads=4)\n",
    "C.market_basket()"
   ]
  },
  {
   "cell_type": "code",
   "execution_count": 2,
   "id": "22a538eb",
   "metadata": {},
   "outputs": [
    {
     "data": {
      "text/html": [
       "<div>\n",
       "<style scoped>\n",
       "    .dataframe tbody tr th:only-of-type {\n",
       "        vertical-align: middle;\n",
       "    }\n",
       "\n",
       "    .dataframe tbody tr th {\n",
       "        vertical-align: top;\n",
       "    }\n",
       "\n",
       "    .dataframe thead th {\n",
       "        text-align: right;\n",
       "    }\n",
       "</style>\n",
       "<table border=\"1\" class=\"dataframe\">\n",
       "  <thead>\n",
       "    <tr style=\"text-align: right;\">\n",
       "      <th></th>\n",
       "      <th>TF1</th>\n",
       "      <th>TF2</th>\n",
       "      <th>TF1_TF2_count</th>\n",
       "      <th>TF1_count</th>\n",
       "      <th>TF2_count</th>\n",
       "      <th>cosine</th>\n",
       "      <th>zscore</th>\n",
       "    </tr>\n",
       "  </thead>\n",
       "  <tbody>\n",
       "    <tr>\n",
       "      <th>POU3F2-SMARCA5</th>\n",
       "      <td>POU3F2</td>\n",
       "      <td>SMARCA5</td>\n",
       "      <td>239</td>\n",
       "      <td>302</td>\n",
       "      <td>241</td>\n",
       "      <td>0.885902</td>\n",
       "      <td>129.586528</td>\n",
       "    </tr>\n",
       "    <tr>\n",
       "      <th>SMARCA5-POU3F2</th>\n",
       "      <td>SMARCA5</td>\n",
       "      <td>POU3F2</td>\n",
       "      <td>239</td>\n",
       "      <td>241</td>\n",
       "      <td>302</td>\n",
       "      <td>0.885902</td>\n",
       "      <td>129.586528</td>\n",
       "    </tr>\n",
       "    <tr>\n",
       "      <th>POU2F1-SMARCA5</th>\n",
       "      <td>POU2F1</td>\n",
       "      <td>SMARCA5</td>\n",
       "      <td>263</td>\n",
       "      <td>426</td>\n",
       "      <td>241</td>\n",
       "      <td>0.820810</td>\n",
       "      <td>135.355691</td>\n",
       "    </tr>\n",
       "    <tr>\n",
       "      <th>SMARCA5-POU2F1</th>\n",
       "      <td>SMARCA5</td>\n",
       "      <td>POU2F1</td>\n",
       "      <td>263</td>\n",
       "      <td>241</td>\n",
       "      <td>426</td>\n",
       "      <td>0.820810</td>\n",
       "      <td>135.355691</td>\n",
       "    </tr>\n",
       "    <tr>\n",
       "      <th>SMARCA5-ZNF582</th>\n",
       "      <td>SMARCA5</td>\n",
       "      <td>ZNF582</td>\n",
       "      <td>172</td>\n",
       "      <td>241</td>\n",
       "      <td>195</td>\n",
       "      <td>0.793419</td>\n",
       "      <td>117.370387</td>\n",
       "    </tr>\n",
       "  </tbody>\n",
       "</table>\n",
       "</div>"
      ],
      "text/plain": [
       "                    TF1      TF2  TF1_TF2_count  TF1_count  TF2_count  \\\n",
       "POU3F2-SMARCA5   POU3F2  SMARCA5            239        302        241   \n",
       "SMARCA5-POU3F2  SMARCA5   POU3F2            239        241        302   \n",
       "POU2F1-SMARCA5   POU2F1  SMARCA5            263        426        241   \n",
       "SMARCA5-POU2F1  SMARCA5   POU2F1            263        241        426   \n",
       "SMARCA5-ZNF582  SMARCA5   ZNF582            172        241        195   \n",
       "\n",
       "                  cosine      zscore  \n",
       "POU3F2-SMARCA5  0.885902  129.586528  \n",
       "SMARCA5-POU3F2  0.885902  129.586528  \n",
       "POU2F1-SMARCA5  0.820810  135.355691  \n",
       "SMARCA5-POU2F1  0.820810  135.355691  \n",
       "SMARCA5-ZNF582  0.793419  117.370387  "
      ]
     },
     "execution_count": 2,
     "metadata": {},
     "output_type": "execute_result"
    }
   ],
   "source": [
    "C.rules.head()"
   ]
  },
  {
   "cell_type": "markdown",
   "id": "e903babf",
   "metadata": {},
   "source": [
    "## Getting locations for a selected TF-TF pair"
   ]
  },
  {
   "cell_type": "markdown",
   "id": "4e7b2f58",
   "metadata": {},
   "source": [
    "We choose the highest ranking TF pair from the .rules:"
   ]
  },
  {
   "cell_type": "code",
   "execution_count": 3,
   "id": "647330d8",
   "metadata": {},
   "outputs": [
    {
     "data": {
      "text/plain": [
       "('POU3F2', 'SMARCA5')"
      ]
     },
     "execution_count": 3,
     "metadata": {},
     "output_type": "execute_result"
    }
   ],
   "source": [
    "TF1, TF2 = C.rules.iloc[0, [0,1]]\n",
    "TF1, TF2"
   ]
  },
  {
   "cell_type": "markdown",
   "id": "b5e95e27",
   "metadata": {},
   "source": [
    "We can now apply _get_pair_locations()_ to get the locations of the TF-TF pairs"
   ]
  },
  {
   "cell_type": "code",
   "execution_count": 4,
   "id": "e714e3a3",
   "metadata": {},
   "outputs": [],
   "source": [
    "pairs = C.get_pair_locations((TF1, TF2))"
   ]
  },
  {
   "cell_type": "code",
   "execution_count": 5,
   "id": "110afaad",
   "metadata": {},
   "outputs": [
    {
     "data": {
      "text/plain": [
       "TFBSPairList([<TFBSPair | TFBS1: (chr4,49092715,49092730,SMARCA5,13.72436,-) | TFBS2: (chr4,49092743,49092775,POU3F2,11.25323,+) | distance: 13 | orientation: divergent >, <TFBSPair | TFBS1: (chr4,49092715,49092730,SMARCA5,13.72436,-) | TFBS2: (chr4,49092788,49092865,POU3F2,11.46462,+) | distance: 58 | orientation: divergent >, <TFBSPair | TFBS1: (chr4,49092743,49092775,POU3F2,11.25323,+) | TFBS2: (chr4,49092785,49092880,SMARCA5,15.00425,-) | distance: 10 | orientation: convergent >, <TFBSPair | TFBS1: (chr4,49092745,49092780,SMARCA5,11.81125,-) | TFBS2: (chr4,49092788,49092865,POU3F2,11.46462,+) | distance: 8 | orientation: divergent >, <TFBSPair | TFBS1: (chr4,49092785,49092880,SMARCA5,15.00425,-) | TFBS2: (chr4,49092893,49092930,POU3F2,11.46462,+) | distance: 13 | orientation: divergent >, <TFBSPair | TFBS1: (chr4,49092788,49092865,POU3F2,11.46462,+) | TFBS2: (chr4,49092885,49092930,SMARCA5,12.69622,-) | distance: 20 | orientation: convergent >, <TFBSPair | TFBS1: (chr4,49096721,49096746,SMARCA5,12.97124,-) | TFBS2: (chr4,49096779,49096836,POU3F2,11.46462,+) | distance: 33 | orientation: divergent >, <TFBSPair | TFBS1: (chr4,49096721,49096746,SMARCA5,12.97124,-) | TFBS2: (chr4,49096839,49096896,POU3F2,11.63189,+) | distance: 93 | orientation: divergent >, <TFBSPair | TFBS1: (chr4,49096744,49096761,POU3F2,10.58175,+) | TFBS2: (chr4,49096771,49096836,SMARCA5,13.02056,-) | distance: 10 | orientation: convergent >, <TFBSPair | TFBS1: (chr4,49096744,49096761,POU3F2,10.58175,+) | TFBS2: (chr4,49096841,49096916,SMARCA5,13.70506,-) | distance: 80 | orientation: convergent >])"
      ]
     },
     "execution_count": 5,
     "metadata": {},
     "output_type": "execute_result"
    }
   ],
   "source": [
    "pairs[:10]"
   ]
  },
  {
   "cell_type": "markdown",
   "id": "0f6905be",
   "metadata": {},
   "source": [
    "We can write these locations to a file:"
   ]
  },
  {
   "cell_type": "code",
   "execution_count": 6,
   "id": "084dcdeb",
   "metadata": {},
   "outputs": [
    {
     "data": {
      "text/html": [
       "<div>\n",
       "<style scoped>\n",
       "    .dataframe tbody tr th:only-of-type {\n",
       "        vertical-align: middle;\n",
       "    }\n",
       "\n",
       "    .dataframe tbody tr th {\n",
       "        vertical-align: top;\n",
       "    }\n",
       "\n",
       "    .dataframe thead th {\n",
       "        text-align: right;\n",
       "    }\n",
       "</style>\n",
       "<table border=\"1\" class=\"dataframe\">\n",
       "  <thead>\n",
       "    <tr style=\"text-align: right;\">\n",
       "      <th></th>\n",
       "      <th>0</th>\n",
       "      <th>1</th>\n",
       "      <th>2</th>\n",
       "      <th>3</th>\n",
       "      <th>4</th>\n",
       "      <th>5</th>\n",
       "    </tr>\n",
       "  </thead>\n",
       "  <tbody>\n",
       "    <tr>\n",
       "      <th>0</th>\n",
       "      <td>chr4</td>\n",
       "      <td>49092715</td>\n",
       "      <td>49092730</td>\n",
       "      <td>SMARCA5</td>\n",
       "      <td>.</td>\n",
       "      <td>-</td>\n",
       "    </tr>\n",
       "    <tr>\n",
       "      <th>1</th>\n",
       "      <td>chr4</td>\n",
       "      <td>49092743</td>\n",
       "      <td>49092775</td>\n",
       "      <td>POU3F2</td>\n",
       "      <td>.</td>\n",
       "      <td>+</td>\n",
       "    </tr>\n",
       "    <tr>\n",
       "      <th>2</th>\n",
       "      <td>chr4</td>\n",
       "      <td>49092715</td>\n",
       "      <td>49092730</td>\n",
       "      <td>SMARCA5</td>\n",
       "      <td>.</td>\n",
       "      <td>-</td>\n",
       "    </tr>\n",
       "    <tr>\n",
       "      <th>3</th>\n",
       "      <td>chr4</td>\n",
       "      <td>49092788</td>\n",
       "      <td>49092865</td>\n",
       "      <td>POU3F2</td>\n",
       "      <td>.</td>\n",
       "      <td>+</td>\n",
       "    </tr>\n",
       "    <tr>\n",
       "      <th>4</th>\n",
       "      <td>chr4</td>\n",
       "      <td>49092743</td>\n",
       "      <td>49092775</td>\n",
       "      <td>POU3F2</td>\n",
       "      <td>.</td>\n",
       "      <td>+</td>\n",
       "    </tr>\n",
       "  </tbody>\n",
       "</table>\n",
       "</div>"
      ],
      "text/plain": [
       "      0         1         2        3  4  5\n",
       "0  chr4  49092715  49092730  SMARCA5  .  -\n",
       "1  chr4  49092743  49092775   POU3F2  .  +\n",
       "2  chr4  49092715  49092730  SMARCA5  .  -\n",
       "3  chr4  49092788  49092865   POU3F2  .  +\n",
       "4  chr4  49092743  49092775   POU3F2  .  +"
      ]
     },
     "execution_count": 6,
     "metadata": {},
     "output_type": "execute_result"
    }
   ],
   "source": [
    "pairs.write_bed(\"TFBS_pair_positions.bed\", fmt=\"bed\")\n",
    "\n",
    "#show the content of file\n",
    "import pandas as pd\n",
    "pd.read_csv(\"TFBS_pair_positions.bed\", sep=\"\\t\", header=None, nrows=5) "
   ]
  },
  {
   "cell_type": "markdown",
   "id": "3bc69c0a",
   "metadata": {},
   "source": [
    "The pairs can also be written out as 'bedpe' format, which contains the positions of both sites:"
   ]
  },
  {
   "cell_type": "code",
   "execution_count": 7,
   "id": "a9835bff",
   "metadata": {},
   "outputs": [
    {
     "data": {
      "text/html": [
       "<div>\n",
       "<style scoped>\n",
       "    .dataframe tbody tr th:only-of-type {\n",
       "        vertical-align: middle;\n",
       "    }\n",
       "\n",
       "    .dataframe tbody tr th {\n",
       "        vertical-align: top;\n",
       "    }\n",
       "\n",
       "    .dataframe thead th {\n",
       "        text-align: right;\n",
       "    }\n",
       "</style>\n",
       "<table border=\"1\" class=\"dataframe\">\n",
       "  <thead>\n",
       "    <tr style=\"text-align: right;\">\n",
       "      <th></th>\n",
       "      <th>0</th>\n",
       "      <th>1</th>\n",
       "      <th>2</th>\n",
       "      <th>3</th>\n",
       "      <th>4</th>\n",
       "      <th>5</th>\n",
       "      <th>6</th>\n",
       "      <th>7</th>\n",
       "      <th>8</th>\n",
       "      <th>9</th>\n",
       "    </tr>\n",
       "  </thead>\n",
       "  <tbody>\n",
       "    <tr>\n",
       "      <th>0</th>\n",
       "      <td>chr4</td>\n",
       "      <td>49092715</td>\n",
       "      <td>49092730</td>\n",
       "      <td>chr4</td>\n",
       "      <td>49092743</td>\n",
       "      <td>49092775</td>\n",
       "      <td>SMARCA5-POU3F2</td>\n",
       "      <td>13</td>\n",
       "      <td>-</td>\n",
       "      <td>+</td>\n",
       "    </tr>\n",
       "    <tr>\n",
       "      <th>1</th>\n",
       "      <td>chr4</td>\n",
       "      <td>49092715</td>\n",
       "      <td>49092730</td>\n",
       "      <td>chr4</td>\n",
       "      <td>49092788</td>\n",
       "      <td>49092865</td>\n",
       "      <td>SMARCA5-POU3F2</td>\n",
       "      <td>58</td>\n",
       "      <td>-</td>\n",
       "      <td>+</td>\n",
       "    </tr>\n",
       "    <tr>\n",
       "      <th>2</th>\n",
       "      <td>chr4</td>\n",
       "      <td>49092743</td>\n",
       "      <td>49092775</td>\n",
       "      <td>chr4</td>\n",
       "      <td>49092785</td>\n",
       "      <td>49092880</td>\n",
       "      <td>POU3F2-SMARCA5</td>\n",
       "      <td>10</td>\n",
       "      <td>+</td>\n",
       "      <td>-</td>\n",
       "    </tr>\n",
       "    <tr>\n",
       "      <th>3</th>\n",
       "      <td>chr4</td>\n",
       "      <td>49092745</td>\n",
       "      <td>49092780</td>\n",
       "      <td>chr4</td>\n",
       "      <td>49092788</td>\n",
       "      <td>49092865</td>\n",
       "      <td>SMARCA5-POU3F2</td>\n",
       "      <td>8</td>\n",
       "      <td>-</td>\n",
       "      <td>+</td>\n",
       "    </tr>\n",
       "    <tr>\n",
       "      <th>4</th>\n",
       "      <td>chr4</td>\n",
       "      <td>49092785</td>\n",
       "      <td>49092880</td>\n",
       "      <td>chr4</td>\n",
       "      <td>49092893</td>\n",
       "      <td>49092930</td>\n",
       "      <td>SMARCA5-POU3F2</td>\n",
       "      <td>13</td>\n",
       "      <td>-</td>\n",
       "      <td>+</td>\n",
       "    </tr>\n",
       "  </tbody>\n",
       "</table>\n",
       "</div>"
      ],
      "text/plain": [
       "      0         1         2     3         4         5               6   7  8  \\\n",
       "0  chr4  49092715  49092730  chr4  49092743  49092775  SMARCA5-POU3F2  13  -   \n",
       "1  chr4  49092715  49092730  chr4  49092788  49092865  SMARCA5-POU3F2  58  -   \n",
       "2  chr4  49092743  49092775  chr4  49092785  49092880  POU3F2-SMARCA5  10  +   \n",
       "3  chr4  49092745  49092780  chr4  49092788  49092865  SMARCA5-POU3F2   8  -   \n",
       "4  chr4  49092785  49092880  chr4  49092893  49092930  SMARCA5-POU3F2  13  -   \n",
       "\n",
       "   9  \n",
       "0  +  \n",
       "1  +  \n",
       "2  -  \n",
       "3  +  \n",
       "4  +  "
      ]
     },
     "execution_count": 7,
     "metadata": {},
     "output_type": "execute_result"
    }
   ],
   "source": [
    "pairs.write_bed(\"TFBS_pair_positions.bedpe\", fmt=\"bedpe\")\n",
    "\n",
    "pd.read_csv(\"TFBS_pair_positions.bedpe\", sep=\"\\t\", header=None, nrows=5)"
   ]
  }
 ],
 "metadata": {
  "language_info": {
   "name": "python"
  }
 },
 "nbformat": 4,
 "nbformat_minor": 5
}
