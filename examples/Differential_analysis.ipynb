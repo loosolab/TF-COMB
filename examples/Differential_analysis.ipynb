{
 "cells": [
  {
   "cell_type": "markdown",
   "metadata": {},
   "source": [
    "# Differential analysis"
   ]
  },
  {
   "cell_type": "markdown",
   "metadata": {},
   "source": [
    "This notebook shows how to create a differential analysis based on two CombObj's (A and B) from two different cell types."
   ]
  },
  {
   "cell_type": "code",
   "execution_count": 1,
   "metadata": {},
   "outputs": [],
   "source": [
    "import tfcomb.objects"
   ]
  },
  {
   "cell_type": "markdown",
   "metadata": {},
   "source": [
    "## Prepare GM12878 CombObj"
   ]
  },
  {
   "cell_type": "code",
   "execution_count": 2,
   "metadata": {},
   "outputs": [],
   "source": [
    "A = tfcomb.objects.CombObj(verbosity=0)\n",
    "A.prefix = \"GM12878\"\n",
    "A.TFBS_from_motifs(regions = \"../data/GM12878_enhancers_chr1.bed\", \n",
    "                   motifs = \"../data/HOCOMOCOv11_HUMAN_motifs.txt\",\n",
    "                   genome = \"../data/hg38_chr1.fa.gz\", \n",
    "                   threads = 4)\n",
    "A.count_within()\n",
    "A.market_basket()"
   ]
  },
  {
   "cell_type": "markdown",
   "metadata": {},
   "source": [
    "## Prepare CD4+ CombObj"
   ]
  },
  {
   "cell_type": "code",
   "execution_count": 3,
   "metadata": {},
   "outputs": [],
   "source": [
    "B = tfcomb.objects.CombObj(verbosity=0)\n",
    "B.prefix = \"CD4+\"\n",
    "B.TFBS_from_motifs(regions = \"../data/CD4+_enhancers_chr1.bed\", \n",
    "                   motifs = \"../data/HOCOMOCOv11_HUMAN_motifs.txt\",\n",
    "                   genome = \"../data/hg38_chr1.fa.gz\", \n",
    "                   threads = 4)\n",
    "B.count_within()\n",
    "B.market_basket()"
   ]
  },
  {
   "cell_type": "markdown",
   "metadata": {},
   "source": [
    "## Compare two CombObj's"
   ]
  },
  {
   "cell_type": "code",
   "execution_count": 4,
   "metadata": {},
   "outputs": [
    {
     "name": "stderr",
     "output_type": "stream",
     "text": [
      "/home/mbentse/.local/lib/python3.7/site-packages/pandas/core/frame.py:4449: SettingWithCopyWarning: \n",
      "A value is trying to be set on a copy of a slice from a DataFrame\n",
      "\n",
      "See the caveats in the documentation: https://pandas.pydata.org/pandas-docs/stable/user_guide/indexing.html#returning-a-view-versus-a-copy\n",
      "  errors=errors,\n"
     ]
    }
   ],
   "source": [
    "compare_obj = A.compare(B)"
   ]
  },
  {
   "cell_type": "code",
   "execution_count": 8,
   "metadata": {},
   "outputs": [
    {
     "data": {
      "text/html": [
       "<div>\n",
       "<style scoped>\n",
       "    .dataframe tbody tr th:only-of-type {\n",
       "        vertical-align: middle;\n",
       "    }\n",
       "\n",
       "    .dataframe tbody tr th {\n",
       "        vertical-align: top;\n",
       "    }\n",
       "\n",
       "    .dataframe thead th {\n",
       "        text-align: right;\n",
       "    }\n",
       "</style>\n",
       "<table border=\"1\" class=\"dataframe\">\n",
       "  <thead>\n",
       "    <tr style=\"text-align: right;\">\n",
       "      <th></th>\n",
       "      <th>TF1</th>\n",
       "      <th>TF2</th>\n",
       "      <th>GM12878_confidence</th>\n",
       "      <th>GM12878_lift</th>\n",
       "      <th>GM12878_cosine</th>\n",
       "      <th>CD4+_confidence</th>\n",
       "      <th>CD4+_lift</th>\n",
       "      <th>CD4+_cosine</th>\n",
       "      <th>GM12878_cosine_norm</th>\n",
       "      <th>CD4+_cosine_norm</th>\n",
       "      <th>GM12878_CD4+_cosine_log2fc</th>\n",
       "      <th>GM12878_CD4+_cosine_pvalue</th>\n",
       "    </tr>\n",
       "  </thead>\n",
       "  <tbody>\n",
       "    <tr>\n",
       "      <th>90791</th>\n",
       "      <td>ZNF502</td>\n",
       "      <td>ZNF502</td>\n",
       "      <td>0.069971</td>\n",
       "      <td>36.902583</td>\n",
       "      <td>0.069971</td>\n",
       "      <td>5.563559</td>\n",
       "      <td>920.674770</td>\n",
       "      <td>5.563559</td>\n",
       "      <td>0.067648</td>\n",
       "      <td>3.407892</td>\n",
       "      <td>-2.045653</td>\n",
       "      <td>2.299075e-08</td>\n",
       "    </tr>\n",
       "    <tr>\n",
       "      <th>38990</th>\n",
       "      <td>ZNF502</td>\n",
       "      <td>ZNF214</td>\n",
       "      <td>0.119534</td>\n",
       "      <td>59.404879</td>\n",
       "      <td>0.116034</td>\n",
       "      <td>5.313559</td>\n",
       "      <td>1061.461615</td>\n",
       "      <td>5.838055</td>\n",
       "      <td>0.117982</td>\n",
       "      <td>3.602976</td>\n",
       "      <td>-2.041670</td>\n",
       "      <td>1.430282e-08</td>\n",
       "    </tr>\n",
       "    <tr>\n",
       "      <th>38991</th>\n",
       "      <td>ZNF214</td>\n",
       "      <td>ZNF502</td>\n",
       "      <td>0.112637</td>\n",
       "      <td>59.404879</td>\n",
       "      <td>0.116034</td>\n",
       "      <td>6.414322</td>\n",
       "      <td>1061.461615</td>\n",
       "      <td>5.838055</td>\n",
       "      <td>0.117982</td>\n",
       "      <td>3.602976</td>\n",
       "      <td>-2.041670</td>\n",
       "      <td>1.430282e-08</td>\n",
       "    </tr>\n",
       "    <tr>\n",
       "      <th>10922</th>\n",
       "      <td>POU2F1</td>\n",
       "      <td>ZNF502</td>\n",
       "      <td>0.178174</td>\n",
       "      <td>93.968716</td>\n",
       "      <td>0.203854</td>\n",
       "      <td>6.269767</td>\n",
       "      <td>1037.540244</td>\n",
       "      <td>5.984318</td>\n",
       "      <td>0.222439</td>\n",
       "      <td>3.769120</td>\n",
       "      <td>-1.963961</td>\n",
       "      <td>5.105422e-08</td>\n",
       "    </tr>\n",
       "    <tr>\n",
       "      <th>10921</th>\n",
       "      <td>ZNF502</td>\n",
       "      <td>POU2F1</td>\n",
       "      <td>0.233236</td>\n",
       "      <td>93.968716</td>\n",
       "      <td>0.203854</td>\n",
       "      <td>5.711864</td>\n",
       "      <td>1037.540244</td>\n",
       "      <td>5.984318</td>\n",
       "      <td>0.222439</td>\n",
       "      <td>3.769120</td>\n",
       "      <td>-1.963961</td>\n",
       "      <td>5.105422e-08</td>\n",
       "    </tr>\n",
       "    <tr>\n",
       "      <th>...</th>\n",
       "      <td>...</td>\n",
       "      <td>...</td>\n",
       "      <td>...</td>\n",
       "      <td>...</td>\n",
       "      <td>...</td>\n",
       "      <td>...</td>\n",
       "      <td>...</td>\n",
       "      <td>...</td>\n",
       "      <td>...</td>\n",
       "      <td>...</td>\n",
       "      <td>...</td>\n",
       "      <td>...</td>\n",
       "    </tr>\n",
       "    <tr>\n",
       "      <th>6</th>\n",
       "      <td>ZNF467</td>\n",
       "      <td>VEZF1</td>\n",
       "      <td>1.226676</td>\n",
       "      <td>153.885724</td>\n",
       "      <td>1.228801</td>\n",
       "      <td>1.440237</td>\n",
       "      <td>133.762196</td>\n",
       "      <td>1.443658</td>\n",
       "      <td>3.348656</td>\n",
       "      <td>1.079427</td>\n",
       "      <td>1.064383</td>\n",
       "      <td>7.406184e-17</td>\n",
       "    </tr>\n",
       "    <tr>\n",
       "      <th>26</th>\n",
       "      <td>ZNF770</td>\n",
       "      <td>PAX5</td>\n",
       "      <td>0.796498</td>\n",
       "      <td>136.573338</td>\n",
       "      <td>1.127219</td>\n",
       "      <td>0.648871</td>\n",
       "      <td>121.248774</td>\n",
       "      <td>0.990489</td>\n",
       "      <td>2.823773</td>\n",
       "      <td>0.773814</td>\n",
       "      <td>1.108142</td>\n",
       "      <td>1.063118e-26</td>\n",
       "    </tr>\n",
       "    <tr>\n",
       "      <th>27</th>\n",
       "      <td>PAX5</td>\n",
       "      <td>ZNF770</td>\n",
       "      <td>1.595261</td>\n",
       "      <td>136.573338</td>\n",
       "      <td>1.127219</td>\n",
       "      <td>1.511962</td>\n",
       "      <td>121.248774</td>\n",
       "      <td>0.990489</td>\n",
       "      <td>2.823773</td>\n",
       "      <td>0.773814</td>\n",
       "      <td>1.108142</td>\n",
       "      <td>1.063118e-26</td>\n",
       "    </tr>\n",
       "    <tr>\n",
       "      <th>28</th>\n",
       "      <td>ZNF770</td>\n",
       "      <td>ZNF121</td>\n",
       "      <td>0.816848</td>\n",
       "      <td>132.763868</td>\n",
       "      <td>1.125495</td>\n",
       "      <td>0.581109</td>\n",
       "      <td>118.509787</td>\n",
       "      <td>0.926697</td>\n",
       "      <td>2.800936</td>\n",
       "      <td>0.734709</td>\n",
       "      <td>1.131661</td>\n",
       "      <td>2.203518e-28</td>\n",
       "    </tr>\n",
       "    <tr>\n",
       "      <th>29</th>\n",
       "      <td>ZNF121</td>\n",
       "      <td>ZNF770</td>\n",
       "      <td>1.550764</td>\n",
       "      <td>132.763868</td>\n",
       "      <td>1.125495</td>\n",
       "      <td>1.477807</td>\n",
       "      <td>118.509787</td>\n",
       "      <td>0.926697</td>\n",
       "      <td>2.800936</td>\n",
       "      <td>0.734709</td>\n",
       "      <td>1.131661</td>\n",
       "      <td>2.203518e-28</td>\n",
       "    </tr>\n",
       "  </tbody>\n",
       "</table>\n",
       "<p>160191 rows × 12 columns</p>\n",
       "</div>"
      ],
      "text/plain": [
       "          TF1     TF2  GM12878_confidence  GM12878_lift  GM12878_cosine  \\\n",
       "90791  ZNF502  ZNF502            0.069971     36.902583        0.069971   \n",
       "38990  ZNF502  ZNF214            0.119534     59.404879        0.116034   \n",
       "38991  ZNF214  ZNF502            0.112637     59.404879        0.116034   \n",
       "10922  POU2F1  ZNF502            0.178174     93.968716        0.203854   \n",
       "10921  ZNF502  POU2F1            0.233236     93.968716        0.203854   \n",
       "...       ...     ...                 ...           ...             ...   \n",
       "6      ZNF467   VEZF1            1.226676    153.885724        1.228801   \n",
       "26     ZNF770    PAX5            0.796498    136.573338        1.127219   \n",
       "27       PAX5  ZNF770            1.595261    136.573338        1.127219   \n",
       "28     ZNF770  ZNF121            0.816848    132.763868        1.125495   \n",
       "29     ZNF121  ZNF770            1.550764    132.763868        1.125495   \n",
       "\n",
       "       CD4+_confidence    CD4+_lift  CD4+_cosine  GM12878_cosine_norm  \\\n",
       "90791         5.563559   920.674770     5.563559             0.067648   \n",
       "38990         5.313559  1061.461615     5.838055             0.117982   \n",
       "38991         6.414322  1061.461615     5.838055             0.117982   \n",
       "10922         6.269767  1037.540244     5.984318             0.222439   \n",
       "10921         5.711864  1037.540244     5.984318             0.222439   \n",
       "...                ...          ...          ...                  ...   \n",
       "6             1.440237   133.762196     1.443658             3.348656   \n",
       "26            0.648871   121.248774     0.990489             2.823773   \n",
       "27            1.511962   121.248774     0.990489             2.823773   \n",
       "28            0.581109   118.509787     0.926697             2.800936   \n",
       "29            1.477807   118.509787     0.926697             2.800936   \n",
       "\n",
       "       CD4+_cosine_norm  GM12878_CD4+_cosine_log2fc  \\\n",
       "90791          3.407892                   -2.045653   \n",
       "38990          3.602976                   -2.041670   \n",
       "38991          3.602976                   -2.041670   \n",
       "10922          3.769120                   -1.963961   \n",
       "10921          3.769120                   -1.963961   \n",
       "...                 ...                         ...   \n",
       "6              1.079427                    1.064383   \n",
       "26             0.773814                    1.108142   \n",
       "27             0.773814                    1.108142   \n",
       "28             0.734709                    1.131661   \n",
       "29             0.734709                    1.131661   \n",
       "\n",
       "       GM12878_CD4+_cosine_pvalue  \n",
       "90791                2.299075e-08  \n",
       "38990                1.430282e-08  \n",
       "38991                1.430282e-08  \n",
       "10922                5.105422e-08  \n",
       "10921                5.105422e-08  \n",
       "...                           ...  \n",
       "6                    7.406184e-17  \n",
       "26                   1.063118e-26  \n",
       "27                   1.063118e-26  \n",
       "28                   2.203518e-28  \n",
       "29                   2.203518e-28  \n",
       "\n",
       "[160191 rows x 12 columns]"
      ]
     },
     "execution_count": 8,
     "metadata": {},
     "output_type": "execute_result"
    }
   ],
   "source": [
    "compare_obj.rules"
   ]
  },
  {
   "cell_type": "markdown",
   "metadata": {},
   "source": [
    "## Plot differential co-occurring TFs"
   ]
  },
  {
   "cell_type": "code",
   "execution_count": 6,
   "metadata": {},
   "outputs": [
    {
     "data": {
      "image/png": "[encoded data removed]",
      "text/plain": [
       "<Figure size 504x504 with 4 Axes>"
      ]
     },
     "metadata": {
      "needs_background": "light"
     },
     "output_type": "display_data"
    }
   ],
   "source": [
    "compare_obj.plot_heatmap(color_by=\"GM12878_CD4+_cosine_log2fc\")"
   ]
  },
  {
   "cell_type": "code",
   "execution_count": 7,
   "metadata": {},
   "outputs": [
    {
     "name": "stderr",
     "output_type": "stream",
     "text": [
      "/home/mbentse/.local/lib/python3.7/site-packages/scipy/stats/stats.py:5996: RuntimeWarning: invalid value encountered in true_divide\n",
      "  terms = (f_obs.astype(np.float64) - f_exp)**2 / f_exp\n"
     ]
    },
    {
     "name": "stdout",
     "output_type": "stream",
     "text": [
      "{}\n"
     ]
    },
    {
     "ename": "TypeError",
     "evalue": "expected string or bytes-like object",
     "output_type": "error",
     "traceback": [
      "\u001b[0;31m---------------------------------------------------------------------------\u001b[0m",
      "\u001b[0;31mTypeError\u001b[0m                                 Traceback (most recent call last)",
      "\u001b[0;32m<ipython-input-7-3e261de5a821>\u001b[0m in \u001b[0;36m<module>\u001b[0;34m\u001b[0m\n\u001b[0;32m----> 1\u001b[0;31m \u001b[0mcompare_obj\u001b[0m\u001b[0;34m.\u001b[0m\u001b[0mplot_network\u001b[0m\u001b[0;34m(\u001b[0m\u001b[0mengine\u001b[0m\u001b[0;34m=\u001b[0m\u001b[0;34m\"dot\"\u001b[0m\u001b[0;34m,\u001b[0m \u001b[0mcolor_edge_by\u001b[0m\u001b[0;34m=\u001b[0m\u001b[0;34m\"GM12878_CD4+_cosine_log2fc\"\u001b[0m\u001b[0;34m)\u001b[0m\u001b[0;34m\u001b[0m\u001b[0;34m\u001b[0m\u001b[0m\n\u001b[0m",
      "\u001b[0;32m~/.conda/envs/py3/lib/python3.7/site-packages/TF_COMB-0.1.0-py3.7-linux-x86_64.egg/tfcomb/objects.py\u001b[0m in \u001b[0;36mplot_network\u001b[0;34m(self, n_rules, color_node_by, size_node_by, color_edge_by, size_edge_by, **kwargs)\u001b[0m\n\u001b[1;32m   1236\u001b[0m                 \u001b[0;31m#Plot network\u001b[0m\u001b[0;34m\u001b[0m\u001b[0;34m\u001b[0m\u001b[0;34m\u001b[0m\u001b[0m\n\u001b[1;32m   1237\u001b[0m \t\tdot = tfcomb.plotting.network(G, color_node_by=color_node_by, size_node_by=size_node_by, \n\u001b[0;32m-> 1238\u001b[0;31m \t\t\t\t\t\t\t\t\t\t color_edge_by=color_edge_by, size_edge_by=size_edge_by, **kwargs)\n\u001b[0m\u001b[1;32m   1239\u001b[0m \u001b[0;34m\u001b[0m\u001b[0m\n\u001b[1;32m   1240\u001b[0m                 \u001b[0;32mreturn\u001b[0m\u001b[0;34m(\u001b[0m\u001b[0mdot\u001b[0m\u001b[0;34m)\u001b[0m\u001b[0;34m\u001b[0m\u001b[0;34m\u001b[0m\u001b[0m\n",
      "\u001b[0;32m~/.conda/envs/py3/lib/python3.7/site-packages/TF_COMB-0.1.0-py3.7-linux-x86_64.egg/tfcomb/plotting.py\u001b[0m in \u001b[0;36mnetwork\u001b[0;34m(network, color_node_by, color_edge_by, size_node_by, size_edge_by, engine, size, save)\u001b[0m\n\u001b[1;32m    387\u001b[0m                 \u001b[0;31m#After collecting all attributes; add node with attribute dict\u001b[0m\u001b[0;34m\u001b[0m\u001b[0;34m\u001b[0m\u001b[0;34m\u001b[0m\u001b[0m\n\u001b[1;32m    388\u001b[0m                 \u001b[0mprint\u001b[0m\u001b[0;34m(\u001b[0m\u001b[0mattributes\u001b[0m\u001b[0;34m)\u001b[0m\u001b[0;34m\u001b[0m\u001b[0;34m\u001b[0m\u001b[0m\n\u001b[0;32m--> 389\u001b[0;31m                 \u001b[0mdot\u001b[0m\u001b[0;34m.\u001b[0m\u001b[0mnode\u001b[0m\u001b[0;34m(\u001b[0m\u001b[0mnode_name\u001b[0m\u001b[0;34m,\u001b[0m \u001b[0m_attributes\u001b[0m\u001b[0;34m=\u001b[0m\u001b[0mattributes\u001b[0m\u001b[0;34m)\u001b[0m\u001b[0;34m\u001b[0m\u001b[0;34m\u001b[0m\u001b[0m\n\u001b[0m\u001b[1;32m    390\u001b[0m \u001b[0;34m\u001b[0m\u001b[0m\n\u001b[1;32m    391\u001b[0m         \u001b[0;31m############### Add edges to network ###############\u001b[0m\u001b[0;34m\u001b[0m\u001b[0;34m\u001b[0m\u001b[0;34m\u001b[0m\u001b[0m\n",
      "\u001b[0;32m~/.local/lib/python3.7/site-packages/graphviz/dot.py\u001b[0m in \u001b[0;36mnode\u001b[0;34m(self, name, label, _attributes, **attrs)\u001b[0m\n\u001b[1;32m    128\u001b[0m             \u001b[0mattrs\u001b[0m\u001b[0;34m:\u001b[0m \u001b[0mAny\u001b[0m \u001b[0madditional\u001b[0m \u001b[0mnode\u001b[0m \u001b[0mattributes\u001b[0m \u001b[0;34m(\u001b[0m\u001b[0mmust\u001b[0m \u001b[0mbe\u001b[0m \u001b[0mstrings\u001b[0m\u001b[0;34m)\u001b[0m\u001b[0;34m.\u001b[0m\u001b[0;34m\u001b[0m\u001b[0;34m\u001b[0m\u001b[0m\n\u001b[1;32m    129\u001b[0m         \"\"\"\n\u001b[0;32m--> 130\u001b[0;31m         \u001b[0mname\u001b[0m \u001b[0;34m=\u001b[0m \u001b[0mself\u001b[0m\u001b[0;34m.\u001b[0m\u001b[0m_quote\u001b[0m\u001b[0;34m(\u001b[0m\u001b[0mname\u001b[0m\u001b[0;34m)\u001b[0m\u001b[0;34m\u001b[0m\u001b[0;34m\u001b[0m\u001b[0m\n\u001b[0m\u001b[1;32m    131\u001b[0m         \u001b[0mattr_list\u001b[0m \u001b[0;34m=\u001b[0m \u001b[0mself\u001b[0m\u001b[0;34m.\u001b[0m\u001b[0m_attr_list\u001b[0m\u001b[0;34m(\u001b[0m\u001b[0mlabel\u001b[0m\u001b[0;34m,\u001b[0m \u001b[0mattrs\u001b[0m\u001b[0;34m,\u001b[0m \u001b[0m_attributes\u001b[0m\u001b[0;34m)\u001b[0m\u001b[0;34m\u001b[0m\u001b[0;34m\u001b[0m\u001b[0m\n\u001b[1;32m    132\u001b[0m         \u001b[0mline\u001b[0m \u001b[0;34m=\u001b[0m \u001b[0mself\u001b[0m\u001b[0;34m.\u001b[0m\u001b[0m_node\u001b[0m \u001b[0;34m%\u001b[0m \u001b[0;34m(\u001b[0m\u001b[0mname\u001b[0m\u001b[0;34m,\u001b[0m \u001b[0mattr_list\u001b[0m\u001b[0;34m)\u001b[0m\u001b[0;34m\u001b[0m\u001b[0;34m\u001b[0m\u001b[0m\n",
      "\u001b[0;32m~/.local/lib/python3.7/site-packages/graphviz/lang.py\u001b[0m in \u001b[0;36mquote\u001b[0;34m(identifier, is_html_string, is_valid_id, dot_keywords, escape_unescaped_quotes)\u001b[0m\n\u001b[1;32m     70\u001b[0m     \u001b[0;34m\"\\\\\\\"\"\u001b[0m\u001b[0;34m\u001b[0m\u001b[0;34m\u001b[0m\u001b[0m\n\u001b[1;32m     71\u001b[0m     \"\"\"\n\u001b[0;32m---> 72\u001b[0;31m     \u001b[0;32mif\u001b[0m \u001b[0mis_html_string\u001b[0m\u001b[0;34m(\u001b[0m\u001b[0midentifier\u001b[0m\u001b[0;34m)\u001b[0m \u001b[0;32mand\u001b[0m \u001b[0;32mnot\u001b[0m \u001b[0misinstance\u001b[0m\u001b[0;34m(\u001b[0m\u001b[0midentifier\u001b[0m\u001b[0;34m,\u001b[0m \u001b[0mNoHtml\u001b[0m\u001b[0;34m)\u001b[0m\u001b[0;34m:\u001b[0m\u001b[0;34m\u001b[0m\u001b[0;34m\u001b[0m\u001b[0m\n\u001b[0m\u001b[1;32m     73\u001b[0m         \u001b[0;32mpass\u001b[0m\u001b[0;34m\u001b[0m\u001b[0;34m\u001b[0m\u001b[0m\n\u001b[1;32m     74\u001b[0m     \u001b[0;32melif\u001b[0m \u001b[0;32mnot\u001b[0m \u001b[0mis_valid_id\u001b[0m\u001b[0;34m(\u001b[0m\u001b[0midentifier\u001b[0m\u001b[0;34m)\u001b[0m \u001b[0;32mor\u001b[0m \u001b[0midentifier\u001b[0m\u001b[0;34m.\u001b[0m\u001b[0mlower\u001b[0m\u001b[0;34m(\u001b[0m\u001b[0;34m)\u001b[0m \u001b[0;32min\u001b[0m \u001b[0mdot_keywords\u001b[0m\u001b[0;34m:\u001b[0m\u001b[0;34m\u001b[0m\u001b[0;34m\u001b[0m\u001b[0m\n",
      "\u001b[0;31mTypeError\u001b[0m: expected string or bytes-like object"
     ]
    }
   ],
   "source": [
    "compare_obj.plot_network(contrast=(\"GM12878\", \"CD4+\"), \n",
    "                         measure=\"cosine\", \n",
    "                         engine=\"dot\", \n",
    "                         color_edge_by=\"GM12878_CD4+_cosine_log2fc\")"
   ]
  }
 ],
 "metadata": {
  "kernelspec": {
   "display_name": "py3",
   "language": "python",
   "name": "py3"
  },
  "language_info": {
   "codemirror_mode": {
    "name": "ipython",
    "version": 3
   },
   "file_extension": ".py",
   "mimetype": "text/x-python",
   "name": "python",
   "nbconvert_exporter": "python",
   "pygments_lexer": "ipython3",
   "version": "3.7.6"
  }
 },
 "nbformat": 4,
 "nbformat_minor": 4
}
