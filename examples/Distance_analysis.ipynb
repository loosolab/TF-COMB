{
 "cells": [
  {
   "cell_type": "markdown",
   "metadata": {},
   "source": [
    "# Binding distance analysis\n",
    "In this example notebook, a binding distance analysis will be shown and explained step by step. \\\n",
    "To start such an analysis, a market basket analysis is required first. The data used is the same as in the [TFBS from motif](./TFBS_from_motifs.ipynb).\n",
    "\n",
    "For more details on how to perform the market basket step please have a look at the [TFBS from motif](./TFBS_from_motifs.ipynb) or [ChIP-seq analysis](./chipseq_analysis.ipynb) examples.  "
   ]
  },
  {
   "cell_type": "markdown",
   "metadata": {},
   "source": [
    "## Content: \n",
    "- [Prepare object](#prep) \n",
    "- [Select rules](#Selecting-rules)\n",
    "- [Automated analysis](#Method-1:-Automated-analysis)\n",
    "- [Step-by-step:](#Method-2:-Step-by-Step-Analysis)\n",
    "    1. [Create object](#1)\n",
    "    2. [Count distances](#2)\n",
    "    3. [Smoothing counts](#3)\n",
    "    4. [Scale counts](#4)\n",
    "    5. [Correct background](#5)\n",
    "    6. [Analyse signal](#6)     \n",
    "     - [z-score](#zscore)\n",
    "     - [Flat](#flat)\n",
    "     \n",
    "     \n",
    "- [Further downstream analysis](#Further-downstream-analysis)\n",
    "    1. [Analyzing hubs](#hubs)\n",
    "    2. [Signal classification](#classification)\n",
    "        "
   ]
  },
  {
   "cell_type": "markdown",
   "metadata": {},
   "source": [
    "---------------"
   ]
  },
  {
   "cell_type": "markdown",
   "metadata": {},
   "source": [
    "<a id = prep></a>\n",
    "\n",
    "## Prepare a CombObj"
   ]
  },
  {
   "cell_type": "code",
   "execution_count": 1,
   "metadata": {},
   "outputs": [
    {
     "name": "stdout",
     "output_type": "stream",
     "text": [
      "INFO: Scanning for TFBS with 4 thread(s)...\n",
      "INFO: Progress: 11%\n",
      "INFO: Progress: 20%\n",
      "INFO: Progress: 30%\n",
      "INFO: Progress: 40%\n",
      "INFO: Progress: 50%\n",
      "INFO: Progress: 60%\n",
      "INFO: Progress: 71%\n",
      "INFO: Progress: 82%\n",
      "INFO: Progress: 91%\n",
      "INFO: Finished!\n",
      "INFO: Processing scanned TFBS\n",
      "INFO: Identified 165810 TFBS (401 unique names) within given regions\n",
      "INFO: Setting up binding sites for counting\n",
      "INFO: Counting co-occurrences within sites\n",
      "INFO: Counting co-occurrence within background\n",
      "INFO: Progress: 16%\n",
      "INFO: Progress: 20%\n",
      "INFO: Progress: 32%\n",
      "INFO: Progress: 40%\n",
      "INFO: Progress: 50%\n",
      "INFO: Progress: 62%\n",
      "INFO: Progress: 72%\n",
      "INFO: Progress: 80%\n",
      "INFO: Progress: 92%\n",
      "INFO: Finished!\n",
      "INFO: Done finding co-occurrences! Run .market_basket() to estimate significant pairs\n",
      "INFO: Market basket analysis is done! Results are found in <CombObj>.rules\n"
     ]
    },
    {
     "data": {
      "text/html": [
       "<div>\n",
       "<style scoped>\n",
       "    .dataframe tbody tr th:only-of-type {\n",
       "        vertical-align: middle;\n",
       "    }\n",
       "\n",
       "    .dataframe tbody tr th {\n",
       "        vertical-align: top;\n",
       "    }\n",
       "\n",
       "    .dataframe thead th {\n",
       "        text-align: right;\n",
       "    }\n",
       "</style>\n",
       "<table border=\"1\" class=\"dataframe\">\n",
       "  <thead>\n",
       "    <tr style=\"text-align: right;\">\n",
       "      <th></th>\n",
       "      <th>TF1</th>\n",
       "      <th>TF2</th>\n",
       "      <th>TF1_TF2_count</th>\n",
       "      <th>TF1_count</th>\n",
       "      <th>TF2_count</th>\n",
       "      <th>cosine</th>\n",
       "      <th>zscore</th>\n",
       "    </tr>\n",
       "  </thead>\n",
       "  <tbody>\n",
       "    <tr>\n",
       "      <th>POU3F2-SMARCA5</th>\n",
       "      <td>POU3F2</td>\n",
       "      <td>SMARCA5</td>\n",
       "      <td>239</td>\n",
       "      <td>302</td>\n",
       "      <td>241</td>\n",
       "      <td>0.885902</td>\n",
       "      <td>129.586528</td>\n",
       "    </tr>\n",
       "    <tr>\n",
       "      <th>SMARCA5-POU3F2</th>\n",
       "      <td>SMARCA5</td>\n",
       "      <td>POU3F2</td>\n",
       "      <td>239</td>\n",
       "      <td>241</td>\n",
       "      <td>302</td>\n",
       "      <td>0.885902</td>\n",
       "      <td>129.586528</td>\n",
       "    </tr>\n",
       "    <tr>\n",
       "      <th>POU2F1-SMARCA5</th>\n",
       "      <td>POU2F1</td>\n",
       "      <td>SMARCA5</td>\n",
       "      <td>263</td>\n",
       "      <td>426</td>\n",
       "      <td>241</td>\n",
       "      <td>0.820810</td>\n",
       "      <td>135.355691</td>\n",
       "    </tr>\n",
       "    <tr>\n",
       "      <th>SMARCA5-POU2F1</th>\n",
       "      <td>SMARCA5</td>\n",
       "      <td>POU2F1</td>\n",
       "      <td>263</td>\n",
       "      <td>241</td>\n",
       "      <td>426</td>\n",
       "      <td>0.820810</td>\n",
       "      <td>135.355691</td>\n",
       "    </tr>\n",
       "    <tr>\n",
       "      <th>SMARCA5-ZNF582</th>\n",
       "      <td>SMARCA5</td>\n",
       "      <td>ZNF582</td>\n",
       "      <td>172</td>\n",
       "      <td>241</td>\n",
       "      <td>195</td>\n",
       "      <td>0.793419</td>\n",
       "      <td>117.370387</td>\n",
       "    </tr>\n",
       "  </tbody>\n",
       "</table>\n",
       "</div>"
      ],
      "text/plain": [
       "                    TF1      TF2  TF1_TF2_count  TF1_count  TF2_count  \\\n",
       "POU3F2-SMARCA5   POU3F2  SMARCA5            239        302        241   \n",
       "SMARCA5-POU3F2  SMARCA5   POU3F2            239        241        302   \n",
       "POU2F1-SMARCA5   POU2F1  SMARCA5            263        426        241   \n",
       "SMARCA5-POU2F1  SMARCA5   POU2F1            263        241        426   \n",
       "SMARCA5-ZNF582  SMARCA5   ZNF582            172        241        195   \n",
       "\n",
       "                  cosine      zscore  \n",
       "POU3F2-SMARCA5  0.885902  129.586528  \n",
       "SMARCA5-POU3F2  0.885902  129.586528  \n",
       "POU2F1-SMARCA5  0.820810  135.355691  \n",
       "SMARCA5-POU2F1  0.820810  135.355691  \n",
       "SMARCA5-ZNF582  0.793419  117.370387  "
      ]
     },
     "execution_count": 1,
     "metadata": {},
     "output_type": "execute_result"
    }
   ],
   "source": [
    "import tfcomb.objects\n",
    "\n",
    "C = tfcomb.objects.CombObj()\n",
    "C.TFBS_from_motifs(regions=\"../data/GM12878_hg38_chr4_ATAC_peaks.bed\", \n",
    "                   motifs=\"../data/HOCOMOCOv11_HUMAN_motifs.txt\",\n",
    "                   genome=\"../data/hg38_chr4.fa.gz\", \n",
    "                   threads=4)\n",
    "C.count_within(max_overlap=0.0, threads=4)\n",
    "C.market_basket()\n",
    "C.rules.head()"
   ]
  },
  {
   "cell_type": "markdown",
   "metadata": {},
   "source": [
    "\n",
    "## Selecting rules"
   ]
  },
  {
   "cell_type": "markdown",
   "metadata": {},
   "source": [
    "Due to the way the market basket analysis is working, the C.rules result table contains entries for every transcription factor combination present in the data. \\\n",
    "For a binding analysis not all of these rules are of particular interest. In this notebook the method _.select_significant_rules()_ is used to filter rules of interest. For more details on rule selection please refer to the example notebook [Select rules](./Select_rules.ipynb).\n"
   ]
  },
  {
   "cell_type": "code",
   "execution_count": 2,
   "metadata": {},
   "outputs": [
    {
     "name": "stdout",
     "output_type": "stream",
     "text": [
      "INFO: x_threshold is None; trying to calculate optimal threshold\n",
      "INFO: y_threshold is None; trying to calculate optimal threshold\n",
      "INFO: Creating subset of TFBS and rules using thresholds\n"
     ]
    },
    {
     "data": {
      "image/png": "[encoded data removed]",
      "text/plain": [
       "<Figure size 432x432 with 3 Axes>"
      ]
     },
     "metadata": {
      "needs_background": "light"
     },
     "output_type": "display_data"
    }
   ],
   "source": [
    "selection = C.select_significant_rules()"
   ]
  },
  {
   "cell_type": "markdown",
   "metadata": {},
   "source": [
    "_______________"
   ]
  },
  {
   "cell_type": "markdown",
   "metadata": {},
   "source": [
    "<a id=\"automated\"></a>\n",
    "\n",
    "## Method 1: Automated analysis"
   ]
  },
  {
   "cell_type": "markdown",
   "metadata": {},
   "source": [
    "There are two different ways to run this analysis. The automated way will be shown in this chapter. Followed by an in depth guide showing the analysis step by step in the next chapter.\n",
    "\n",
    "Here we will start with the __automated__ analysis for __all__ selected rules.  "
   ]
  },
  {
   "cell_type": "code",
   "execution_count": 3,
   "metadata": {},
   "outputs": [
    {
     "name": "stdout",
     "output_type": "stream",
     "text": [
      "INFO: DistObject successfully created! It can be accessed via <CombObj>.distObj\n",
      "INFO: Preparing to count distances.\n",
      "INFO: Setting up binding sites for counting\n",
      "INFO: Calculating distances\n",
      "INFO: Done finding distances! Results are found in .distances\n",
      "INFO: You can now run .smooth() and/or .correct_background() to preprocess sites before finding peaks.\n",
      "INFO: Or you can find peaks directly using .analyze_signal_all()\n",
      "INFO: Smoothing signals with window size 3\n",
      "INFO: Background correction finished! Results can be found in .corrected\n",
      "INFO: Analyzing Signal with threads 6\n",
      "INFO: Calculating zscores for signals\n",
      "INFO: Finding preferred distances\n",
      "INFO: Done analyzing signal. Results are found in .peaks\n"
     ]
    }
   ],
   "source": [
    "selection.analyze_distances(threads=6) # adjust threads if needed"
   ]
  },
  {
   "cell_type": "code",
   "execution_count": 4,
   "metadata": {},
   "outputs": [
    {
     "data": {
      "text/html": [
       "<div>\n",
       "<style scoped>\n",
       "    .dataframe tbody tr th:only-of-type {\n",
       "        vertical-align: middle;\n",
       "    }\n",
       "\n",
       "    .dataframe tbody tr th {\n",
       "        vertical-align: top;\n",
       "    }\n",
       "\n",
       "    .dataframe thead th {\n",
       "        text-align: right;\n",
       "    }\n",
       "</style>\n",
       "<table border=\"1\" class=\"dataframe\">\n",
       "  <thead>\n",
       "    <tr style=\"text-align: right;\">\n",
       "      <th></th>\n",
       "      <th>TF1</th>\n",
       "      <th>TF2</th>\n",
       "      <th>Distance</th>\n",
       "      <th>Peak Heights</th>\n",
       "      <th>Prominences</th>\n",
       "      <th>Threshold</th>\n",
       "      <th>TF1_TF2_count</th>\n",
       "      <th>Distance_count</th>\n",
       "      <th>Distance_percent</th>\n",
       "      <th>Distance_window</th>\n",
       "    </tr>\n",
       "  </thead>\n",
       "  <tbody>\n",
       "    <tr>\n",
       "      <th>ZNF121-ZNF770</th>\n",
       "      <td>ZNF121</td>\n",
       "      <td>ZNF770</td>\n",
       "      <td>26</td>\n",
       "      <td>4.043651</td>\n",
       "      <td>4.443567</td>\n",
       "      <td>2</td>\n",
       "      <td>1319</td>\n",
       "      <td>381</td>\n",
       "      <td>28.885519</td>\n",
       "      <td>[25;27]</td>\n",
       "    </tr>\n",
       "    <tr>\n",
       "      <th>ZNF121-ZNF770</th>\n",
       "      <td>ZNF121</td>\n",
       "      <td>ZNF770</td>\n",
       "      <td>58</td>\n",
       "      <td>3.906961</td>\n",
       "      <td>4.353073</td>\n",
       "      <td>2</td>\n",
       "      <td>1319</td>\n",
       "      <td>376</td>\n",
       "      <td>28.506444</td>\n",
       "      <td>[57;59]</td>\n",
       "    </tr>\n",
       "    <tr>\n",
       "      <th>ZNF121-ZNF770</th>\n",
       "      <td>ZNF121</td>\n",
       "      <td>ZNF770</td>\n",
       "      <td>66</td>\n",
       "      <td>2.068096</td>\n",
       "      <td>2.270661</td>\n",
       "      <td>2</td>\n",
       "      <td>1319</td>\n",
       "      <td>220</td>\n",
       "      <td>16.679303</td>\n",
       "      <td>[65;67]</td>\n",
       "    </tr>\n",
       "  </tbody>\n",
       "</table>\n",
       "</div>"
      ],
      "text/plain": [
       "                  TF1     TF2  Distance  Peak Heights  Prominences  Threshold  \\\n",
       "ZNF121-ZNF770  ZNF121  ZNF770        26      4.043651     4.443567          2   \n",
       "ZNF121-ZNF770  ZNF121  ZNF770        58      3.906961     4.353073          2   \n",
       "ZNF121-ZNF770  ZNF121  ZNF770        66      2.068096     2.270661          2   \n",
       "\n",
       "               TF1_TF2_count  Distance_count  Distance_percent Distance_window  \n",
       "ZNF121-ZNF770           1319             381         28.885519         [25;27]  \n",
       "ZNF121-ZNF770           1319             376         28.506444         [57;59]  \n",
       "ZNF121-ZNF770           1319             220         16.679303         [65;67]  "
      ]
     },
     "execution_count": 4,
     "metadata": {},
     "output_type": "execute_result"
    }
   ],
   "source": [
    "selection.distObj.peaks.loc[(selection.distObj.peaks.TF1 == \"ZNF121\") & (selection.distObj.peaks.TF2 == \"ZNF770\")]"
   ]
  },
  {
   "cell_type": "code",
   "execution_count": 5,
   "metadata": {},
   "outputs": [
    {
     "data": {
      "image/png": "[encoded data removed]",
      "text/plain": [
       "<Figure size 432x288 with 1 Axes>"
      ]
     },
     "metadata": {
      "needs_background": "light"
     },
     "output_type": "display_data"
    }
   ],
   "source": [
    "_ = selection.distObj.plot((\"ZNF121\", \"ZNF770\"))"
   ]
  },
  {
   "cell_type": "markdown",
   "metadata": {},
   "source": [
    "On the __x-axis__ the distance in bp is shown. For example a distance of 100 means the anchors (depending on anchor mode, please refer to [Anchor mode](#Anchor-mode) on this topic) are 100 bp away of each other. On the __y-axis__ of the plot the calculated __zscore__ per distance is shown."
   ]
  },
  {
   "cell_type": "markdown",
   "metadata": {},
   "source": [
    "For an explaination of the results please refer to the in depth guide below."
   ]
  },
  {
   "cell_type": "markdown",
   "metadata": {},
   "source": [
    "__________________"
   ]
  },
  {
   "cell_type": "markdown",
   "metadata": {},
   "source": [
    "<a id=\"sbs\"></a>\n",
    "\n",
    "## Method 2: Step-by-Step Analysis"
   ]
  },
  {
   "cell_type": "markdown",
   "metadata": {},
   "source": [
    "Besides the automated way, the analysis can be done __step-by-step__. This chapter is an detailed guide, covering all 5 major steps."
   ]
  },
  {
   "cell_type": "markdown",
   "metadata": {},
   "source": [
    "<a id=\"1\"></a>\n",
    "\n",
    "### 1. Create a distance object"
   ]
  },
  {
   "cell_type": "markdown",
   "metadata": {},
   "source": [
    "The binding distance analysis can be started from within any _combObj_. In this example the appropiate object is called __selection__, since we only want to use __significant__ rules, not all. The analysis can also be done without pre selection."
   ]
  },
  {
   "cell_type": "code",
   "execution_count": 6,
   "metadata": {},
   "outputs": [
    {
     "name": "stdout",
     "output_type": "stream",
     "text": [
      "INFO: DistObject successfully created! It can be accessed via <CombObj>.distObj\n"
     ]
    }
   ],
   "source": [
    "selection.create_distObj()"
   ]
  },
  {
   "cell_type": "markdown",
   "metadata": {},
   "source": [
    "As stated in the information message, the distObj should be created successfully and filled with all important information to start the distance analysis. This includes parameters set for the market masket analysis. "
   ]
  },
  {
   "cell_type": "code",
   "execution_count": 7,
   "metadata": {},
   "outputs": [
    {
     "data": {
      "text/plain": [
       "<tfcomb.objects.DistObj at 0x7f87d1e6a950>"
      ]
     },
     "execution_count": 7,
     "metadata": {},
     "output_type": "execute_result"
    }
   ],
   "source": [
    "selection.distObj"
   ]
  },
  {
   "cell_type": "markdown",
   "metadata": {},
   "source": [
    "The 3792 rules (market basket results) selected earlier by _select.significant_rules()_ are automatically passed to the distance object during creation:"
   ]
  },
  {
   "cell_type": "code",
   "execution_count": 8,
   "metadata": {},
   "outputs": [
    {
     "data": {
      "text/html": [
       "<div>\n",
       "<style scoped>\n",
       "    .dataframe tbody tr th:only-of-type {\n",
       "        vertical-align: middle;\n",
       "    }\n",
       "\n",
       "    .dataframe tbody tr th {\n",
       "        vertical-align: top;\n",
       "    }\n",
       "\n",
       "    .dataframe thead th {\n",
       "        text-align: right;\n",
       "    }\n",
       "</style>\n",
       "<table border=\"1\" class=\"dataframe\">\n",
       "  <thead>\n",
       "    <tr style=\"text-align: right;\">\n",
       "      <th></th>\n",
       "      <th>TF1</th>\n",
       "      <th>TF2</th>\n",
       "      <th>TF1_TF2_count</th>\n",
       "      <th>TF1_count</th>\n",
       "      <th>TF2_count</th>\n",
       "      <th>cosine</th>\n",
       "      <th>zscore</th>\n",
       "    </tr>\n",
       "  </thead>\n",
       "  <tbody>\n",
       "    <tr>\n",
       "      <th>POU3F2-SMARCA5</th>\n",
       "      <td>POU3F2</td>\n",
       "      <td>SMARCA5</td>\n",
       "      <td>239</td>\n",
       "      <td>302</td>\n",
       "      <td>241</td>\n",
       "      <td>0.885902</td>\n",
       "      <td>129.586528</td>\n",
       "    </tr>\n",
       "    <tr>\n",
       "      <th>SMARCA5-POU3F2</th>\n",
       "      <td>SMARCA5</td>\n",
       "      <td>POU3F2</td>\n",
       "      <td>239</td>\n",
       "      <td>241</td>\n",
       "      <td>302</td>\n",
       "      <td>0.885902</td>\n",
       "      <td>129.586528</td>\n",
       "    </tr>\n",
       "    <tr>\n",
       "      <th>POU2F1-SMARCA5</th>\n",
       "      <td>POU2F1</td>\n",
       "      <td>SMARCA5</td>\n",
       "      <td>263</td>\n",
       "      <td>426</td>\n",
       "      <td>241</td>\n",
       "      <td>0.820810</td>\n",
       "      <td>135.355691</td>\n",
       "    </tr>\n",
       "    <tr>\n",
       "      <th>SMARCA5-POU2F1</th>\n",
       "      <td>SMARCA5</td>\n",
       "      <td>POU2F1</td>\n",
       "      <td>263</td>\n",
       "      <td>241</td>\n",
       "      <td>426</td>\n",
       "      <td>0.820810</td>\n",
       "      <td>135.355691</td>\n",
       "    </tr>\n",
       "    <tr>\n",
       "      <th>SMARCA5-ZNF582</th>\n",
       "      <td>SMARCA5</td>\n",
       "      <td>ZNF582</td>\n",
       "      <td>172</td>\n",
       "      <td>241</td>\n",
       "      <td>195</td>\n",
       "      <td>0.793419</td>\n",
       "      <td>117.370387</td>\n",
       "    </tr>\n",
       "    <tr>\n",
       "      <th>...</th>\n",
       "      <td>...</td>\n",
       "      <td>...</td>\n",
       "      <td>...</td>\n",
       "      <td>...</td>\n",
       "      <td>...</td>\n",
       "      <td>...</td>\n",
       "      <td>...</td>\n",
       "    </tr>\n",
       "    <tr>\n",
       "      <th>NFYB-EGR2</th>\n",
       "      <td>NFYB</td>\n",
       "      <td>EGR2</td>\n",
       "      <td>24</td>\n",
       "      <td>219</td>\n",
       "      <td>1304</td>\n",
       "      <td>0.044911</td>\n",
       "      <td>3.401991</td>\n",
       "    </tr>\n",
       "    <tr>\n",
       "      <th>MYOG-TAF1</th>\n",
       "      <td>MYOG</td>\n",
       "      <td>TAF1</td>\n",
       "      <td>23</td>\n",
       "      <td>386</td>\n",
       "      <td>681</td>\n",
       "      <td>0.044860</td>\n",
       "      <td>3.375730</td>\n",
       "    </tr>\n",
       "    <tr>\n",
       "      <th>TAF1-MYOG</th>\n",
       "      <td>TAF1</td>\n",
       "      <td>MYOG</td>\n",
       "      <td>23</td>\n",
       "      <td>681</td>\n",
       "      <td>386</td>\n",
       "      <td>0.044860</td>\n",
       "      <td>3.375730</td>\n",
       "    </tr>\n",
       "    <tr>\n",
       "      <th>ETV1-ZBTB17</th>\n",
       "      <td>ETV1</td>\n",
       "      <td>ZBTB17</td>\n",
       "      <td>20</td>\n",
       "      <td>117</td>\n",
       "      <td>1699</td>\n",
       "      <td>0.044858</td>\n",
       "      <td>3.064184</td>\n",
       "    </tr>\n",
       "    <tr>\n",
       "      <th>ZBTB17-ETV1</th>\n",
       "      <td>ZBTB17</td>\n",
       "      <td>ETV1</td>\n",
       "      <td>20</td>\n",
       "      <td>1699</td>\n",
       "      <td>117</td>\n",
       "      <td>0.044858</td>\n",
       "      <td>3.064184</td>\n",
       "    </tr>\n",
       "  </tbody>\n",
       "</table>\n",
       "<p>3778 rows × 7 columns</p>\n",
       "</div>"
      ],
      "text/plain": [
       "                    TF1      TF2  TF1_TF2_count  TF1_count  TF2_count  \\\n",
       "POU3F2-SMARCA5   POU3F2  SMARCA5            239        302        241   \n",
       "SMARCA5-POU3F2  SMARCA5   POU3F2            239        241        302   \n",
       "POU2F1-SMARCA5   POU2F1  SMARCA5            263        426        241   \n",
       "SMARCA5-POU2F1  SMARCA5   POU2F1            263        241        426   \n",
       "SMARCA5-ZNF582  SMARCA5   ZNF582            172        241        195   \n",
       "...                 ...      ...            ...        ...        ...   \n",
       "NFYB-EGR2          NFYB     EGR2             24        219       1304   \n",
       "MYOG-TAF1          MYOG     TAF1             23        386        681   \n",
       "TAF1-MYOG          TAF1     MYOG             23        681        386   \n",
       "ETV1-ZBTB17        ETV1   ZBTB17             20        117       1699   \n",
       "ZBTB17-ETV1      ZBTB17     ETV1             20       1699        117   \n",
       "\n",
       "                  cosine      zscore  \n",
       "POU3F2-SMARCA5  0.885902  129.586528  \n",
       "SMARCA5-POU3F2  0.885902  129.586528  \n",
       "POU2F1-SMARCA5  0.820810  135.355691  \n",
       "SMARCA5-POU2F1  0.820810  135.355691  \n",
       "SMARCA5-ZNF582  0.793419  117.370387  \n",
       "...                  ...         ...  \n",
       "NFYB-EGR2       0.044911    3.401991  \n",
       "MYOG-TAF1       0.044860    3.375730  \n",
       "TAF1-MYOG       0.044860    3.375730  \n",
       "ETV1-ZBTB17     0.044858    3.064184  \n",
       "ZBTB17-ETV1     0.044858    3.064184  \n",
       "\n",
       "[3778 rows x 7 columns]"
      ]
     },
     "execution_count": 8,
     "metadata": {},
     "output_type": "execute_result"
    }
   ],
   "source": [
    "selection.distObj.rules"
   ]
  },
  {
   "cell_type": "markdown",
   "metadata": {},
   "source": [
    "To unify the analysis steps between the market basket and the binding distance ones, the parameters for the: \\\n",
    "    1. _minimal distance_ \\\n",
    "    2. _maximal distance_   \\\n",
    "    3. _maximal allowed overlap_ \\\n",
    "    4. _directionality_   \\\n",
    "    5. _anchor_  \n",
    " \n",
    "will be set automatically when creating the distance object according to the values used for the _market basket analysis_ step."
   ]
  },
  {
   "cell_type": "code",
   "execution_count": 9,
   "metadata": {},
   "outputs": [
    {
     "data": {
      "text/plain": [
       "0.0"
      ]
     },
     "execution_count": 9,
     "metadata": {},
     "output_type": "execute_result"
    }
   ],
   "source": [
    "selection.distObj.max_overlap"
   ]
  },
  {
   "cell_type": "markdown",
   "metadata": {},
   "source": [
    "<a id=\"2\"></a>\n",
    "\n",
    "### 2. Distance counting"
   ]
  },
  {
   "cell_type": "markdown",
   "metadata": {},
   "source": [
    "After creating the distObj, the first step is to count the distances. This will be done with .count_distances().\n",
    "In this step it is important to decide if the directionality should be taken into account. \n",
    "\n",
    "If __directionality__ is taken into account the position of the transcription factors do matter. This means there is a difference between _TFA -> TFB_ and _TFB -> TFA_ (compare [Orientation analysis](./Orientation_analysis.ipynb) notebook). Otherwise _TFA -> TFB_ and _TFB -> TFA_ are the same.\n",
    " \n",
    "Per default the __directionality__ decision __is copied__ from the market basket step."
   ]
  },
  {
   "cell_type": "code",
   "execution_count": 10,
   "metadata": {},
   "outputs": [
    {
     "data": {
      "text/plain": [
       "False"
      ]
     },
     "execution_count": 10,
     "metadata": {},
     "output_type": "execute_result"
    }
   ],
   "source": [
    "selection.distObj.directional"
   ]
  },
  {
   "cell_type": "code",
   "execution_count": 11,
   "metadata": {},
   "outputs": [
    {
     "name": "stdout",
     "output_type": "stream",
     "text": [
      "INFO: Preparing to count distances.\n",
      "INFO: Setting up binding sites for counting\n",
      "INFO: Calculating distances\n",
      "INFO: Done finding distances! Results are found in .distances\n",
      "INFO: You can now run .smooth() and/or .correct_background() to preprocess sites before finding peaks.\n",
      "INFO: Or you can find peaks directly using .analyze_signal_all()\n"
     ]
    }
   ],
   "source": [
    "selection.distObj.count_distances()"
   ]
  },
  {
   "cell_type": "markdown",
   "metadata": {},
   "source": [
    "The resulting dataframe is constructed as followed: \n",
    "- __columns__: First the transcription factor for the pair (TF1, TF2) followed by the distances in bp\n",
    "- __rows__: each row representing one rule (pair) with the corresponding results\n",
    "\n"
   ]
  },
  {
   "cell_type": "code",
   "execution_count": 12,
   "metadata": {},
   "outputs": [
    {
     "data": {
      "text/html": [
       "<div>\n",
       "<style scoped>\n",
       "    .dataframe tbody tr th:only-of-type {\n",
       "        vertical-align: middle;\n",
       "    }\n",
       "\n",
       "    .dataframe tbody tr th {\n",
       "        vertical-align: top;\n",
       "    }\n",
       "\n",
       "    .dataframe thead th {\n",
       "        text-align: right;\n",
       "    }\n",
       "</style>\n",
       "<table border=\"1\" class=\"dataframe\">\n",
       "  <thead>\n",
       "    <tr style=\"text-align: right;\">\n",
       "      <th></th>\n",
       "      <th>TF1</th>\n",
       "      <th>TF2</th>\n",
       "      <th>0</th>\n",
       "      <th>1</th>\n",
       "      <th>2</th>\n",
       "      <th>3</th>\n",
       "      <th>4</th>\n",
       "      <th>5</th>\n",
       "      <th>6</th>\n",
       "      <th>7</th>\n",
       "      <th>...</th>\n",
       "      <th>91</th>\n",
       "      <th>92</th>\n",
       "      <th>93</th>\n",
       "      <th>94</th>\n",
       "      <th>95</th>\n",
       "      <th>96</th>\n",
       "      <th>97</th>\n",
       "      <th>98</th>\n",
       "      <th>99</th>\n",
       "      <th>100</th>\n",
       "    </tr>\n",
       "  </thead>\n",
       "  <tbody>\n",
       "    <tr>\n",
       "      <th>POU3F2-SMARCA5</th>\n",
       "      <td>POU3F2</td>\n",
       "      <td>SMARCA5</td>\n",
       "      <td>2</td>\n",
       "      <td>0</td>\n",
       "      <td>0</td>\n",
       "      <td>7</td>\n",
       "      <td>0</td>\n",
       "      <td>15</td>\n",
       "      <td>0</td>\n",
       "      <td>1</td>\n",
       "      <td>...</td>\n",
       "      <td>0</td>\n",
       "      <td>0</td>\n",
       "      <td>7</td>\n",
       "      <td>1</td>\n",
       "      <td>6</td>\n",
       "      <td>0</td>\n",
       "      <td>0</td>\n",
       "      <td>3</td>\n",
       "      <td>0</td>\n",
       "      <td>3</td>\n",
       "    </tr>\n",
       "    <tr>\n",
       "      <th>SMARCA5-POU3F2</th>\n",
       "      <td>SMARCA5</td>\n",
       "      <td>POU3F2</td>\n",
       "      <td>2</td>\n",
       "      <td>0</td>\n",
       "      <td>0</td>\n",
       "      <td>7</td>\n",
       "      <td>0</td>\n",
       "      <td>15</td>\n",
       "      <td>0</td>\n",
       "      <td>1</td>\n",
       "      <td>...</td>\n",
       "      <td>0</td>\n",
       "      <td>0</td>\n",
       "      <td>7</td>\n",
       "      <td>1</td>\n",
       "      <td>6</td>\n",
       "      <td>0</td>\n",
       "      <td>0</td>\n",
       "      <td>3</td>\n",
       "      <td>0</td>\n",
       "      <td>3</td>\n",
       "    </tr>\n",
       "    <tr>\n",
       "      <th>POU2F1-SMARCA5</th>\n",
       "      <td>POU2F1</td>\n",
       "      <td>SMARCA5</td>\n",
       "      <td>0</td>\n",
       "      <td>2</td>\n",
       "      <td>0</td>\n",
       "      <td>39</td>\n",
       "      <td>0</td>\n",
       "      <td>0</td>\n",
       "      <td>12</td>\n",
       "      <td>1</td>\n",
       "      <td>...</td>\n",
       "      <td>4</td>\n",
       "      <td>0</td>\n",
       "      <td>5</td>\n",
       "      <td>0</td>\n",
       "      <td>0</td>\n",
       "      <td>4</td>\n",
       "      <td>0</td>\n",
       "      <td>1</td>\n",
       "      <td>0</td>\n",
       "      <td>1</td>\n",
       "    </tr>\n",
       "    <tr>\n",
       "      <th>SMARCA5-POU2F1</th>\n",
       "      <td>SMARCA5</td>\n",
       "      <td>POU2F1</td>\n",
       "      <td>0</td>\n",
       "      <td>2</td>\n",
       "      <td>0</td>\n",
       "      <td>39</td>\n",
       "      <td>0</td>\n",
       "      <td>0</td>\n",
       "      <td>12</td>\n",
       "      <td>1</td>\n",
       "      <td>...</td>\n",
       "      <td>4</td>\n",
       "      <td>0</td>\n",
       "      <td>5</td>\n",
       "      <td>0</td>\n",
       "      <td>0</td>\n",
       "      <td>4</td>\n",
       "      <td>0</td>\n",
       "      <td>1</td>\n",
       "      <td>0</td>\n",
       "      <td>1</td>\n",
       "    </tr>\n",
       "    <tr>\n",
       "      <th>SMARCA5-ZNF582</th>\n",
       "      <td>SMARCA5</td>\n",
       "      <td>ZNF582</td>\n",
       "      <td>0</td>\n",
       "      <td>0</td>\n",
       "      <td>38</td>\n",
       "      <td>0</td>\n",
       "      <td>36</td>\n",
       "      <td>1</td>\n",
       "      <td>1</td>\n",
       "      <td>2</td>\n",
       "      <td>...</td>\n",
       "      <td>0</td>\n",
       "      <td>4</td>\n",
       "      <td>0</td>\n",
       "      <td>2</td>\n",
       "      <td>0</td>\n",
       "      <td>0</td>\n",
       "      <td>2</td>\n",
       "      <td>0</td>\n",
       "      <td>1</td>\n",
       "      <td>0</td>\n",
       "    </tr>\n",
       "    <tr>\n",
       "      <th>...</th>\n",
       "      <td>...</td>\n",
       "      <td>...</td>\n",
       "      <td>...</td>\n",
       "      <td>...</td>\n",
       "      <td>...</td>\n",
       "      <td>...</td>\n",
       "      <td>...</td>\n",
       "      <td>...</td>\n",
       "      <td>...</td>\n",
       "      <td>...</td>\n",
       "      <td>...</td>\n",
       "      <td>...</td>\n",
       "      <td>...</td>\n",
       "      <td>...</td>\n",
       "      <td>...</td>\n",
       "      <td>...</td>\n",
       "      <td>...</td>\n",
       "      <td>...</td>\n",
       "      <td>...</td>\n",
       "      <td>...</td>\n",
       "      <td>...</td>\n",
       "    </tr>\n",
       "    <tr>\n",
       "      <th>NFYB-EGR2</th>\n",
       "      <td>NFYB</td>\n",
       "      <td>EGR2</td>\n",
       "      <td>2</td>\n",
       "      <td>0</td>\n",
       "      <td>1</td>\n",
       "      <td>0</td>\n",
       "      <td>0</td>\n",
       "      <td>0</td>\n",
       "      <td>1</td>\n",
       "      <td>0</td>\n",
       "      <td>...</td>\n",
       "      <td>0</td>\n",
       "      <td>0</td>\n",
       "      <td>0</td>\n",
       "      <td>0</td>\n",
       "      <td>0</td>\n",
       "      <td>0</td>\n",
       "      <td>1</td>\n",
       "      <td>0</td>\n",
       "      <td>0</td>\n",
       "      <td>0</td>\n",
       "    </tr>\n",
       "    <tr>\n",
       "      <th>MYOG-TAF1</th>\n",
       "      <td>MYOG</td>\n",
       "      <td>TAF1</td>\n",
       "      <td>0</td>\n",
       "      <td>1</td>\n",
       "      <td>1</td>\n",
       "      <td>0</td>\n",
       "      <td>1</td>\n",
       "      <td>0</td>\n",
       "      <td>0</td>\n",
       "      <td>0</td>\n",
       "      <td>...</td>\n",
       "      <td>0</td>\n",
       "      <td>0</td>\n",
       "      <td>0</td>\n",
       "      <td>0</td>\n",
       "      <td>0</td>\n",
       "      <td>0</td>\n",
       "      <td>0</td>\n",
       "      <td>0</td>\n",
       "      <td>1</td>\n",
       "      <td>0</td>\n",
       "    </tr>\n",
       "    <tr>\n",
       "      <th>TAF1-MYOG</th>\n",
       "      <td>TAF1</td>\n",
       "      <td>MYOG</td>\n",
       "      <td>0</td>\n",
       "      <td>1</td>\n",
       "      <td>1</td>\n",
       "      <td>0</td>\n",
       "      <td>1</td>\n",
       "      <td>0</td>\n",
       "      <td>0</td>\n",
       "      <td>0</td>\n",
       "      <td>...</td>\n",
       "      <td>0</td>\n",
       "      <td>0</td>\n",
       "      <td>0</td>\n",
       "      <td>0</td>\n",
       "      <td>0</td>\n",
       "      <td>0</td>\n",
       "      <td>0</td>\n",
       "      <td>0</td>\n",
       "      <td>1</td>\n",
       "      <td>0</td>\n",
       "    </tr>\n",
       "    <tr>\n",
       "      <th>ETV1-ZBTB17</th>\n",
       "      <td>ETV1</td>\n",
       "      <td>ZBTB17</td>\n",
       "      <td>0</td>\n",
       "      <td>0</td>\n",
       "      <td>0</td>\n",
       "      <td>0</td>\n",
       "      <td>0</td>\n",
       "      <td>0</td>\n",
       "      <td>1</td>\n",
       "      <td>1</td>\n",
       "      <td>...</td>\n",
       "      <td>0</td>\n",
       "      <td>0</td>\n",
       "      <td>0</td>\n",
       "      <td>1</td>\n",
       "      <td>1</td>\n",
       "      <td>0</td>\n",
       "      <td>1</td>\n",
       "      <td>0</td>\n",
       "      <td>0</td>\n",
       "      <td>0</td>\n",
       "    </tr>\n",
       "    <tr>\n",
       "      <th>ZBTB17-ETV1</th>\n",
       "      <td>ZBTB17</td>\n",
       "      <td>ETV1</td>\n",
       "      <td>0</td>\n",
       "      <td>0</td>\n",
       "      <td>0</td>\n",
       "      <td>0</td>\n",
       "      <td>0</td>\n",
       "      <td>0</td>\n",
       "      <td>1</td>\n",
       "      <td>1</td>\n",
       "      <td>...</td>\n",
       "      <td>0</td>\n",
       "      <td>0</td>\n",
       "      <td>0</td>\n",
       "      <td>1</td>\n",
       "      <td>1</td>\n",
       "      <td>0</td>\n",
       "      <td>1</td>\n",
       "      <td>0</td>\n",
       "      <td>0</td>\n",
       "      <td>0</td>\n",
       "    </tr>\n",
       "  </tbody>\n",
       "</table>\n",
       "<p>3778 rows × 103 columns</p>\n",
       "</div>"
      ],
      "text/plain": [
       "                    TF1      TF2  0  1   2   3   4   5   6  7  ...  91  92  \\\n",
       "POU3F2-SMARCA5   POU3F2  SMARCA5  2  0   0   7   0  15   0  1  ...   0   0   \n",
       "SMARCA5-POU3F2  SMARCA5   POU3F2  2  0   0   7   0  15   0  1  ...   0   0   \n",
       "POU2F1-SMARCA5   POU2F1  SMARCA5  0  2   0  39   0   0  12  1  ...   4   0   \n",
       "SMARCA5-POU2F1  SMARCA5   POU2F1  0  2   0  39   0   0  12  1  ...   4   0   \n",
       "SMARCA5-ZNF582  SMARCA5   ZNF582  0  0  38   0  36   1   1  2  ...   0   4   \n",
       "...                 ...      ... .. ..  ..  ..  ..  ..  .. ..  ...  ..  ..   \n",
       "NFYB-EGR2          NFYB     EGR2  2  0   1   0   0   0   1  0  ...   0   0   \n",
       "MYOG-TAF1          MYOG     TAF1  0  1   1   0   1   0   0  0  ...   0   0   \n",
       "TAF1-MYOG          TAF1     MYOG  0  1   1   0   1   0   0  0  ...   0   0   \n",
       "ETV1-ZBTB17        ETV1   ZBTB17  0  0   0   0   0   0   1  1  ...   0   0   \n",
       "ZBTB17-ETV1      ZBTB17     ETV1  0  0   0   0   0   0   1  1  ...   0   0   \n",
       "\n",
       "                93  94  95  96  97  98  99  100  \n",
       "POU3F2-SMARCA5   7   1   6   0   0   3   0    3  \n",
       "SMARCA5-POU3F2   7   1   6   0   0   3   0    3  \n",
       "POU2F1-SMARCA5   5   0   0   4   0   1   0    1  \n",
       "SMARCA5-POU2F1   5   0   0   4   0   1   0    1  \n",
       "SMARCA5-ZNF582   0   2   0   0   2   0   1    0  \n",
       "...             ..  ..  ..  ..  ..  ..  ..  ...  \n",
       "NFYB-EGR2        0   0   0   0   1   0   0    0  \n",
       "MYOG-TAF1        0   0   0   0   0   0   1    0  \n",
       "TAF1-MYOG        0   0   0   0   0   0   1    0  \n",
       "ETV1-ZBTB17      0   1   1   0   1   0   0    0  \n",
       "ZBTB17-ETV1      0   1   1   0   1   0   0    0  \n",
       "\n",
       "[3778 rows x 103 columns]"
      ]
     },
     "execution_count": 12,
     "metadata": {},
     "output_type": "execute_result"
    }
   ],
   "source": [
    "selection.distObj.distances"
   ]
  },
  {
   "cell_type": "markdown",
   "metadata": {},
   "source": [
    "### Additional options for counting distances\n",
    "<a id=\"neg\"></a>\n",
    "\n",
    "#### Negative distances\n",
    "Negative distances indicate overlapping. Caveat: this is basepair resolution and strongly dependend on motif length. \\\n",
    "Negative distance can occur if the distance anchor is set to _inner_ mode (see [Anchor mode](#Anchor-mode)) and overlapping is allowed. \n",
    "\n",
    "#### Anchor mode\n",
    "\n",
    "TFCOMB distance analysis supports three different anchor modes: _inner_ , _outer_ and _center_. The recommended mode is __inner__. \n",
    "\n",
    "1. inner (default, recommented) is the distance *between* the transcription factors, it is measures as _start(transcription factor B) - end(transcription factor A)_. If for example transcription factor B is directly adjacent to Transcription factor A, the difference will be zero.\n",
    "2. center is the distance measured from mid of transcription factor to mid of transcription factor\n",
    "3. outer (uncommonly used) is the distance measured including both transcription factors. _end(transcription factor B) - start(transcription factor A)_"
   ]
  },
  {
   "cell_type": "markdown",
   "metadata": {},
   "source": [
    "#### Directionality\n",
    "Since we didn't count directional, the values for the pairs TF1-TF2 and TF2-TF1 should be equal. For example in the DataFrame above the results for _ZNF121_-_ZNF770_ are the same as for _ZNF770_-_ZNF121_. This is not true if directionality is considered. \n",
    "\n",
    "__Note:__ If directionality is not considered, the duplicates can be filtered with .simplify_rules()\n"
   ]
  },
  {
   "cell_type": "markdown",
   "metadata": {},
   "source": [
    "#### Plotting\n",
    "There are different ways to plot the distance distribution, you can for example create a kernel density estimate (KDE) plot or a histogram of the distribution."
   ]
  },
  {
   "cell_type": "code",
   "execution_count": 13,
   "metadata": {},
   "outputs": [
    {
     "data": {
      "text/plain": [
       "<AxesSubplot:title={'center':'ZNF121-ZNF770'}, xlabel='Distance (bp)', ylabel='Count per distance'>"
      ]
     },
     "execution_count": 13,
     "metadata": {},
     "output_type": "execute_result"
    },
    {
     "data": {
      "image/png": "[encoded data removed]",
      "text/plain": [
       "<Figure size 432x288 with 1 Axes>"
      ]
     },
     "metadata": {
      "needs_background": "light"
     },
     "output_type": "display_data"
    }
   ],
   "source": [
    "selection.distObj.plot((\"ZNF121\", \"ZNF770\"), style=\"kde\")"
   ]
  },
  {
   "cell_type": "code",
   "execution_count": 14,
   "metadata": {},
   "outputs": [
    {
     "data": {
      "text/plain": [
       "<AxesSubplot:title={'center':'ZNF121-ZNF770'}, xlabel='Distance (bp)', ylabel='Count per distance'>"
      ]
     },
     "execution_count": 14,
     "metadata": {},
     "output_type": "execute_result"
    },
    {
     "data": {
      "image/png": "[encoded data removed]",
      "text/plain": [
       "<Figure size 432x288 with 1 Axes>"
      ]
     },
     "metadata": {
      "needs_background": "light"
     },
     "output_type": "display_data"
    }
   ],
   "source": [
    "selection.distObj.plot((\"ZNF121\", \"ZNF770\"), style=\"hist\")"
   ]
  },
  {
   "cell_type": "markdown",
   "metadata": {},
   "source": [
    "For __both__ plots the __x-axis__ shows the distance in bp. \\\n",
    "<a id=\"dist\"></a>\n",
    "For example a distance of 100 means the anchors (depending on anchor mode, please refere to [Anchor mode](#Anchor-mode) on this topic) are 100 bp away of each other. [Here](#negative-distances) is an explanation for the _neg_ distance.\\\n",
    "For the __y-axis__ of the __kde plot__ the density estimation is shown. \\\n",
    "For the __y-axis__ of the __histogram__ the counts per distance is shown."
   ]
  },
  {
   "cell_type": "markdown",
   "metadata": {},
   "source": [
    "<a id=\"3\"></a>\n",
    "\n",
    "### 3. Smoothing counts "
   ]
  },
  {
   "cell_type": "markdown",
   "metadata": {},
   "source": [
    "In order to collect distances from more than one basepair, e.g. in a window, it is possible to smooth the counted distances. This is done using the function .smooth() of the distObj:"
   ]
  },
  {
   "cell_type": "code",
   "execution_count": 15,
   "metadata": {},
   "outputs": [
    {
     "name": "stdout",
     "output_type": "stream",
     "text": [
      "INFO: Smoothing signals with window size 3\n"
     ]
    }
   ],
   "source": [
    "selection.distObj.smooth(window_size=3)"
   ]
  },
  {
   "cell_type": "markdown",
   "metadata": {},
   "source": [
    "The smoothed (min-max-scaled) distances are visible in the .smoothed variable:"
   ]
  },
  {
   "cell_type": "code",
   "execution_count": 16,
   "metadata": {},
   "outputs": [
    {
     "data": {
      "text/html": [
       "<div>\n",
       "<style scoped>\n",
       "    .dataframe tbody tr th:only-of-type {\n",
       "        vertical-align: middle;\n",
       "    }\n",
       "\n",
       "    .dataframe tbody tr th {\n",
       "        vertical-align: top;\n",
       "    }\n",
       "\n",
       "    .dataframe thead th {\n",
       "        text-align: right;\n",
       "    }\n",
       "</style>\n",
       "<table border=\"1\" class=\"dataframe\">\n",
       "  <thead>\n",
       "    <tr style=\"text-align: right;\">\n",
       "      <th></th>\n",
       "      <th>TF1</th>\n",
       "      <th>TF2</th>\n",
       "      <th>1</th>\n",
       "      <th>2</th>\n",
       "      <th>3</th>\n",
       "      <th>4</th>\n",
       "      <th>5</th>\n",
       "      <th>6</th>\n",
       "      <th>7</th>\n",
       "      <th>8</th>\n",
       "      <th>...</th>\n",
       "      <th>90</th>\n",
       "      <th>91</th>\n",
       "      <th>92</th>\n",
       "      <th>93</th>\n",
       "      <th>94</th>\n",
       "      <th>95</th>\n",
       "      <th>96</th>\n",
       "      <th>97</th>\n",
       "      <th>98</th>\n",
       "      <th>99</th>\n",
       "    </tr>\n",
       "  </thead>\n",
       "  <tbody>\n",
       "    <tr>\n",
       "      <th>POU3F2-SMARCA5</th>\n",
       "      <td>POU3F2</td>\n",
       "      <td>SMARCA5</td>\n",
       "      <td>0.666667</td>\n",
       "      <td>2.333333</td>\n",
       "      <td>2.333333</td>\n",
       "      <td>7.333333</td>\n",
       "      <td>5.000000</td>\n",
       "      <td>5.333333</td>\n",
       "      <td>10.333333</td>\n",
       "      <td>10.333333</td>\n",
       "      <td>...</td>\n",
       "      <td>1.666667</td>\n",
       "      <td>1.666667</td>\n",
       "      <td>2.333333</td>\n",
       "      <td>2.666667</td>\n",
       "      <td>4.666667</td>\n",
       "      <td>2.333333</td>\n",
       "      <td>2.000000</td>\n",
       "      <td>1.000000</td>\n",
       "      <td>1.000000</td>\n",
       "      <td>2.000000</td>\n",
       "    </tr>\n",
       "    <tr>\n",
       "      <th>SMARCA5-POU3F2</th>\n",
       "      <td>SMARCA5</td>\n",
       "      <td>POU3F2</td>\n",
       "      <td>0.666667</td>\n",
       "      <td>2.333333</td>\n",
       "      <td>2.333333</td>\n",
       "      <td>7.333333</td>\n",
       "      <td>5.000000</td>\n",
       "      <td>5.333333</td>\n",
       "      <td>10.333333</td>\n",
       "      <td>10.333333</td>\n",
       "      <td>...</td>\n",
       "      <td>1.666667</td>\n",
       "      <td>1.666667</td>\n",
       "      <td>2.333333</td>\n",
       "      <td>2.666667</td>\n",
       "      <td>4.666667</td>\n",
       "      <td>2.333333</td>\n",
       "      <td>2.000000</td>\n",
       "      <td>1.000000</td>\n",
       "      <td>1.000000</td>\n",
       "      <td>2.000000</td>\n",
       "    </tr>\n",
       "    <tr>\n",
       "      <th>POU2F1-SMARCA5</th>\n",
       "      <td>POU2F1</td>\n",
       "      <td>SMARCA5</td>\n",
       "      <td>0.666667</td>\n",
       "      <td>13.666667</td>\n",
       "      <td>13.000000</td>\n",
       "      <td>13.000000</td>\n",
       "      <td>4.000000</td>\n",
       "      <td>4.333333</td>\n",
       "      <td>5.333333</td>\n",
       "      <td>1.333333</td>\n",
       "      <td>...</td>\n",
       "      <td>1.333333</td>\n",
       "      <td>1.333333</td>\n",
       "      <td>3.000000</td>\n",
       "      <td>1.666667</td>\n",
       "      <td>1.666667</td>\n",
       "      <td>1.333333</td>\n",
       "      <td>1.333333</td>\n",
       "      <td>1.666667</td>\n",
       "      <td>0.333333</td>\n",
       "      <td>0.666667</td>\n",
       "    </tr>\n",
       "    <tr>\n",
       "      <th>SMARCA5-POU2F1</th>\n",
       "      <td>SMARCA5</td>\n",
       "      <td>POU2F1</td>\n",
       "      <td>0.666667</td>\n",
       "      <td>13.666667</td>\n",
       "      <td>13.000000</td>\n",
       "      <td>13.000000</td>\n",
       "      <td>4.000000</td>\n",
       "      <td>4.333333</td>\n",
       "      <td>5.333333</td>\n",
       "      <td>1.333333</td>\n",
       "      <td>...</td>\n",
       "      <td>1.333333</td>\n",
       "      <td>1.333333</td>\n",
       "      <td>3.000000</td>\n",
       "      <td>1.666667</td>\n",
       "      <td>1.666667</td>\n",
       "      <td>1.333333</td>\n",
       "      <td>1.333333</td>\n",
       "      <td>1.666667</td>\n",
       "      <td>0.333333</td>\n",
       "      <td>0.666667</td>\n",
       "    </tr>\n",
       "    <tr>\n",
       "      <th>SMARCA5-ZNF582</th>\n",
       "      <td>SMARCA5</td>\n",
       "      <td>ZNF582</td>\n",
       "      <td>12.666667</td>\n",
       "      <td>12.666667</td>\n",
       "      <td>24.666667</td>\n",
       "      <td>12.333333</td>\n",
       "      <td>12.666667</td>\n",
       "      <td>1.333333</td>\n",
       "      <td>1.333333</td>\n",
       "      <td>3.333333</td>\n",
       "      <td>...</td>\n",
       "      <td>1.333333</td>\n",
       "      <td>1.333333</td>\n",
       "      <td>1.333333</td>\n",
       "      <td>2.000000</td>\n",
       "      <td>0.666667</td>\n",
       "      <td>0.666667</td>\n",
       "      <td>0.666667</td>\n",
       "      <td>0.666667</td>\n",
       "      <td>1.000000</td>\n",
       "      <td>0.333333</td>\n",
       "    </tr>\n",
       "  </tbody>\n",
       "</table>\n",
       "<p>5 rows × 101 columns</p>\n",
       "</div>"
      ],
      "text/plain": [
       "                    TF1      TF2          1          2          3          4  \\\n",
       "POU3F2-SMARCA5   POU3F2  SMARCA5   0.666667   2.333333   2.333333   7.333333   \n",
       "SMARCA5-POU3F2  SMARCA5   POU3F2   0.666667   2.333333   2.333333   7.333333   \n",
       "POU2F1-SMARCA5   POU2F1  SMARCA5   0.666667  13.666667  13.000000  13.000000   \n",
       "SMARCA5-POU2F1  SMARCA5   POU2F1   0.666667  13.666667  13.000000  13.000000   \n",
       "SMARCA5-ZNF582  SMARCA5   ZNF582  12.666667  12.666667  24.666667  12.333333   \n",
       "\n",
       "                        5         6          7          8  ...        90  \\\n",
       "POU3F2-SMARCA5   5.000000  5.333333  10.333333  10.333333  ...  1.666667   \n",
       "SMARCA5-POU3F2   5.000000  5.333333  10.333333  10.333333  ...  1.666667   \n",
       "POU2F1-SMARCA5   4.000000  4.333333   5.333333   1.333333  ...  1.333333   \n",
       "SMARCA5-POU2F1   4.000000  4.333333   5.333333   1.333333  ...  1.333333   \n",
       "SMARCA5-ZNF582  12.666667  1.333333   1.333333   3.333333  ...  1.333333   \n",
       "\n",
       "                      91        92        93        94        95        96  \\\n",
       "POU3F2-SMARCA5  1.666667  2.333333  2.666667  4.666667  2.333333  2.000000   \n",
       "SMARCA5-POU3F2  1.666667  2.333333  2.666667  4.666667  2.333333  2.000000   \n",
       "POU2F1-SMARCA5  1.333333  3.000000  1.666667  1.666667  1.333333  1.333333   \n",
       "SMARCA5-POU2F1  1.333333  3.000000  1.666667  1.666667  1.333333  1.333333   \n",
       "SMARCA5-ZNF582  1.333333  1.333333  2.000000  0.666667  0.666667  0.666667   \n",
       "\n",
       "                      97        98        99  \n",
       "POU3F2-SMARCA5  1.000000  1.000000  2.000000  \n",
       "SMARCA5-POU3F2  1.000000  1.000000  2.000000  \n",
       "POU2F1-SMARCA5  1.666667  0.333333  0.666667  \n",
       "SMARCA5-POU2F1  1.666667  0.333333  0.666667  \n",
       "SMARCA5-ZNF582  0.666667  1.000000  0.333333  \n",
       "\n",
       "[5 rows x 101 columns]"
      ]
     },
     "execution_count": 16,
     "metadata": {},
     "output_type": "execute_result"
    }
   ],
   "source": [
    "selection.distObj.smoothed.head()"
   ]
  },
  {
   "cell_type": "markdown",
   "metadata": {},
   "source": [
    "<a id=\"4\"></a>\n",
    "\n",
    "### 4. Scale counts (optional)\n",
    "\n",
    "Optionally, it is possible to scale the counts to be in the same ranges regardless of number of counts per pair."
   ]
  },
  {
   "cell_type": "code",
   "execution_count": 17,
   "metadata": {},
   "outputs": [],
   "source": [
    "selection_copy = selection.copy() #create a copy to not alter the real selection object\n",
    "selection_copy.distObj.scale()"
   ]
  },
  {
   "cell_type": "code",
   "execution_count": 18,
   "metadata": {},
   "outputs": [
    {
     "data": {
      "text/html": [
       "<div>\n",
       "<style scoped>\n",
       "    .dataframe tbody tr th:only-of-type {\n",
       "        vertical-align: middle;\n",
       "    }\n",
       "\n",
       "    .dataframe tbody tr th {\n",
       "        vertical-align: top;\n",
       "    }\n",
       "\n",
       "    .dataframe thead th {\n",
       "        text-align: right;\n",
       "    }\n",
       "</style>\n",
       "<table border=\"1\" class=\"dataframe\">\n",
       "  <thead>\n",
       "    <tr style=\"text-align: right;\">\n",
       "      <th></th>\n",
       "      <th>TF1</th>\n",
       "      <th>TF2</th>\n",
       "      <th>1</th>\n",
       "      <th>2</th>\n",
       "      <th>3</th>\n",
       "      <th>4</th>\n",
       "      <th>5</th>\n",
       "      <th>6</th>\n",
       "      <th>7</th>\n",
       "      <th>8</th>\n",
       "      <th>...</th>\n",
       "      <th>90</th>\n",
       "      <th>91</th>\n",
       "      <th>92</th>\n",
       "      <th>93</th>\n",
       "      <th>94</th>\n",
       "      <th>95</th>\n",
       "      <th>96</th>\n",
       "      <th>97</th>\n",
       "      <th>98</th>\n",
       "      <th>99</th>\n",
       "    </tr>\n",
       "  </thead>\n",
       "  <tbody>\n",
       "    <tr>\n",
       "      <th>POU3F2-SMARCA5</th>\n",
       "      <td>POU3F2</td>\n",
       "      <td>SMARCA5</td>\n",
       "      <td>0.017857</td>\n",
       "      <td>0.107143</td>\n",
       "      <td>0.107143</td>\n",
       "      <td>0.375</td>\n",
       "      <td>0.250000</td>\n",
       "      <td>0.267857</td>\n",
       "      <td>0.535714</td>\n",
       "      <td>0.535714</td>\n",
       "      <td>...</td>\n",
       "      <td>0.071429</td>\n",
       "      <td>0.071429</td>\n",
       "      <td>0.107143</td>\n",
       "      <td>0.125000</td>\n",
       "      <td>0.232143</td>\n",
       "      <td>0.107143</td>\n",
       "      <td>0.089286</td>\n",
       "      <td>0.035714</td>\n",
       "      <td>0.035714</td>\n",
       "      <td>0.089286</td>\n",
       "    </tr>\n",
       "    <tr>\n",
       "      <th>SMARCA5-POU3F2</th>\n",
       "      <td>SMARCA5</td>\n",
       "      <td>POU3F2</td>\n",
       "      <td>0.017857</td>\n",
       "      <td>0.107143</td>\n",
       "      <td>0.107143</td>\n",
       "      <td>0.375</td>\n",
       "      <td>0.250000</td>\n",
       "      <td>0.267857</td>\n",
       "      <td>0.535714</td>\n",
       "      <td>0.535714</td>\n",
       "      <td>...</td>\n",
       "      <td>0.071429</td>\n",
       "      <td>0.071429</td>\n",
       "      <td>0.107143</td>\n",
       "      <td>0.125000</td>\n",
       "      <td>0.232143</td>\n",
       "      <td>0.107143</td>\n",
       "      <td>0.089286</td>\n",
       "      <td>0.035714</td>\n",
       "      <td>0.035714</td>\n",
       "      <td>0.089286</td>\n",
       "    </tr>\n",
       "    <tr>\n",
       "      <th>POU2F1-SMARCA5</th>\n",
       "      <td>POU2F1</td>\n",
       "      <td>SMARCA5</td>\n",
       "      <td>0.025000</td>\n",
       "      <td>1.000000</td>\n",
       "      <td>0.950000</td>\n",
       "      <td>0.950</td>\n",
       "      <td>0.275000</td>\n",
       "      <td>0.300000</td>\n",
       "      <td>0.375000</td>\n",
       "      <td>0.075000</td>\n",
       "      <td>...</td>\n",
       "      <td>0.075000</td>\n",
       "      <td>0.075000</td>\n",
       "      <td>0.200000</td>\n",
       "      <td>0.100000</td>\n",
       "      <td>0.100000</td>\n",
       "      <td>0.075000</td>\n",
       "      <td>0.075000</td>\n",
       "      <td>0.100000</td>\n",
       "      <td>0.000000</td>\n",
       "      <td>0.025000</td>\n",
       "    </tr>\n",
       "    <tr>\n",
       "      <th>SMARCA5-POU2F1</th>\n",
       "      <td>SMARCA5</td>\n",
       "      <td>POU2F1</td>\n",
       "      <td>0.025000</td>\n",
       "      <td>1.000000</td>\n",
       "      <td>0.950000</td>\n",
       "      <td>0.950</td>\n",
       "      <td>0.275000</td>\n",
       "      <td>0.300000</td>\n",
       "      <td>0.375000</td>\n",
       "      <td>0.075000</td>\n",
       "      <td>...</td>\n",
       "      <td>0.075000</td>\n",
       "      <td>0.075000</td>\n",
       "      <td>0.200000</td>\n",
       "      <td>0.100000</td>\n",
       "      <td>0.100000</td>\n",
       "      <td>0.075000</td>\n",
       "      <td>0.075000</td>\n",
       "      <td>0.100000</td>\n",
       "      <td>0.000000</td>\n",
       "      <td>0.025000</td>\n",
       "    </tr>\n",
       "    <tr>\n",
       "      <th>SMARCA5-ZNF582</th>\n",
       "      <td>SMARCA5</td>\n",
       "      <td>ZNF582</td>\n",
       "      <td>0.513514</td>\n",
       "      <td>0.513514</td>\n",
       "      <td>1.000000</td>\n",
       "      <td>0.500</td>\n",
       "      <td>0.513514</td>\n",
       "      <td>0.054054</td>\n",
       "      <td>0.054054</td>\n",
       "      <td>0.135135</td>\n",
       "      <td>...</td>\n",
       "      <td>0.054054</td>\n",
       "      <td>0.054054</td>\n",
       "      <td>0.054054</td>\n",
       "      <td>0.081081</td>\n",
       "      <td>0.027027</td>\n",
       "      <td>0.027027</td>\n",
       "      <td>0.027027</td>\n",
       "      <td>0.027027</td>\n",
       "      <td>0.040541</td>\n",
       "      <td>0.013514</td>\n",
       "    </tr>\n",
       "  </tbody>\n",
       "</table>\n",
       "<p>5 rows × 101 columns</p>\n",
       "</div>"
      ],
      "text/plain": [
       "                    TF1      TF2         1         2         3      4  \\\n",
       "POU3F2-SMARCA5   POU3F2  SMARCA5  0.017857  0.107143  0.107143  0.375   \n",
       "SMARCA5-POU3F2  SMARCA5   POU3F2  0.017857  0.107143  0.107143  0.375   \n",
       "POU2F1-SMARCA5   POU2F1  SMARCA5  0.025000  1.000000  0.950000  0.950   \n",
       "SMARCA5-POU2F1  SMARCA5   POU2F1  0.025000  1.000000  0.950000  0.950   \n",
       "SMARCA5-ZNF582  SMARCA5   ZNF582  0.513514  0.513514  1.000000  0.500   \n",
       "\n",
       "                       5         6         7         8  ...        90  \\\n",
       "POU3F2-SMARCA5  0.250000  0.267857  0.535714  0.535714  ...  0.071429   \n",
       "SMARCA5-POU3F2  0.250000  0.267857  0.535714  0.535714  ...  0.071429   \n",
       "POU2F1-SMARCA5  0.275000  0.300000  0.375000  0.075000  ...  0.075000   \n",
       "SMARCA5-POU2F1  0.275000  0.300000  0.375000  0.075000  ...  0.075000   \n",
       "SMARCA5-ZNF582  0.513514  0.054054  0.054054  0.135135  ...  0.054054   \n",
       "\n",
       "                      91        92        93        94        95        96  \\\n",
       "POU3F2-SMARCA5  0.071429  0.107143  0.125000  0.232143  0.107143  0.089286   \n",
       "SMARCA5-POU3F2  0.071429  0.107143  0.125000  0.232143  0.107143  0.089286   \n",
       "POU2F1-SMARCA5  0.075000  0.200000  0.100000  0.100000  0.075000  0.075000   \n",
       "SMARCA5-POU2F1  0.075000  0.200000  0.100000  0.100000  0.075000  0.075000   \n",
       "SMARCA5-ZNF582  0.054054  0.054054  0.081081  0.027027  0.027027  0.027027   \n",
       "\n",
       "                      97        98        99  \n",
       "POU3F2-SMARCA5  0.035714  0.035714  0.089286  \n",
       "SMARCA5-POU3F2  0.035714  0.035714  0.089286  \n",
       "POU2F1-SMARCA5  0.100000  0.000000  0.025000  \n",
       "SMARCA5-POU2F1  0.100000  0.000000  0.025000  \n",
       "SMARCA5-ZNF582  0.027027  0.040541  0.013514  \n",
       "\n",
       "[5 rows x 101 columns]"
      ]
     },
     "execution_count": 18,
     "metadata": {},
     "output_type": "execute_result"
    }
   ],
   "source": [
    "selection_copy.distObj.scaled.head()"
   ]
  },
  {
   "cell_type": "markdown",
   "metadata": {},
   "source": [
    "<a id=\"5\"></a>\n",
    "\n",
    "### 5. Background correction"
   ]
  },
  {
   "cell_type": "markdown",
   "metadata": {},
   "source": [
    "To separate the signal from the background noise a linear regression for every signal needs to be fitted next. The result of the fitted line for every pair can be found in the .linres attribute of the distance object."
   ]
  },
  {
   "cell_type": "code",
   "execution_count": 19,
   "metadata": {},
   "outputs": [
    {
     "name": "stdout",
     "output_type": "stream",
     "text": [
      "INFO: Background correction finished! Results can be found in .corrected\n"
     ]
    }
   ],
   "source": [
    "selection.distObj.correct_background(threads=6)"
   ]
  },
  {
   "cell_type": "markdown",
   "metadata": {},
   "source": [
    "The fitted lowess function can be plotted with the .plot() command. The __red line__ indicates the linear regression line which was fitted during this step. "
   ]
  },
  {
   "cell_type": "code",
   "execution_count": 20,
   "metadata": {},
   "outputs": [
    {
     "data": {
      "image/png": "[encoded data removed]",
      "text/plain": [
       "<Figure size 432x288 with 1 Axes>"
      ]
     },
     "metadata": {
      "needs_background": "light"
     },
     "output_type": "display_data"
    }
   ],
   "source": [
    "_ = selection.distObj.plot((\"ZNF121\", \"ZNF770\"), method=\"correction\")"
   ]
  },
  {
   "cell_type": "markdown",
   "metadata": {},
   "source": [
    "After correction, the plotting function will show the corrected counts:"
   ]
  },
  {
   "cell_type": "code",
   "execution_count": 21,
   "metadata": {},
   "outputs": [
    {
     "data": {
      "image/png": "[encoded data removed]",
      "text/plain": [
       "<Figure size 432x288 with 1 Axes>"
      ]
     },
     "metadata": {
      "needs_background": "light"
     },
     "output_type": "display_data"
    }
   ],
   "source": [
    "_ = selection.distObj.plot((\"ZNF121\", \"ZNF770\"))"
   ]
  },
  {
   "cell_type": "markdown",
   "metadata": {},
   "source": [
    "<a id=\"6\"></a>\n",
    "\n",
    "### 6. Analyse signal "
   ]
  },
  {
   "cell_type": "markdown",
   "metadata": {},
   "source": [
    "As a last step, the corrected signal can now be analyzed. Peaks will be called with [_scipy.signal.find_peaks()_](https://docs.scipy.org/doc/scipy/reference/generated/scipy.signal.find_peaks.html). Two different methods are available: \n",
    "\n",
    "1. \"zscore\" \n",
    "2. \"flat\" (number)"
   ]
  },
  {
   "cell_type": "markdown",
   "metadata": {},
   "source": [
    "<a id=\"zscore\"></a>\n",
    "\n",
    "#### Zscore method"
   ]
  },
  {
   "cell_type": "markdown",
   "metadata": {},
   "source": [
    "If prominence is set to __zscore__, the threshold is set in relation to the zscore (of the corrected signal) for each signal. For example if threshold is 2, the threshold prominence (for the score translated signal) will be a zscore of two. "
   ]
  },
  {
   "cell_type": "code",
   "execution_count": 22,
   "metadata": {},
   "outputs": [
    {
     "name": "stdout",
     "output_type": "stream",
     "text": [
      "INFO: Analyzing Signal with threads 6\n",
      "INFO: Calculating zscores for signals\n",
      "INFO: Finding preferred distances\n",
      "INFO: Done analyzing signal. Results are found in .peaks\n"
     ]
    },
    {
     "data": {
      "text/html": [
       "<div>\n",
       "<style scoped>\n",
       "    .dataframe tbody tr th:only-of-type {\n",
       "        vertical-align: middle;\n",
       "    }\n",
       "\n",
       "    .dataframe tbody tr th {\n",
       "        vertical-align: top;\n",
       "    }\n",
       "\n",
       "    .dataframe thead th {\n",
       "        text-align: right;\n",
       "    }\n",
       "</style>\n",
       "<table border=\"1\" class=\"dataframe\">\n",
       "  <thead>\n",
       "    <tr style=\"text-align: right;\">\n",
       "      <th></th>\n",
       "      <th>TF1</th>\n",
       "      <th>TF2</th>\n",
       "      <th>Distance</th>\n",
       "      <th>Peak Heights</th>\n",
       "      <th>Prominences</th>\n",
       "      <th>Threshold</th>\n",
       "      <th>TF1_TF2_count</th>\n",
       "      <th>Distance_count</th>\n",
       "      <th>Distance_percent</th>\n",
       "      <th>Distance_window</th>\n",
       "    </tr>\n",
       "  </thead>\n",
       "  <tbody>\n",
       "    <tr>\n",
       "      <th>ZFP82-SMARCA5</th>\n",
       "      <td>ZFP82</td>\n",
       "      <td>SMARCA5</td>\n",
       "      <td>8</td>\n",
       "      <td>6.547058</td>\n",
       "      <td>7.582435</td>\n",
       "      <td>2</td>\n",
       "      <td>198</td>\n",
       "      <td>46</td>\n",
       "      <td>23.232323</td>\n",
       "      <td>[7;9]</td>\n",
       "    </tr>\n",
       "    <tr>\n",
       "      <th>SMARCA5-ZFP82</th>\n",
       "      <td>SMARCA5</td>\n",
       "      <td>ZFP82</td>\n",
       "      <td>8</td>\n",
       "      <td>6.547058</td>\n",
       "      <td>7.582435</td>\n",
       "      <td>2</td>\n",
       "      <td>198</td>\n",
       "      <td>46</td>\n",
       "      <td>23.232323</td>\n",
       "      <td>[7;9]</td>\n",
       "    </tr>\n",
       "    <tr>\n",
       "      <th>ZNF394-SMARCA5</th>\n",
       "      <td>ZNF394</td>\n",
       "      <td>SMARCA5</td>\n",
       "      <td>5</td>\n",
       "      <td>6.940786</td>\n",
       "      <td>7.474373</td>\n",
       "      <td>2</td>\n",
       "      <td>187</td>\n",
       "      <td>74</td>\n",
       "      <td>39.572193</td>\n",
       "      <td>[4;6]</td>\n",
       "    </tr>\n",
       "    <tr>\n",
       "      <th>SMARCA5-ZNF394</th>\n",
       "      <td>SMARCA5</td>\n",
       "      <td>ZNF394</td>\n",
       "      <td>5</td>\n",
       "      <td>6.940786</td>\n",
       "      <td>7.474373</td>\n",
       "      <td>2</td>\n",
       "      <td>187</td>\n",
       "      <td>74</td>\n",
       "      <td>39.572193</td>\n",
       "      <td>[4;6]</td>\n",
       "    </tr>\n",
       "    <tr>\n",
       "      <th>POU3F2-SMARCA5</th>\n",
       "      <td>POU3F2</td>\n",
       "      <td>SMARCA5</td>\n",
       "      <td>9</td>\n",
       "      <td>6.584317</td>\n",
       "      <td>7.402690</td>\n",
       "      <td>2</td>\n",
       "      <td>234</td>\n",
       "      <td>57</td>\n",
       "      <td>24.358974</td>\n",
       "      <td>[8;10]</td>\n",
       "    </tr>\n",
       "    <tr>\n",
       "      <th>...</th>\n",
       "      <td>...</td>\n",
       "      <td>...</td>\n",
       "      <td>...</td>\n",
       "      <td>...</td>\n",
       "      <td>...</td>\n",
       "      <td>...</td>\n",
       "      <td>...</td>\n",
       "      <td>...</td>\n",
       "      <td>...</td>\n",
       "      <td>...</td>\n",
       "    </tr>\n",
       "    <tr>\n",
       "      <th>ETV5-ZSCAN22</th>\n",
       "      <td>ETV5</td>\n",
       "      <td>ZSCAN22</td>\n",
       "      <td>98</td>\n",
       "      <td>2.010752</td>\n",
       "      <td>2.010752</td>\n",
       "      <td>2</td>\n",
       "      <td>64</td>\n",
       "      <td>3</td>\n",
       "      <td>4.687500</td>\n",
       "      <td>[97;99]</td>\n",
       "    </tr>\n",
       "    <tr>\n",
       "      <th>ZBTB17-RFX1</th>\n",
       "      <td>ZBTB17</td>\n",
       "      <td>RFX1</td>\n",
       "      <td>1</td>\n",
       "      <td>2.010639</td>\n",
       "      <td>2.010639</td>\n",
       "      <td>2</td>\n",
       "      <td>30</td>\n",
       "      <td>1</td>\n",
       "      <td>3.333333</td>\n",
       "      <td>[1;2]</td>\n",
       "    </tr>\n",
       "    <tr>\n",
       "      <th>RFX1-ZBTB17</th>\n",
       "      <td>RFX1</td>\n",
       "      <td>ZBTB17</td>\n",
       "      <td>1</td>\n",
       "      <td>2.010639</td>\n",
       "      <td>2.010639</td>\n",
       "      <td>2</td>\n",
       "      <td>30</td>\n",
       "      <td>1</td>\n",
       "      <td>3.333333</td>\n",
       "      <td>[1;2]</td>\n",
       "    </tr>\n",
       "    <tr>\n",
       "      <th>WT1-ZIC3</th>\n",
       "      <td>WT1</td>\n",
       "      <td>ZIC3</td>\n",
       "      <td>48</td>\n",
       "      <td>2.226574</td>\n",
       "      <td>2.005542</td>\n",
       "      <td>2</td>\n",
       "      <td>51</td>\n",
       "      <td>4</td>\n",
       "      <td>7.843137</td>\n",
       "      <td>[47;49]</td>\n",
       "    </tr>\n",
       "    <tr>\n",
       "      <th>ZIC3-WT1</th>\n",
       "      <td>ZIC3</td>\n",
       "      <td>WT1</td>\n",
       "      <td>48</td>\n",
       "      <td>2.226574</td>\n",
       "      <td>2.005542</td>\n",
       "      <td>2</td>\n",
       "      <td>51</td>\n",
       "      <td>4</td>\n",
       "      <td>7.843137</td>\n",
       "      <td>[47;49]</td>\n",
       "    </tr>\n",
       "  </tbody>\n",
       "</table>\n",
       "<p>8160 rows × 10 columns</p>\n",
       "</div>"
      ],
      "text/plain": [
       "                    TF1      TF2  Distance  Peak Heights  Prominences  \\\n",
       "ZFP82-SMARCA5     ZFP82  SMARCA5         8      6.547058     7.582435   \n",
       "SMARCA5-ZFP82   SMARCA5    ZFP82         8      6.547058     7.582435   \n",
       "ZNF394-SMARCA5   ZNF394  SMARCA5         5      6.940786     7.474373   \n",
       "SMARCA5-ZNF394  SMARCA5   ZNF394         5      6.940786     7.474373   \n",
       "POU3F2-SMARCA5   POU3F2  SMARCA5         9      6.584317     7.402690   \n",
       "...                 ...      ...       ...           ...          ...   \n",
       "ETV5-ZSCAN22       ETV5  ZSCAN22        98      2.010752     2.010752   \n",
       "ZBTB17-RFX1      ZBTB17     RFX1         1      2.010639     2.010639   \n",
       "RFX1-ZBTB17        RFX1   ZBTB17         1      2.010639     2.010639   \n",
       "WT1-ZIC3            WT1     ZIC3        48      2.226574     2.005542   \n",
       "ZIC3-WT1           ZIC3      WT1        48      2.226574     2.005542   \n",
       "\n",
       "                Threshold  TF1_TF2_count  Distance_count  Distance_percent  \\\n",
       "ZFP82-SMARCA5           2            198              46         23.232323   \n",
       "SMARCA5-ZFP82           2            198              46         23.232323   \n",
       "ZNF394-SMARCA5          2            187              74         39.572193   \n",
       "SMARCA5-ZNF394          2            187              74         39.572193   \n",
       "POU3F2-SMARCA5          2            234              57         24.358974   \n",
       "...                   ...            ...             ...               ...   \n",
       "ETV5-ZSCAN22            2             64               3          4.687500   \n",
       "ZBTB17-RFX1             2             30               1          3.333333   \n",
       "RFX1-ZBTB17             2             30               1          3.333333   \n",
       "WT1-ZIC3                2             51               4          7.843137   \n",
       "ZIC3-WT1                2             51               4          7.843137   \n",
       "\n",
       "               Distance_window  \n",
       "ZFP82-SMARCA5            [7;9]  \n",
       "SMARCA5-ZFP82            [7;9]  \n",
       "ZNF394-SMARCA5           [4;6]  \n",
       "SMARCA5-ZNF394           [4;6]  \n",
       "POU3F2-SMARCA5          [8;10]  \n",
       "...                        ...  \n",
       "ETV5-ZSCAN22           [97;99]  \n",
       "ZBTB17-RFX1              [1;2]  \n",
       "RFX1-ZBTB17              [1;2]  \n",
       "WT1-ZIC3               [47;49]  \n",
       "ZIC3-WT1               [47;49]  \n",
       "\n",
       "[8160 rows x 10 columns]"
      ]
     },
     "execution_count": 22,
     "metadata": {},
     "output_type": "execute_result"
    }
   ],
   "source": [
    "selection.distObj.analyze_signal_all(method=\"zscore\", threshold=2, threads=6)\n",
    "selection.distObj.peaks"
   ]
  },
  {
   "cell_type": "markdown",
   "metadata": {},
   "source": [
    "The resulting dataframe is constructed as followed: \n",
    "- __columns__: First the transcription factor for the pair (TF1, TF2) followed by \n",
    "\n",
    "    1. __Distance__ in bp \\\n",
    "    2. __Peak Heights__ height of the peak (calculated by [_find_peaks()_](https://docs.scipy.org/doc/scipy/reference/generated/scipy.signal.find_peaks.html)). \\\n",
    "    3. __Prominences__ prominence of the peak (calculated by [_find_peaks()_](https://docs.scipy.org/doc/scipy/reference/generated/scipy.signal.find_peaks.html)). \\\n",
    "    4. __Threshold__ minimum prominence needed to be considered as peak (in this example the [zscore](#5.B.-Zscore) of the signal). \\\n",
    "    5. __TF1_TF2_count__ is the total number of co-occurring TF1-TF2 sites. \\\n",
    "    6. __Distance_count__ The number of co-occurrences for the given distance. \\\n",
    "    7. __Distance_percent__ The percent of Distance_count of the total sites (TF1_TF2_count). \\\n",
    "    8. __Distance_window__ The distances collected for the given distance. Will be a window if smoothing was applied. \\\n",
    "    \n",
    "    \n",
    "- __rows__: each row representing one rule (pair) at a distinct prefered binding distance with the corresponding results\n",
    "\n",
    "The signal and peaks can now be plotted with the .plot() command."
   ]
  },
  {
   "cell_type": "code",
   "execution_count": 23,
   "metadata": {},
   "outputs": [
    {
     "data": {
      "text/plain": [
       "<AxesSubplot:title={'center':'ZNF121-ZNF770'}, xlabel='Distance (bp)', ylabel='Z-score normalized counts'>"
      ]
     },
     "execution_count": 23,
     "metadata": {},
     "output_type": "execute_result"
    },
    {
     "data": {
      "image/png": "[encoded data removed]",
      "text/plain": [
       "<Figure size 432x288 with 1 Axes>"
      ]
     },
     "metadata": {
      "needs_background": "light"
     },
     "output_type": "display_data"
    }
   ],
   "source": [
    "selection.distObj.plot((\"ZNF121\", \"ZNF770\"))"
   ]
  },
  {
   "cell_type": "markdown",
   "metadata": {},
   "source": [
    "This plot shows the __corrected__ signal with the __called peaks__, indicated by a cross.\n",
    "\n",
    "\n",
    "The __grey dottet line__ shows the decision boundary (in this example a zscore of 2)"
   ]
  },
  {
   "cell_type": "code",
   "execution_count": 24,
   "metadata": {},
   "outputs": [
    {
     "data": {
      "text/html": [
       "<div>\n",
       "<style scoped>\n",
       "    .dataframe tbody tr th:only-of-type {\n",
       "        vertical-align: middle;\n",
       "    }\n",
       "\n",
       "    .dataframe tbody tr th {\n",
       "        vertical-align: top;\n",
       "    }\n",
       "\n",
       "    .dataframe thead th {\n",
       "        text-align: right;\n",
       "    }\n",
       "</style>\n",
       "<table border=\"1\" class=\"dataframe\">\n",
       "  <thead>\n",
       "    <tr style=\"text-align: right;\">\n",
       "      <th></th>\n",
       "      <th>TF1</th>\n",
       "      <th>TF2</th>\n",
       "      <th>Distance</th>\n",
       "      <th>Peak Heights</th>\n",
       "      <th>Prominences</th>\n",
       "      <th>Threshold</th>\n",
       "      <th>TF1_TF2_count</th>\n",
       "      <th>Distance_count</th>\n",
       "      <th>Distance_percent</th>\n",
       "      <th>Distance_window</th>\n",
       "    </tr>\n",
       "  </thead>\n",
       "  <tbody>\n",
       "    <tr>\n",
       "      <th>ZNF121-ZNF770</th>\n",
       "      <td>ZNF121</td>\n",
       "      <td>ZNF770</td>\n",
       "      <td>26</td>\n",
       "      <td>4.043651</td>\n",
       "      <td>4.443567</td>\n",
       "      <td>2</td>\n",
       "      <td>1319</td>\n",
       "      <td>381</td>\n",
       "      <td>28.885519</td>\n",
       "      <td>[25;27]</td>\n",
       "    </tr>\n",
       "    <tr>\n",
       "      <th>ZNF121-ZNF770</th>\n",
       "      <td>ZNF121</td>\n",
       "      <td>ZNF770</td>\n",
       "      <td>58</td>\n",
       "      <td>3.906961</td>\n",
       "      <td>4.353073</td>\n",
       "      <td>2</td>\n",
       "      <td>1319</td>\n",
       "      <td>376</td>\n",
       "      <td>28.506444</td>\n",
       "      <td>[57;59]</td>\n",
       "    </tr>\n",
       "    <tr>\n",
       "      <th>ZNF121-ZNF770</th>\n",
       "      <td>ZNF121</td>\n",
       "      <td>ZNF770</td>\n",
       "      <td>66</td>\n",
       "      <td>2.068096</td>\n",
       "      <td>2.270661</td>\n",
       "      <td>2</td>\n",
       "      <td>1319</td>\n",
       "      <td>220</td>\n",
       "      <td>16.679303</td>\n",
       "      <td>[65;67]</td>\n",
       "    </tr>\n",
       "  </tbody>\n",
       "</table>\n",
       "</div>"
      ],
      "text/plain": [
       "                  TF1     TF2  Distance  Peak Heights  Prominences  Threshold  \\\n",
       "ZNF121-ZNF770  ZNF121  ZNF770        26      4.043651     4.443567          2   \n",
       "ZNF121-ZNF770  ZNF121  ZNF770        58      3.906961     4.353073          2   \n",
       "ZNF121-ZNF770  ZNF121  ZNF770        66      2.068096     2.270661          2   \n",
       "\n",
       "               TF1_TF2_count  Distance_count  Distance_percent Distance_window  \n",
       "ZNF121-ZNF770           1319             381         28.885519         [25;27]  \n",
       "ZNF121-ZNF770           1319             376         28.506444         [57;59]  \n",
       "ZNF121-ZNF770           1319             220         16.679303         [65;67]  "
      ]
     },
     "execution_count": 24,
     "metadata": {},
     "output_type": "execute_result"
    }
   ],
   "source": [
    "selection.distObj.peaks.loc[(selection.distObj.peaks.TF1 == \"ZNF121\") & (selection.distObj.peaks.TF2 == \"ZNF770\")]"
   ]
  },
  {
   "cell_type": "markdown",
   "metadata": {},
   "source": [
    "The results in the .peaks table and the plot matches. For this _ZNF121_-_ZNF770_ 3 peaks were found, which also can be seen in the plot at positions: \n",
    "\n",
    "   1. distance: 26 \n",
    "   2. distance: 58\n",
    "   3. distance: 66 \n",
    "    \n",
    "Meaning the zscore threshold with stringency of 2 identifies 3 different preferred distances for this pair. Please note, that the height of the distances differ!"
   ]
  },
  {
   "cell_type": "markdown",
   "metadata": {},
   "source": [
    "<a id=\"flat\"></a>\n",
    "#### Flat threshold"
   ]
  },
  {
   "cell_type": "markdown",
   "metadata": {},
   "source": [
    "Using a flat threshold, it is possible to only find peaks with a certain number of counts as seen here:"
   ]
  },
  {
   "cell_type": "code",
   "execution_count": 25,
   "metadata": {},
   "outputs": [
    {
     "name": "stdout",
     "output_type": "stream",
     "text": [
      "INFO: Analyzing Signal with threads 6\n",
      "INFO: Calculating zscores for signals\n",
      "INFO: Finding preferred distances\n",
      "INFO: Done analyzing signal. Results are found in .peaks\n"
     ]
    },
    {
     "data": {
      "text/html": [
       "<div>\n",
       "<style scoped>\n",
       "    .dataframe tbody tr th:only-of-type {\n",
       "        vertical-align: middle;\n",
       "    }\n",
       "\n",
       "    .dataframe tbody tr th {\n",
       "        vertical-align: top;\n",
       "    }\n",
       "\n",
       "    .dataframe thead th {\n",
       "        text-align: right;\n",
       "    }\n",
       "</style>\n",
       "<table border=\"1\" class=\"dataframe\">\n",
       "  <thead>\n",
       "    <tr style=\"text-align: right;\">\n",
       "      <th></th>\n",
       "      <th>TF1</th>\n",
       "      <th>TF2</th>\n",
       "      <th>Distance</th>\n",
       "      <th>Peak Heights</th>\n",
       "      <th>Prominences</th>\n",
       "      <th>Threshold</th>\n",
       "      <th>TF1_TF2_count</th>\n",
       "      <th>Distance_count</th>\n",
       "      <th>Distance_percent</th>\n",
       "      <th>Distance_window</th>\n",
       "    </tr>\n",
       "  </thead>\n",
       "  <tbody>\n",
       "    <tr>\n",
       "      <th>ZNF121-ZNF770</th>\n",
       "      <td>ZNF121</td>\n",
       "      <td>ZNF770</td>\n",
       "      <td>26</td>\n",
       "      <td>125.175641</td>\n",
       "      <td>125.839985</td>\n",
       "      <td>80</td>\n",
       "      <td>1319</td>\n",
       "      <td>381</td>\n",
       "      <td>28.885519</td>\n",
       "      <td>[25;27]</td>\n",
       "    </tr>\n",
       "    <tr>\n",
       "      <th>ZNF770-ZNF121</th>\n",
       "      <td>ZNF770</td>\n",
       "      <td>ZNF121</td>\n",
       "      <td>26</td>\n",
       "      <td>125.175641</td>\n",
       "      <td>125.839985</td>\n",
       "      <td>80</td>\n",
       "      <td>1319</td>\n",
       "      <td>381</td>\n",
       "      <td>28.885519</td>\n",
       "      <td>[25;27]</td>\n",
       "    </tr>\n",
       "    <tr>\n",
       "      <th>ZNF121-ZNF770</th>\n",
       "      <td>ZNF121</td>\n",
       "      <td>ZNF770</td>\n",
       "      <td>58</td>\n",
       "      <td>121.304647</td>\n",
       "      <td>123.277229</td>\n",
       "      <td>80</td>\n",
       "      <td>1319</td>\n",
       "      <td>376</td>\n",
       "      <td>28.506444</td>\n",
       "      <td>[57;59]</td>\n",
       "    </tr>\n",
       "    <tr>\n",
       "      <th>ZNF770-ZNF121</th>\n",
       "      <td>ZNF770</td>\n",
       "      <td>ZNF121</td>\n",
       "      <td>58</td>\n",
       "      <td>121.304647</td>\n",
       "      <td>123.277229</td>\n",
       "      <td>80</td>\n",
       "      <td>1319</td>\n",
       "      <td>376</td>\n",
       "      <td>28.506444</td>\n",
       "      <td>[57;59]</td>\n",
       "    </tr>\n",
       "    <tr>\n",
       "      <th>PAX5-ZNF770</th>\n",
       "      <td>PAX5</td>\n",
       "      <td>ZNF770</td>\n",
       "      <td>56</td>\n",
       "      <td>104.564327</td>\n",
       "      <td>106.526327</td>\n",
       "      <td>80</td>\n",
       "      <td>896</td>\n",
       "      <td>325</td>\n",
       "      <td>36.272321</td>\n",
       "      <td>[55;57]</td>\n",
       "    </tr>\n",
       "    <tr>\n",
       "      <th>ZNF770-PAX5</th>\n",
       "      <td>ZNF770</td>\n",
       "      <td>PAX5</td>\n",
       "      <td>56</td>\n",
       "      <td>104.564327</td>\n",
       "      <td>106.526327</td>\n",
       "      <td>80</td>\n",
       "      <td>896</td>\n",
       "      <td>325</td>\n",
       "      <td>36.272321</td>\n",
       "      <td>[55;57]</td>\n",
       "    </tr>\n",
       "  </tbody>\n",
       "</table>\n",
       "</div>"
      ],
      "text/plain": [
       "                  TF1     TF2  Distance  Peak Heights  Prominences  Threshold  \\\n",
       "ZNF121-ZNF770  ZNF121  ZNF770        26    125.175641   125.839985         80   \n",
       "ZNF770-ZNF121  ZNF770  ZNF121        26    125.175641   125.839985         80   \n",
       "ZNF121-ZNF770  ZNF121  ZNF770        58    121.304647   123.277229         80   \n",
       "ZNF770-ZNF121  ZNF770  ZNF121        58    121.304647   123.277229         80   \n",
       "PAX5-ZNF770      PAX5  ZNF770        56    104.564327   106.526327         80   \n",
       "ZNF770-PAX5    ZNF770    PAX5        56    104.564327   106.526327         80   \n",
       "\n",
       "               TF1_TF2_count  Distance_count  Distance_percent Distance_window  \n",
       "ZNF121-ZNF770           1319             381         28.885519         [25;27]  \n",
       "ZNF770-ZNF121           1319             381         28.885519         [25;27]  \n",
       "ZNF121-ZNF770           1319             376         28.506444         [57;59]  \n",
       "ZNF770-ZNF121           1319             376         28.506444         [57;59]  \n",
       "PAX5-ZNF770              896             325         36.272321         [55;57]  \n",
       "ZNF770-PAX5              896             325         36.272321         [55;57]  "
      ]
     },
     "execution_count": 25,
     "metadata": {},
     "output_type": "execute_result"
    }
   ],
   "source": [
    "selection.distObj.analyze_signal_all(method=\"flat\", threshold=80, threads=6)\n",
    "selection.distObj.peaks"
   ]
  },
  {
   "cell_type": "code",
   "execution_count": 26,
   "metadata": {},
   "outputs": [
    {
     "data": {
      "text/plain": [
       "<AxesSubplot:title={'center':'ZNF121-ZNF770'}, xlabel='Distance (bp)', ylabel='Count per distance'>"
      ]
     },
     "execution_count": 26,
     "metadata": {},
     "output_type": "execute_result"
    },
    {
     "data": {
      "image/png": "[encoded data removed]",
      "text/plain": [
       "<Figure size 432x288 with 1 Axes>"
      ]
     },
     "metadata": {
      "needs_background": "light"
     },
     "output_type": "display_data"
    }
   ],
   "source": [
    "selection.distObj.plot((\"ZNF121\", \"ZNF770\"))"
   ]
  },
  {
   "cell_type": "markdown",
   "metadata": {},
   "source": [
    "----------------"
   ]
  },
  {
   "cell_type": "markdown",
   "metadata": {},
   "source": [
    "## Further downstream analysis"
   ]
  },
  {
   "cell_type": "markdown",
   "metadata": {},
   "source": [
    "<a id=\"hubs\"></a>\n",
    "\n",
    "### 1.  Analyzing hubs\n",
    "\n",
    "This function allows to summarize the number of different partners (with at least one peak) each transcription factor has."
   ]
  },
  {
   "cell_type": "code",
   "execution_count": 27,
   "metadata": {},
   "outputs": [
    {
     "data": {
      "text/plain": [
       "PAX5      1\n",
       "ZNF121    1\n",
       "ZNF770    2\n",
       "dtype: int64"
      ]
     },
     "execution_count": 27,
     "metadata": {},
     "output_type": "execute_result"
    }
   ],
   "source": [
    "selection.distObj.analyze_hubs().sort_values()"
   ]
  },
  {
   "cell_type": "markdown",
   "metadata": {},
   "source": [
    "<a id=\"classification\"></a>\n",
    "\n",
    "### 2. Signal classification\n",
    "\n",
    "This function allows to classify the pairs (in .distance DataFrame) wheather the signal is peaking or not."
   ]
  },
  {
   "cell_type": "code",
   "execution_count": 28,
   "metadata": {},
   "outputs": [
    {
     "name": "stdout",
     "output_type": "stream",
     "text": [
      "INFO: classifying rules\n",
      "INFO: classifcation done. Results can be found in .classified\n"
     ]
    },
    {
     "data": {
      "text/html": [
       "<div>\n",
       "<style scoped>\n",
       "    .dataframe tbody tr th:only-of-type {\n",
       "        vertical-align: middle;\n",
       "    }\n",
       "\n",
       "    .dataframe tbody tr th {\n",
       "        vertical-align: top;\n",
       "    }\n",
       "\n",
       "    .dataframe thead th {\n",
       "        text-align: right;\n",
       "    }\n",
       "</style>\n",
       "<table border=\"1\" class=\"dataframe\">\n",
       "  <thead>\n",
       "    <tr style=\"text-align: right;\">\n",
       "      <th></th>\n",
       "      <th>TF1</th>\n",
       "      <th>TF2</th>\n",
       "      <th>isPeaking</th>\n",
       "    </tr>\n",
       "  </thead>\n",
       "  <tbody>\n",
       "    <tr>\n",
       "      <th>POU3F2-SMARCA5</th>\n",
       "      <td>POU3F2</td>\n",
       "      <td>SMARCA5</td>\n",
       "      <td>False</td>\n",
       "    </tr>\n",
       "    <tr>\n",
       "      <th>ELK4-WT1</th>\n",
       "      <td>ELK4</td>\n",
       "      <td>WT1</td>\n",
       "      <td>False</td>\n",
       "    </tr>\n",
       "    <tr>\n",
       "      <th>WT1-ELK4</th>\n",
       "      <td>WT1</td>\n",
       "      <td>ELK4</td>\n",
       "      <td>False</td>\n",
       "    </tr>\n",
       "    <tr>\n",
       "      <th>ELF2-SP1</th>\n",
       "      <td>ELF2</td>\n",
       "      <td>SP1</td>\n",
       "      <td>False</td>\n",
       "    </tr>\n",
       "    <tr>\n",
       "      <th>SP1-ELF2</th>\n",
       "      <td>SP1</td>\n",
       "      <td>ELF2</td>\n",
       "      <td>False</td>\n",
       "    </tr>\n",
       "    <tr>\n",
       "      <th>...</th>\n",
       "      <td>...</td>\n",
       "      <td>...</td>\n",
       "      <td>...</td>\n",
       "    </tr>\n",
       "    <tr>\n",
       "      <th>ZBTB17-ETV1</th>\n",
       "      <td>ZBTB17</td>\n",
       "      <td>ETV1</td>\n",
       "      <td>False</td>\n",
       "    </tr>\n",
       "    <tr>\n",
       "      <th>ZNF121-ZNF770</th>\n",
       "      <td>ZNF121</td>\n",
       "      <td>ZNF770</td>\n",
       "      <td>True</td>\n",
       "    </tr>\n",
       "    <tr>\n",
       "      <th>PAX5-ZNF770</th>\n",
       "      <td>PAX5</td>\n",
       "      <td>ZNF770</td>\n",
       "      <td>True</td>\n",
       "    </tr>\n",
       "    <tr>\n",
       "      <th>ZNF770-PAX5</th>\n",
       "      <td>ZNF770</td>\n",
       "      <td>PAX5</td>\n",
       "      <td>True</td>\n",
       "    </tr>\n",
       "    <tr>\n",
       "      <th>ZNF770-ZNF121</th>\n",
       "      <td>ZNF770</td>\n",
       "      <td>ZNF121</td>\n",
       "      <td>True</td>\n",
       "    </tr>\n",
       "  </tbody>\n",
       "</table>\n",
       "<p>3778 rows × 3 columns</p>\n",
       "</div>"
      ],
      "text/plain": [
       "                   TF1      TF2  isPeaking\n",
       "POU3F2-SMARCA5  POU3F2  SMARCA5      False\n",
       "ELK4-WT1          ELK4      WT1      False\n",
       "WT1-ELK4           WT1     ELK4      False\n",
       "ELF2-SP1          ELF2      SP1      False\n",
       "SP1-ELF2           SP1     ELF2      False\n",
       "...                ...      ...        ...\n",
       "ZBTB17-ETV1     ZBTB17     ETV1      False\n",
       "ZNF121-ZNF770   ZNF121   ZNF770       True\n",
       "PAX5-ZNF770       PAX5   ZNF770       True\n",
       "ZNF770-PAX5     ZNF770     PAX5       True\n",
       "ZNF770-ZNF121   ZNF770   ZNF121       True\n",
       "\n",
       "[3778 rows x 3 columns]"
      ]
     },
     "execution_count": 28,
     "metadata": {},
     "output_type": "execute_result"
    }
   ],
   "source": [
    "selection.distObj.classify_rules()\n",
    "selection.distObj.classified.sort_values(by=\"isPeaking\")"
   ]
  },
  {
   "cell_type": "markdown",
   "metadata": {},
   "source": [
    "True means the signal has at least one peak found, False otherwise."
   ]
  }
 ],
 "metadata": {
  "language_info": {
   "name": "python"
  }
 },
 "nbformat": 4,
 "nbformat_minor": 4
}
